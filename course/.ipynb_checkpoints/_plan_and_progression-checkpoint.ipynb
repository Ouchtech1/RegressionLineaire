{
 "cells": [
  {
   "cell_type": "markdown",
   "id": "fd239864",
   "metadata": {},
   "source": [
    "## Introduction (succinte) au Machine Learning\n",
    "***\n",
    "\n",
    "### 🟣 `course/0_intro.ipynb`\n",
    "\n",
    "#### Définition du Machine Learning\n",
    "#### La régression linéaire de Francis Galton\n",
    "\n",
    "### 🟣 `course/1_types_and_sota.ipynb`\n",
    "\n",
    "#### Différentes familles (non orthogonales) d'apprentissage\n",
    "\n",
    "<br><br>"
   ]
  },
  {
   "cell_type": "markdown",
   "id": "410087f7",
   "metadata": {},
   "source": [
    "## Setup Python pour la Data Science\n",
    "***\n",
    "\n",
    "\n",
    "### 🟣 `setup/0_setup_python_for_data.pdf` \n",
    "\n",
    "#### Installation de Python pour la Data-Science\n",
    "\n",
    "### ⚪ `setup/1_setup_full_project_env_and_git.html` \n",
    "\n",
    "#### Architecture d'un projet Python (exemple: `projets/projet_I`)\n",
    "\n",
    "\n",
    "### ⚪ `setup/2_setup_virtual_env_for_jupyter_lab.md` \n",
    "\n",
    "#### Interaction environnement virtuel et Jupyterlab\n",
    "<br><br>"
   ]
  },
  {
   "cell_type": "markdown",
   "id": "18d6fc1a",
   "metadata": {},
   "source": [
    "## Revisions Python\n",
    "***\n",
    "\n",
    "### ⚪ `revisions/exercices_revisions_1.ipynb`\n",
    "\n",
    "### ⚪ `revisions/exercices_revisions_2.ipynb`\n",
    "\n",
    "### ⚪ `revisions/exercices_revisions_3.ipynb`\n",
    "\n",
    "\n",
    "<br><br>"
   ]
  },
  {
   "cell_type": "markdown",
   "id": "92a8c0f7",
   "metadata": {},
   "source": [
    "## Introduction à Pandas\n",
    "***\n",
    "\n",
    "### 🟣 `course/2_pandas_intro.ipynb`\n",
    "\n",
    "#### Introduction à Pandas\n",
    "\n",
    "#### Manipulation de données\n",
    "\n",
    "#### Principales structures de données\n",
    "\n",
    "### 🟣 `course/3_pandas_ex.ipynb` \n",
    "\n",
    "##### 🟣 [Ex. 1] Data CO2\n",
    "**Toutes les questions**\n",
    "\n",
    "##### 🟣 [Ex. 2] Création de données de tests\n",
    "**Questions 1 à 3**\n",
    "\n",
    "\n",
    "<br><br>\n"
   ]
  },
  {
   "cell_type": "markdown",
   "id": "349b5873",
   "metadata": {},
   "source": [
    "## Statistiques Descriptives\n",
    "***\n",
    "\n",
    "### ⚪ `course/5_stats_des.ipynb`\n",
    "\n",
    "\n",
    "\n",
    "##### Notions préliminaires\n",
    "##### Types de variables et représentations\n",
    "##### Variables quantitatives : mesures de centralité, de dispersion et d'asymétrie\n",
    "##### Implémentation en pandas\n",
    "\n",
    "<br><br>"
   ]
  },
  {
   "cell_type": "markdown",
   "id": "707497fe",
   "metadata": {},
   "source": [
    "## Pandas avancé et intro à la régression linéaire\n",
    "***\n",
    "\n",
    "### 🔴 `course/6_linear_regression.ipynb` \n",
    "\n",
    "\n",
    "### 🟣 `course/3_pandas_ex.ipynb` \n",
    "\n",
    "##### 🟣 [Ex. 3] Imdb dataset\n",
    "**Toutes les questions**\n",
    "\n",
    "\n",
    "##### 🟣 [Ex. 4] Une question d'entretien\n",
    "**Toutes les questions**\n",
    "\n",
    "### 🟣 `course/7_stats_des_linear_regr_ex.ipynb` \n",
    "\n",
    "\n",
    "### 🟣 `course/9_linear_regression_applied.ipynb`\n",
    "\n",
    "\n",
    "\n",
    "\n",
    "\n",
    "<br><br>"
   ]
  },
  {
   "cell_type": "code",
   "execution_count": null,
   "id": "afc625ba",
   "metadata": {},
   "outputs": [],
   "source": []
  },
  {
   "cell_type": "markdown",
   "id": "ac562a14",
   "metadata": {},
   "source": [
    "## Introduction à la classification\n",
    "***\n",
    "\n",
    "### 🔴 `projets/projet_II` "
   ]
  },
  {
   "cell_type": "code",
   "execution_count": null,
   "id": "ffa385ca",
   "metadata": {},
   "outputs": [],
   "source": []
  },
  {
   "cell_type": "code",
   "execution_count": null,
   "id": "41c6ebb6",
   "metadata": {},
   "outputs": [],
   "source": []
  }
 ],
 "metadata": {
  "kernelspec": {
   "display_name": "env_specific_name_2",
   "language": "python",
   "name": "env"
  },
  "language_info": {
   "codemirror_mode": {
    "name": "ipython",
    "version": 3
   },
   "file_extension": ".py",
   "mimetype": "text/x-python",
   "name": "python",
   "nbconvert_exporter": "python",
   "pygments_lexer": "ipython3",
   "version": "3.11.4"
  }
 },
 "nbformat": 4,
 "nbformat_minor": 5
}
