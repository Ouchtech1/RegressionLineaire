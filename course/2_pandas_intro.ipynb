{
 "cells": [
  {
   "cell_type": "markdown",
   "id": "32b2b432",
   "metadata": {},
   "source": [
    "# [Cours] Premier pas avec `pandas`\n",
    "### <span style=\"color:#7E7E7E\"> Montrons que Pandas > Excel</span>\n",
    "\n",
    "<img src=\"../images/meme-excel-pandas.jpeg\"  width=\"80%\" height=\"30%\" style=\"margin:auto;\">"
   ]
  },
  {
   "cell_type": "markdown",
   "id": "8c743885",
   "metadata": {},
   "source": [
    "# I. Introduction à <code>pandas</code>\n",
    "***\n",
    "\n",
    "> <code>pandas</code> a été crée par le statisticen Américain Wes McKinney. Son nom provient de **\"Panel Data\"**, qui désigne un type de données multi-dimensionnelles. Ce type de données correspond par exemple à l'observation de caractéristiques de plusieurs individus, aux mêmes instants. Les structures de données de Pandas sont conçues pour gérer et analyser ce genre de données (mais pas que!). "
   ]
  },
  {
   "cell_type": "markdown",
   "id": "2e4b2aea",
   "metadata": {},
   "source": [
    "## A. Vue d'ensemble de <code>pandas</code>\n",
    "***"
   ]
  },
  {
   "cell_type": "markdown",
   "id": "097c2acc",
   "metadata": {},
   "source": [
    "### 1. La librairie reine du stack Data en Python ...\n",
    "> Avec 36.5k stars sur Github <code>pandas</code> est la librairie Python la plus populaire pour la manipulation de données. Elle permet entre autres de lire, modifier, analyser et exporter des données de différentes natures : tabulaires, quantitatives, catégorielles (nominales et ordinales), temporelles, géospatiales...\n",
    "\n",
    "\n"
   ]
  },
  {
   "cell_type": "markdown",
   "id": "73abf1d1",
   "metadata": {},
   "source": [
    "### 2. ... n'a pas la place qu'elle mérite\n",
    "<span style=\"color:blue\"> Il est à noter que <code>pandas</code> est dans l'immense majorité des cas l'outil le plus important à disposition d'un Data Scientist. </span> Une attention particulière est donnée aux librairies qui permettent de : \n",
    "- modéliser ou de faire du machine learning(<code>scipy</code>, <code>statsmodels</code> , <code>sklearn</code>,  <code>keras</code> ...) \n",
    "- visualiser(<code>matplotlib</code>, <code>seaborn</code>, <code>plotly</code> ...)\n",
    "\n",
    "La modélisation, la prédiction et la visualisation sont souvent les composantes d'un projet data qui sont les plus \"sexy\".\n",
    "    \n",
    "**Pour autant, <code>pandas</code> est l'outil qui rendra possible la modélisation et la visualisation via la création et le formattage d'un dataset propre. Avoir un dataset de bonne qualité est un pré-requis indispensable pour que ces efforts soient réalisés dans de bonnes conditions.** \n",
    "\n",
    "**Lors d'entretiens, on rencontre beaucoup de candidats qui sont bien plus à l'aise avec <code>sklearn</code> qu'avec <code>pandas</code>... <span style=\"color:red\">Note de l'auteur : c'est à mon sens un red flag. On souhaite recruter des candidats qui puisse bâtir des solutions robustes, lisibles et efficaces - et qui en prennent la pleine mesure - et apprennent donc à utiliser les outils permettant ensuite de faire du Machine Learning dans les bonnes conditions.</span>**\n",
    "    \n",
    "\n"
   ]
  },
  {
   "cell_type": "markdown",
   "id": "47e92c5e",
   "metadata": {},
   "source": [
    "### 3. Cas d'usage\n",
    "\n",
    "<code>pandas</code> a énormément de cas d'usages. Elle permet de lire, écrire, manipuler, nettoyer, transformer, et analyser des données. De nombreuses intégrations sont facilitées (usage de base de données SQL ou MongoDB, formats hdf5, fichiers Excels ou CSV...). La librairie peut donc autant été utilisée avec un notebook pour de l'analyse que dans du code en production. Elle permet généralement de développer beaucoup plus vite qu'en implémentant en Python pur. De même, en terme de complexité temporelle, la performance est souvent meilleure.\n",
    "\n",
    "**C'est donc le premier outil vers lequel se tourner dans l'immense majorité des cas, dès que l'on veut manipuler des données tabulaires.**\n",
    "\n",
    "**La documentation officielle cite les use-cases suivant :**\n",
    "\n",
    "- Manipulation de données tabulaires de types différents (exactement comme une table SQL ou une spreadsheet Excel)\n",
    "- Manipulation de séries temporelles et données géospatiales\n",
    "- Analyse statistique (si l'analyse est simple ``pandas``peut suffire, sinon, on se servira de ``pandas``pour manipuler les données et d'une autre librairie pour l'analyse et la modélisation)\n",
    "    \n",
    "- ``pandas`` permet de facilement gérer les cas suivants : \n",
    "    - Création de DataFrames à partir d'objets déjà existants : \n",
    "        - A partir d'objets Python de base\n",
    "        - A partir d'objets ``numpy``   \n",
    "    - Changement du format des dataframes : \n",
    "        - Ajout / suppression de colonnes (variables)\n",
    "        - Ajout / suppression de lignes (observations)   \n",
    "    - Indexation des observations : \n",
    "        - Les indexes peuvent être de types différents (``string``, ``int``, ``float``, ``datetime`` ...)\n",
    "        - On peut avoir plusieurs indexes   \n",
    "    - Aggregation / \"Groupby\" : \n",
    "        - On peut facilement aggréger\n",
    "        - On peut facilement transformer les données en se basant sur une aggrégation\n",
    "    - Slicing - sélection sur un critère :\n",
    "        - Filtrer les valeurs sur une variable\n",
    "        - Filtrer les valeurs sur un index   \n",
    "    - Jointures / concaténation\n",
    "    - Reformatage / Pivot\n",
    "    - Gestion des données manquantes (représentées avec le type ``numpy.nan``) \n",
    "    - Import de données à partir de fichiers de divers types :\n",
    "        - CSV\n",
    "        - Excel\n",
    "        - Format pickle (natif Python)\n",
    "        - Format natifs SAS / R\n",
    "        - HDF5\n",
    "        - Import direct depuis ``SQL`` ou `MongoDB`   \n",
    "    - Manipulation de séries temporelles\n",
    "    - Manipulation de données géospatiales\n",
    "\n"
   ]
  },
  {
   "cell_type": "markdown",
   "id": "ad4a03dd",
   "metadata": {},
   "source": [
    "### 4. Une note sur l'implémentation de <code>pandas</code>\n",
    "\n",
    "La librairie peut être vue comme une surcouche au-dessus de la librairie <code>numpy</code>, puisque la structure des </code>array</code> est énormément utilisée. \n",
    "\n",
    "Elle permet une manipulation des données plus proches de ce qu'on attendrait d'un logiciel de type tableur qu'avec <code>numpy</code>. Le code est plus lisible grâce à un indexing plus complet et gérant plus de types (<code>string</code>, <code>datetime</code>...), et des méthodes moins mathématiques que dans <code>numpy</code>et plus \"pratiques\". \n",
    "\n",
    "En revanche, **la vectorisation des opérations est facilitée ce qui mène (souvent) à une très bonne performance (il faut en revanche parfois vérifier si la méthode que l'on utilise est la bonne d'un point de vue de la complexité temporelle 😉 )**.\n",
    "\n",
    "<span style=\"color:purple\">Avec un niveau intermédiaire en Python, et pour atteindre un niveau plus avancé, il est très pédagogique de regarder le code source des librairies les plus utilisées ou \"ayant bonne réputation\", et d'essayer de le comprendre. [Le code source de la librairie](https://github.com/pandas-dev/pandas) ne déroge pas à la règle. L'implémentation de la classe <code>Dataframe</code> est disponible [ici](https://github.com/pandas-dev/pandas/blob/v0.22.0/pandas/core/frame.py#L236).</span>\n",
    "    "
   ]
  },
  {
   "cell_type": "markdown",
   "id": "7aa710d6",
   "metadata": {},
   "source": [
    "## B. Installation et usage\n",
    "***"
   ]
  },
  {
   "cell_type": "markdown",
   "id": "effe80a4",
   "metadata": {},
   "source": [
    "### 1. Installation\n",
    "\n",
    "Installation via invite de commande **bash**\n",
    "```bash\n",
    "pip install pandas\n",
    "```\n",
    "\n",
    "Installation via une cellule code d'un notebook **Python**\n",
    "```bash\n",
    "!pip install pandas\n",
    "```\n",
    "\n",
    "**Il faut parfois remplacer <code>pip</code> par <code>pip3</code> (par exemple si Python2 et Python3 cohabite sur la machine)**\n",
    "\n",
    "### 2. Installation dans un environnment virtuel \n",
    "```bash\n",
    "# Ou avec pyenv:\n",
    "# ~/.pyenv/versions/3.11.4/bin/python -m venv env\n",
    "python3 -m venv env\n",
    "source env/bin/activate\n",
    "```\n",
    " \n",
    "**Pour Windows**\n",
    "https://docs.python.org/fr/3/library/venv.html#how-venvs-work"
   ]
  },
  {
   "cell_type": "markdown",
   "id": "8476d530",
   "metadata": {},
   "source": [
    "### 3. Import dans un fichier `.py` ou `.ipynb`\n",
    "Import en **python**\n",
    "```python\n",
    "import pandas as pd\n",
    "```"
   ]
  },
  {
   "cell_type": "code",
   "execution_count": 1,
   "id": "e871e4b0",
   "metadata": {},
   "outputs": [
    {
     "data": {
      "text/plain": [
       "'2.2.2'"
      ]
     },
     "execution_count": 1,
     "metadata": {},
     "output_type": "execute_result"
    }
   ],
   "source": [
    "import pandas as pd\n",
    "pd.__version__"
   ]
  },
  {
   "cell_type": "markdown",
   "id": "01c47d14",
   "metadata": {},
   "source": [
    "\n",
    "# II. Principales structures de données de <code>pandas</code>\n",
    "***\n",
    ">  <code>pandas</code> propose deux structures de données principales pour travailler avec des données : \n",
    "`Serie` et `DataFrame`. Une `Serie` est essentiellement une colonne (une variable), et une `DataFrame` est une collection de `Series` représentant un tableau.\n",
    "\n",
    "**Dans l'exemple ci-dessous, `df` est une `DataFrame` et `df['name']` et `df['age']` sont des `Serie`**. "
   ]
  },
  {
   "cell_type": "code",
   "execution_count": 2,
   "id": "8b626fef",
   "metadata": {},
   "outputs": [
    {
     "data": {
      "text/html": [
       "<div>\n",
       "<style scoped>\n",
       "    .dataframe tbody tr th:only-of-type {\n",
       "        vertical-align: middle;\n",
       "    }\n",
       "\n",
       "    .dataframe tbody tr th {\n",
       "        vertical-align: top;\n",
       "    }\n",
       "\n",
       "    .dataframe thead th {\n",
       "        text-align: right;\n",
       "    }\n",
       "</style>\n",
       "<table border=\"1\" class=\"dataframe\">\n",
       "  <thead>\n",
       "    <tr style=\"text-align: right;\">\n",
       "      <th></th>\n",
       "      <th>name</th>\n",
       "      <th>age</th>\n",
       "    </tr>\n",
       "  </thead>\n",
       "  <tbody>\n",
       "    <tr>\n",
       "      <th>0</th>\n",
       "      <td>Don</td>\n",
       "      <td>38</td>\n",
       "    </tr>\n",
       "    <tr>\n",
       "      <th>1</th>\n",
       "      <td>Roger</td>\n",
       "      <td>56</td>\n",
       "    </tr>\n",
       "    <tr>\n",
       "      <th>2</th>\n",
       "      <td>Peggy</td>\n",
       "      <td>28</td>\n",
       "    </tr>\n",
       "  </tbody>\n",
       "</table>\n",
       "</div>"
      ],
      "text/plain": [
       "    name  age\n",
       "0    Don   38\n",
       "1  Roger   56\n",
       "2  Peggy   28"
      ]
     },
     "execution_count": 2,
     "metadata": {},
     "output_type": "execute_result"
    }
   ],
   "source": [
    "import pandas as pd\n",
    "df = pd.DataFrame([[\"Don\", 38], [\"Roger\", 56], [\"Peggy\", 28]], columns=[\"name\", \"age\"], dtype=None)\n",
    "df"
   ]
  },
  {
   "cell_type": "code",
   "execution_count": 3,
   "id": "03cb7640",
   "metadata": {},
   "outputs": [
    {
     "data": {
      "text/plain": [
       "0      Don\n",
       "1    Roger\n",
       "2    Peggy\n",
       "Name: name, dtype: object"
      ]
     },
     "execution_count": 3,
     "metadata": {},
     "output_type": "execute_result"
    }
   ],
   "source": [
    "df[\"name\"]"
   ]
  },
  {
   "cell_type": "code",
   "execution_count": 4,
   "id": "5ec99a96",
   "metadata": {},
   "outputs": [
    {
     "data": {
      "text/plain": [
       "0    38\n",
       "1    56\n",
       "2    28\n",
       "Name: age, dtype: int64"
      ]
     },
     "execution_count": 4,
     "metadata": {},
     "output_type": "execute_result"
    }
   ],
   "source": [
    "df[\"age\"]"
   ]
  },
  {
   "cell_type": "markdown",
   "id": "844f7eb9",
   "metadata": {},
   "source": [
    "## A. `Serie`\n",
    "***\n",
    "Une `Serie` est une structure de données unidimensionnelle, similaire à une liste, avec une \"étiquette\" (ie un index) pour chaque élément. \n",
    "\n",
    "[Lien vers la documentation officielle](https://pandas.pydata.org/docs/reference/api/pandas.Series.html)\n"
   ]
  },
  {
   "cell_type": "markdown",
   "id": "c60c05c0",
   "metadata": {},
   "source": [
    "### 1. Création d'une `Serie`\n",
    "On peut créer une série à partir de différentes sources, comme une liste, un `numpy.array`, ou un dictionnaire :\n"
   ]
  },
  {
   "cell_type": "code",
   "execution_count": 5,
   "id": "d6b2b266",
   "metadata": {},
   "outputs": [
    {
     "name": "stdout",
     "output_type": "stream",
     "text": [
      "0    1.0\n",
      "1    3.0\n",
      "2    5.0\n",
      "3    NaN\n",
      "4    6.0\n",
      "5    8.0\n",
      "dtype: float64\n",
      "0    1.0\n",
      "1    3.0\n",
      "2    5.0\n",
      "3    NaN\n",
      "4    6.0\n",
      "5    8.0\n",
      "dtype: float64\n",
      "A    1.0\n",
      "B    3.0\n",
      "C    5.0\n",
      "D    NaN\n",
      "E    6.0\n",
      "F    8.0\n",
      "dtype: float64\n",
      "a    0.0\n",
      "b    1.0\n",
      "c    2.0\n",
      "dtype: float64\n"
     ]
    }
   ],
   "source": [
    "import pandas as pd\n",
    "import numpy as np\n",
    "\n",
    "# création d'une Serie à partir d'une liste\n",
    "s = pd.Series([1, 3, 5, np.nan, 6, 8])\n",
    "print(s)\n",
    "\n",
    "# création d'une Serie à partir d'un array\n",
    "s = pd.Series(np.array([1, 3, 5, np.nan, 6, 8]))\n",
    "print(s)\n",
    "\n",
    "# On peut spécifier un index\n",
    "s = pd.Series(np.array([1, 3, 5, np.nan, 6, 8]), index=[\"A\", \"B\", \"C\", \"D\", \"E\", \"F\"])\n",
    "print(s)\n",
    "\n",
    "# création d'une Serie à partir d'un dictionnaire - les clefs seront les index\n",
    "d = {'a': 0., 'b': 1., 'c': 2.}\n",
    "s = pd.Series(d)\n",
    "print(s)"
   ]
  },
  {
   "cell_type": "markdown",
   "id": "c33aca29",
   "metadata": {},
   "source": [
    "### 2. Indexation et sélection de données dans une série\n",
    "Une `Serie` contient une séquence de valeurs et pour chacune d'elle un index.\n",
    "On peut accéder à une valeur via son index, où la position de son index"
   ]
  },
  {
   "cell_type": "code",
   "execution_count": 6,
   "id": "226f5f05",
   "metadata": {},
   "outputs": [
    {
     "name": "stdout",
     "output_type": "stream",
     "text": [
      "a    0.0\n",
      "b    1.0\n",
      "c    2.0\n",
      "dtype: float64\n"
     ]
    }
   ],
   "source": [
    "# création d'une série à partir d'un dictionnaire\n",
    "d = {'a': 0., 'b': 1., 'c': 2.}\n",
    "s = pd.Series(d)\n",
    "print(s)"
   ]
  },
  {
   "cell_type": "markdown",
   "id": "ae41b956",
   "metadata": {},
   "source": [
    "#### a. Accès à la valeur via l'index"
   ]
  },
  {
   "cell_type": "code",
   "execution_count": 7,
   "id": "ac0f3368",
   "metadata": {},
   "outputs": [
    {
     "data": {
      "text/plain": [
       "0.0"
      ]
     },
     "execution_count": 7,
     "metadata": {},
     "output_type": "execute_result"
    }
   ],
   "source": [
    "s.loc['a']"
   ]
  },
  {
   "cell_type": "markdown",
   "id": "a6e37050",
   "metadata": {},
   "source": [
    "#### b. Accès à la valeur via la position de l'index"
   ]
  },
  {
   "cell_type": "code",
   "execution_count": 8,
   "id": "aa7ab8f8",
   "metadata": {},
   "outputs": [
    {
     "name": "stdout",
     "output_type": "stream",
     "text": [
      "0.0\n",
      "0 0.0\n",
      "1 1.0\n",
      "2 2.0\n"
     ]
    }
   ],
   "source": [
    "print(s.iloc[0])\n",
    "\n",
    "for k in range(len(s)):\n",
    "    print(k, s.iloc[k])"
   ]
  },
  {
   "cell_type": "markdown",
   "id": "e930801c",
   "metadata": {},
   "source": [
    "#### c. Accès à la sous-série via une condition sur les valeurs de `s`"
   ]
  },
  {
   "cell_type": "code",
   "execution_count": 9,
   "id": "b49a0df2",
   "metadata": {},
   "outputs": [
    {
     "data": {
      "text/plain": [
       "a    0.0\n",
       "b    1.0\n",
       "dtype: float64"
      ]
     },
     "execution_count": 9,
     "metadata": {},
     "output_type": "execute_result"
    }
   ],
   "source": [
    "s.loc[s<=1]"
   ]
  },
  {
   "cell_type": "markdown",
   "id": "b7fb98bd",
   "metadata": {},
   "source": [
    "**Masque**"
   ]
  },
  {
   "cell_type": "code",
   "execution_count": 10,
   "id": "ba50b024",
   "metadata": {},
   "outputs": [
    {
     "data": {
      "text/plain": [
       "a     True\n",
       "b     True\n",
       "c    False\n",
       "dtype: bool"
      ]
     },
     "execution_count": 10,
     "metadata": {},
     "output_type": "execute_result"
    }
   ],
   "source": [
    "s<=1"
   ]
  },
  {
   "cell_type": "markdown",
   "id": "d4973424",
   "metadata": {},
   "source": [
    "#### d. 🚨🚨🚨 Une sous-série à un élément est renvoyée"
   ]
  },
  {
   "cell_type": "code",
   "execution_count": 11,
   "id": "f6936de6",
   "metadata": {},
   "outputs": [
    {
     "data": {
      "text/plain": [
       "a    0.0\n",
       "dtype: float64"
      ]
     },
     "execution_count": 11,
     "metadata": {},
     "output_type": "execute_result"
    }
   ],
   "source": [
    "s.loc[s==0]"
   ]
  },
  {
   "cell_type": "markdown",
   "id": "f0959164",
   "metadata": {},
   "source": [
    "#### e. 🚨🚨🚨 Fonctionnent aussi mais ne pas utiliser (moins efficaces)"
   ]
  },
  {
   "cell_type": "code",
   "execution_count": 12,
   "id": "1022284d",
   "metadata": {},
   "outputs": [
    {
     "data": {
      "text/plain": [
       "0.0"
      ]
     },
     "execution_count": 12,
     "metadata": {},
     "output_type": "execute_result"
    }
   ],
   "source": [
    "# On accès à l'élément d'index 'a'\n",
    "s['a']"
   ]
  },
  {
   "cell_type": "code",
   "execution_count": 13,
   "id": "7b3e3bc3",
   "metadata": {},
   "outputs": [
    {
     "name": "stderr",
     "output_type": "stream",
     "text": [
      "/var/folders/yf/7zryq8v115v8hjpz3_522bvm0000gn/T/ipykernel_4322/2392516401.py:2: FutureWarning: Series.__getitem__ treating keys as positions is deprecated. In a future version, integer keys will always be treated as labels (consistent with DataFrame behavior). To access a value by position, use `ser.iloc[pos]`\n",
      "  s[0]\n"
     ]
    },
    {
     "data": {
      "text/plain": [
       "0.0"
      ]
     },
     "execution_count": 13,
     "metadata": {},
     "output_type": "execute_result"
    }
   ],
   "source": [
    "# On accès à l'élément d'index de position 0\n",
    "s[0]"
   ]
  },
  {
   "cell_type": "markdown",
   "id": "acfeede0",
   "metadata": {},
   "source": [
    "#### f. Filtre et sélection"
   ]
  },
  {
   "cell_type": "code",
   "execution_count": 14,
   "id": "9e8bd171",
   "metadata": {},
   "outputs": [
    {
     "data": {
      "text/plain": [
       "b    1.0\n",
       "c    2.0\n",
       "dtype: float64"
      ]
     },
     "execution_count": 14,
     "metadata": {},
     "output_type": "execute_result"
    }
   ],
   "source": [
    "# On écrit la condition entre crochets\n",
    "s[s>=1]"
   ]
  },
  {
   "cell_type": "code",
   "execution_count": 15,
   "id": "e7a6f788",
   "metadata": {},
   "outputs": [],
   "source": [
    "# Filtrer sur ce masque\n",
    "# s>=1"
   ]
  },
  {
   "cell_type": "code",
   "execution_count": 16,
   "id": "e6ba506a",
   "metadata": {},
   "outputs": [
    {
     "name": "stdout",
     "output_type": "stream",
     "text": [
      "1.0\n",
      "1.0\n"
     ]
    },
    {
     "data": {
      "text/plain": [
       "a    0.0\n",
       "b    1.0\n",
       "dtype: float64"
      ]
     },
     "execution_count": 16,
     "metadata": {},
     "output_type": "execute_result"
    }
   ],
   "source": [
    "print(s.mean()) # la moyenne\n",
    "print(s.std()) # l'écart type\n",
    "# une condition plus compliquée\n",
    "s[s<=s.mean() + 0.5*s.std()]"
   ]
  },
  {
   "cell_type": "code",
   "execution_count": 17,
   "id": "607d1f8b",
   "metadata": {},
   "outputs": [
    {
     "data": {
      "text/plain": [
       "a    0.0\n",
       "c    2.0\n",
       "dtype: float64"
      ]
     },
     "execution_count": 17,
     "metadata": {},
     "output_type": "execute_result"
    }
   ],
   "source": [
    "s[(s==0)|(s==2)] # | = or vectorisé"
   ]
  },
  {
   "cell_type": "code",
   "execution_count": 18,
   "id": "8f9bf46b",
   "metadata": {},
   "outputs": [
    {
     "data": {
      "text/plain": [
       "b    1.0\n",
       "dtype: float64"
      ]
     },
     "execution_count": 18,
     "metadata": {},
     "output_type": "execute_result"
    }
   ],
   "source": [
    "s[(s > 0) & (s<2)]# & = et vectorisé"
   ]
  },
  {
   "cell_type": "markdown",
   "id": "06cbbbef",
   "metadata": {},
   "source": [
    "## B. `DataFrame`\n",
    "***\n",
    "Un `DataFrame` est une structure de données multi-dimensionnelle, similaire à un tableau, avec une \"étiquette\" (ie un index) pour chaque ligne et chaque colonne. \n",
    "\n",
    "[Lien vers la documentation officielle](https://pandas.pydata.org/docs/reference/api/pandas.DataFrame.html)\n"
   ]
  },
  {
   "cell_type": "markdown",
   "id": "6e5fb0a0",
   "metadata": {},
   "source": [
    "### 1. Création d'un DataFrame"
   ]
  },
  {
   "cell_type": "markdown",
   "id": "6749e61e",
   "metadata": {},
   "source": [
    "#### a. En utilisant des dictionnaires \n",
    "\n",
    "On peut créer un DataFrame en utilisant un dictionnaire en Python. Chaque clé du dictionnaire représente une colonne et chaque valeur représente les données pour cette colonne."
   ]
  },
  {
   "cell_type": "code",
   "execution_count": 19,
   "id": "16d7158a",
   "metadata": {},
   "outputs": [
    {
     "data": {
      "text/html": [
       "<div>\n",
       "<style scoped>\n",
       "    .dataframe tbody tr th:only-of-type {\n",
       "        vertical-align: middle;\n",
       "    }\n",
       "\n",
       "    .dataframe tbody tr th {\n",
       "        vertical-align: top;\n",
       "    }\n",
       "\n",
       "    .dataframe thead th {\n",
       "        text-align: right;\n",
       "    }\n",
       "</style>\n",
       "<table border=\"1\" class=\"dataframe\">\n",
       "  <thead>\n",
       "    <tr style=\"text-align: right;\">\n",
       "      <th></th>\n",
       "      <th>col1</th>\n",
       "      <th>col2</th>\n",
       "      <th>col3</th>\n",
       "    </tr>\n",
       "  </thead>\n",
       "  <tbody>\n",
       "    <tr>\n",
       "      <th>0</th>\n",
       "      <td>1</td>\n",
       "      <td>4</td>\n",
       "      <td>7</td>\n",
       "    </tr>\n",
       "    <tr>\n",
       "      <th>1</th>\n",
       "      <td>2</td>\n",
       "      <td>5</td>\n",
       "      <td>8</td>\n",
       "    </tr>\n",
       "    <tr>\n",
       "      <th>2</th>\n",
       "      <td>3</td>\n",
       "      <td>6</td>\n",
       "      <td>9</td>\n",
       "    </tr>\n",
       "  </tbody>\n",
       "</table>\n",
       "</div>"
      ],
      "text/plain": [
       "   col1  col2  col3\n",
       "0     1     4     7\n",
       "1     2     5     8\n",
       "2     3     6     9"
      ]
     },
     "execution_count": 19,
     "metadata": {},
     "output_type": "execute_result"
    }
   ],
   "source": [
    "# Création d'un dictionnaire\n",
    "data = {'col1': [1, 2, 3], 'col2': [4, 5, 6], 'col3': [7, 8, 9]}\n",
    "\n",
    "# Création d'un DataFrame en utilisant le dictionnaire\n",
    "df = pd.DataFrame(data)\n",
    "\n",
    "# Afficher le DataFrame\n",
    "df"
   ]
  },
  {
   "cell_type": "markdown",
   "id": "187c8909",
   "metadata": {},
   "source": [
    "#### b. En utilisant une liste de listes\n",
    "On peut également créer un DataFrame en utilisant une liste de listes. Chaque liste interne représente une ligne dans le DataFrame et chaque élément représente une valeur pour une colonne spécifique."
   ]
  },
  {
   "cell_type": "code",
   "execution_count": 20,
   "id": "888948dd",
   "metadata": {},
   "outputs": [
    {
     "data": {
      "text/html": [
       "<div>\n",
       "<style scoped>\n",
       "    .dataframe tbody tr th:only-of-type {\n",
       "        vertical-align: middle;\n",
       "    }\n",
       "\n",
       "    .dataframe tbody tr th {\n",
       "        vertical-align: top;\n",
       "    }\n",
       "\n",
       "    .dataframe thead th {\n",
       "        text-align: right;\n",
       "    }\n",
       "</style>\n",
       "<table border=\"1\" class=\"dataframe\">\n",
       "  <thead>\n",
       "    <tr style=\"text-align: right;\">\n",
       "      <th></th>\n",
       "      <th>col1</th>\n",
       "      <th>col2</th>\n",
       "      <th>col3</th>\n",
       "    </tr>\n",
       "  </thead>\n",
       "  <tbody>\n",
       "    <tr>\n",
       "      <th>0</th>\n",
       "      <td>1</td>\n",
       "      <td>2</td>\n",
       "      <td>3</td>\n",
       "    </tr>\n",
       "    <tr>\n",
       "      <th>1</th>\n",
       "      <td>4</td>\n",
       "      <td>5</td>\n",
       "      <td>6</td>\n",
       "    </tr>\n",
       "    <tr>\n",
       "      <th>2</th>\n",
       "      <td>7</td>\n",
       "      <td>8</td>\n",
       "      <td>9</td>\n",
       "    </tr>\n",
       "  </tbody>\n",
       "</table>\n",
       "</div>"
      ],
      "text/plain": [
       "   col1  col2  col3\n",
       "0     1     2     3\n",
       "1     4     5     6\n",
       "2     7     8     9"
      ]
     },
     "execution_count": 20,
     "metadata": {},
     "output_type": "execute_result"
    }
   ],
   "source": [
    "# Création d'une liste de listes\n",
    "data = [[1, 2, 3], [4, 5, 6], [7, 8, 9]]\n",
    "\n",
    "# Création d'un DataFrame en utilisant la liste de listes\n",
    "df = pd.DataFrame(data, columns=['col1', 'col2', 'col3'])\n",
    "\n",
    "# Afficher le DataFrame\n",
    "df"
   ]
  },
  {
   "cell_type": "markdown",
   "id": "f93ace60",
   "metadata": {},
   "source": [
    "#### c. En utilisant des `numpy.array`\n"
   ]
  },
  {
   "cell_type": "code",
   "execution_count": 21,
   "id": "6131bccf",
   "metadata": {},
   "outputs": [
    {
     "data": {
      "text/html": [
       "<div>\n",
       "<style scoped>\n",
       "    .dataframe tbody tr th:only-of-type {\n",
       "        vertical-align: middle;\n",
       "    }\n",
       "\n",
       "    .dataframe tbody tr th {\n",
       "        vertical-align: top;\n",
       "    }\n",
       "\n",
       "    .dataframe thead th {\n",
       "        text-align: right;\n",
       "    }\n",
       "</style>\n",
       "<table border=\"1\" class=\"dataframe\">\n",
       "  <thead>\n",
       "    <tr style=\"text-align: right;\">\n",
       "      <th></th>\n",
       "      <th>colonne1</th>\n",
       "      <th>colonne2</th>\n",
       "    </tr>\n",
       "  </thead>\n",
       "  <tbody>\n",
       "    <tr>\n",
       "      <th>0</th>\n",
       "      <td>-0.145500</td>\n",
       "      <td>-0.361090</td>\n",
       "    </tr>\n",
       "    <tr>\n",
       "      <th>1</th>\n",
       "      <td>0.628435</td>\n",
       "      <td>0.838158</td>\n",
       "    </tr>\n",
       "    <tr>\n",
       "      <th>2</th>\n",
       "      <td>1.190966</td>\n",
       "      <td>0.879567</td>\n",
       "    </tr>\n",
       "    <tr>\n",
       "      <th>3</th>\n",
       "      <td>-1.056041</td>\n",
       "      <td>-0.618653</td>\n",
       "    </tr>\n",
       "  </tbody>\n",
       "</table>\n",
       "</div>"
      ],
      "text/plain": [
       "   colonne1  colonne2\n",
       "0 -0.145500 -0.361090\n",
       "1  0.628435  0.838158\n",
       "2  1.190966  0.879567\n",
       "3 -1.056041 -0.618653"
      ]
     },
     "execution_count": 21,
     "metadata": {},
     "output_type": "execute_result"
    }
   ],
   "source": [
    "array = np.random.randn(4, 2)\n",
    "df = pd.DataFrame(array, columns=['colonne1', 'colonne2'])\n",
    "df"
   ]
  },
  {
   "cell_type": "markdown",
   "id": "2b9d7bae",
   "metadata": {},
   "source": [
    "#### d. En lisant un fichier CSV"
   ]
  },
  {
   "cell_type": "code",
   "execution_count": 22,
   "id": "42284cda",
   "metadata": {},
   "outputs": [
    {
     "data": {
      "text/html": [
       "<div>\n",
       "<style scoped>\n",
       "    .dataframe tbody tr th:only-of-type {\n",
       "        vertical-align: middle;\n",
       "    }\n",
       "\n",
       "    .dataframe tbody tr th {\n",
       "        vertical-align: top;\n",
       "    }\n",
       "\n",
       "    .dataframe thead th {\n",
       "        text-align: right;\n",
       "    }\n",
       "</style>\n",
       "<table border=\"1\" class=\"dataframe\">\n",
       "  <thead>\n",
       "    <tr style=\"text-align: right;\">\n",
       "      <th></th>\n",
       "      <th>city</th>\n",
       "      <th>city_ascii</th>\n",
       "      <th>lat</th>\n",
       "      <th>lng</th>\n",
       "      <th>country</th>\n",
       "      <th>iso2</th>\n",
       "      <th>iso3</th>\n",
       "      <th>admin_name</th>\n",
       "      <th>capital</th>\n",
       "      <th>population</th>\n",
       "      <th>id</th>\n",
       "    </tr>\n",
       "  </thead>\n",
       "  <tbody>\n",
       "    <tr>\n",
       "      <th>0</th>\n",
       "      <td>Tokyo</td>\n",
       "      <td>Tokyo</td>\n",
       "      <td>35.6839</td>\n",
       "      <td>139.7744</td>\n",
       "      <td>Japan</td>\n",
       "      <td>JP</td>\n",
       "      <td>JPN</td>\n",
       "      <td>Tōkyō</td>\n",
       "      <td>primary</td>\n",
       "      <td>39105000.0</td>\n",
       "      <td>1392685764</td>\n",
       "    </tr>\n",
       "    <tr>\n",
       "      <th>1</th>\n",
       "      <td>Jakarta</td>\n",
       "      <td>Jakarta</td>\n",
       "      <td>-6.2146</td>\n",
       "      <td>106.8451</td>\n",
       "      <td>Indonesia</td>\n",
       "      <td>ID</td>\n",
       "      <td>IDN</td>\n",
       "      <td>Jakarta</td>\n",
       "      <td>primary</td>\n",
       "      <td>35362000.0</td>\n",
       "      <td>1360771077</td>\n",
       "    </tr>\n",
       "    <tr>\n",
       "      <th>2</th>\n",
       "      <td>Delhi</td>\n",
       "      <td>Delhi</td>\n",
       "      <td>28.6667</td>\n",
       "      <td>77.2167</td>\n",
       "      <td>India</td>\n",
       "      <td>IN</td>\n",
       "      <td>IND</td>\n",
       "      <td>Delhi</td>\n",
       "      <td>admin</td>\n",
       "      <td>31870000.0</td>\n",
       "      <td>1356872604</td>\n",
       "    </tr>\n",
       "    <tr>\n",
       "      <th>3</th>\n",
       "      <td>Manila</td>\n",
       "      <td>Manila</td>\n",
       "      <td>14.6000</td>\n",
       "      <td>120.9833</td>\n",
       "      <td>Philippines</td>\n",
       "      <td>PH</td>\n",
       "      <td>PHL</td>\n",
       "      <td>Manila</td>\n",
       "      <td>primary</td>\n",
       "      <td>23971000.0</td>\n",
       "      <td>1608618140</td>\n",
       "    </tr>\n",
       "    <tr>\n",
       "      <th>4</th>\n",
       "      <td>São Paulo</td>\n",
       "      <td>Sao Paulo</td>\n",
       "      <td>-23.5504</td>\n",
       "      <td>-46.6339</td>\n",
       "      <td>Brazil</td>\n",
       "      <td>BR</td>\n",
       "      <td>BRA</td>\n",
       "      <td>São Paulo</td>\n",
       "      <td>admin</td>\n",
       "      <td>22495000.0</td>\n",
       "      <td>1076532519</td>\n",
       "    </tr>\n",
       "  </tbody>\n",
       "</table>\n",
       "</div>"
      ],
      "text/plain": [
       "        city city_ascii      lat       lng      country iso2 iso3 admin_name  \\\n",
       "0      Tokyo      Tokyo  35.6839  139.7744        Japan   JP  JPN      Tōkyō   \n",
       "1    Jakarta    Jakarta  -6.2146  106.8451    Indonesia   ID  IDN    Jakarta   \n",
       "2      Delhi      Delhi  28.6667   77.2167        India   IN  IND      Delhi   \n",
       "3     Manila     Manila  14.6000  120.9833  Philippines   PH  PHL     Manila   \n",
       "4  São Paulo  Sao Paulo -23.5504  -46.6339       Brazil   BR  BRA  São Paulo   \n",
       "\n",
       "   capital  population          id  \n",
       "0  primary  39105000.0  1392685764  \n",
       "1  primary  35362000.0  1360771077  \n",
       "2    admin  31870000.0  1356872604  \n",
       "3  primary  23971000.0  1608618140  \n",
       "4    admin  22495000.0  1076532519  "
      ]
     },
     "execution_count": 22,
     "metadata": {},
     "output_type": "execute_result"
    }
   ],
   "source": [
    "df = pd.read_csv(\"../data/simplemaps/worldcities.csv\")\n",
    "df.head(5) # Seulement lkes 5 premières lignes"
   ]
  },
  {
   "cell_type": "markdown",
   "id": "95ef2891",
   "metadata": {},
   "source": [
    "#### e. Pickle / Excel / SQL / MongoDB ..."
   ]
  },
  {
   "cell_type": "code",
   "execution_count": 23,
   "id": "9af621e1",
   "metadata": {},
   "outputs": [],
   "source": [
    "# Pickle\n",
    "# df.to_pickle(\"df_example.pk\")\n",
    "\n",
    "# CSV\n",
    "# df.csv(\"df_example.csv\")\n",
    "\n",
    "# SQL\n",
    "# https://pandas.pydata.org/docs/reference/api/pandas.DataFrame.to_sql.html\n",
    "# df.to_sql(name, con, *, schema=None, if_exists='fail', index=True, index_label=None, chunksize=None, dtype=None, method=None)\n",
    "# "
   ]
  },
  {
   "cell_type": "markdown",
   "id": "710d8651",
   "metadata": {},
   "source": [
    "### 2. Création avancée d'un DataFrame"
   ]
  },
  {
   "cell_type": "markdown",
   "id": "2e500cfc",
   "metadata": {},
   "source": [
    "#### a. Un exemple avec un index (plus compliqué qu'il n'en a l'air)\n",
    "\n",
    "**En s'y prenant bien, il est généralement très facile d'aligner les données comme on le souhaite, en se reposant sur le bon index**"
   ]
  },
  {
   "cell_type": "code",
   "execution_count": 24,
   "id": "a2533c20",
   "metadata": {},
   "outputs": [
    {
     "data": {
      "text/html": [
       "<div>\n",
       "<style scoped>\n",
       "    .dataframe tbody tr th:only-of-type {\n",
       "        vertical-align: middle;\n",
       "    }\n",
       "\n",
       "    .dataframe tbody tr th {\n",
       "        vertical-align: top;\n",
       "    }\n",
       "\n",
       "    .dataframe thead th {\n",
       "        text-align: right;\n",
       "    }\n",
       "</style>\n",
       "<table border=\"1\" class=\"dataframe\">\n",
       "  <thead>\n",
       "    <tr style=\"text-align: right;\">\n",
       "      <th></th>\n",
       "      <th>col1</th>\n",
       "      <th>col2</th>\n",
       "    </tr>\n",
       "  </thead>\n",
       "  <tbody>\n",
       "    <tr>\n",
       "      <th>0</th>\n",
       "      <td>0</td>\n",
       "      <td>NaN</td>\n",
       "    </tr>\n",
       "    <tr>\n",
       "      <th>1</th>\n",
       "      <td>1</td>\n",
       "      <td>NaN</td>\n",
       "    </tr>\n",
       "    <tr>\n",
       "      <th>2</th>\n",
       "      <td>2</td>\n",
       "      <td>4.0</td>\n",
       "    </tr>\n",
       "    <tr>\n",
       "      <th>3</th>\n",
       "      <td>3</td>\n",
       "      <td>5.0</td>\n",
       "    </tr>\n",
       "  </tbody>\n",
       "</table>\n",
       "</div>"
      ],
      "text/plain": [
       "   col1  col2\n",
       "0     0   NaN\n",
       "1     1   NaN\n",
       "2     2   4.0\n",
       "3     3   5.0"
      ]
     },
     "execution_count": 24,
     "metadata": {},
     "output_type": "execute_result"
    }
   ],
   "source": [
    "# Avec une dictionnaire de colonnes contenant des objets de différents types\n",
    "d = {\n",
    "    'col1': [0, 1, 2, 3], \n",
    "    'col2': pd.Series(\n",
    "        [4, 5], \n",
    "        index=[2, 3] # La serie a un index : [2, 3]\n",
    "    )\n",
    "}\n",
    "df = pd.DataFrame(\n",
    "    data=d, \n",
    "    index=[0, 1, 2, 3] # La dataframe a un index : [0, 1, 2, 3]\n",
    ")\n",
    "# Noter les valeurs manquantes\n",
    "df"
   ]
  },
  {
   "cell_type": "markdown",
   "id": "ac055c2a",
   "metadata": {},
   "source": [
    "#### b. Un exemple avec plusieurs classes de `pandas`"
   ]
  },
  {
   "cell_type": "code",
   "execution_count": 25,
   "id": "beb4db90",
   "metadata": {},
   "outputs": [
    {
     "data": {
      "text/html": [
       "<div>\n",
       "<style scoped>\n",
       "    .dataframe tbody tr th:only-of-type {\n",
       "        vertical-align: middle;\n",
       "    }\n",
       "\n",
       "    .dataframe tbody tr th {\n",
       "        vertical-align: top;\n",
       "    }\n",
       "\n",
       "    .dataframe thead th {\n",
       "        text-align: right;\n",
       "    }\n",
       "</style>\n",
       "<table border=\"1\" class=\"dataframe\">\n",
       "  <thead>\n",
       "    <tr style=\"text-align: right;\">\n",
       "      <th></th>\n",
       "      <th>A</th>\n",
       "      <th>B</th>\n",
       "      <th>C</th>\n",
       "      <th>D</th>\n",
       "      <th>E</th>\n",
       "      <th>F</th>\n",
       "    </tr>\n",
       "  </thead>\n",
       "  <tbody>\n",
       "    <tr>\n",
       "      <th>0</th>\n",
       "      <td>1.0</td>\n",
       "      <td>2013-01-02</td>\n",
       "      <td>1.0</td>\n",
       "      <td>3</td>\n",
       "      <td>test</td>\n",
       "      <td>foo</td>\n",
       "    </tr>\n",
       "    <tr>\n",
       "      <th>1</th>\n",
       "      <td>1.0</td>\n",
       "      <td>2013-01-02</td>\n",
       "      <td>1.0</td>\n",
       "      <td>3</td>\n",
       "      <td>train</td>\n",
       "      <td>foo</td>\n",
       "    </tr>\n",
       "    <tr>\n",
       "      <th>2</th>\n",
       "      <td>1.0</td>\n",
       "      <td>2013-01-02</td>\n",
       "      <td>1.0</td>\n",
       "      <td>3</td>\n",
       "      <td>test</td>\n",
       "      <td>foo</td>\n",
       "    </tr>\n",
       "    <tr>\n",
       "      <th>3</th>\n",
       "      <td>1.0</td>\n",
       "      <td>2013-01-02</td>\n",
       "      <td>1.0</td>\n",
       "      <td>3</td>\n",
       "      <td>train</td>\n",
       "      <td>foo</td>\n",
       "    </tr>\n",
       "  </tbody>\n",
       "</table>\n",
       "</div>"
      ],
      "text/plain": [
       "     A          B    C  D      E    F\n",
       "0  1.0 2013-01-02  1.0  3   test  foo\n",
       "1  1.0 2013-01-02  1.0  3  train  foo\n",
       "2  1.0 2013-01-02  1.0  3   test  foo\n",
       "3  1.0 2013-01-02  1.0  3  train  foo"
      ]
     },
     "execution_count": 25,
     "metadata": {},
     "output_type": "execute_result"
    }
   ],
   "source": [
    "df = pd.DataFrame(\n",
    "    {\n",
    "        \"A\": 1.0,\n",
    "        \"B\": pd.Timestamp(\"20130102\"),\n",
    "        \"C\": pd.Series(1, index=list(range(4)), dtype=\"float32\"),\n",
    "        \"D\": np.array([3] * 4, dtype=\"int32\"),\n",
    "        \"E\": pd.Categorical([\"test\", \"train\", \"test\", \"train\"]),\n",
    "        \"F\": \"foo\",\n",
    "    }\n",
    ")\n",
    "df"
   ]
  },
  {
   "cell_type": "markdown",
   "id": "7dcf43df",
   "metadata": {},
   "source": [
    "#### c. Usage des `dataclass` (classes représentant des données)"
   ]
  },
  {
   "cell_type": "code",
   "execution_count": 26,
   "id": "00ad6199",
   "metadata": {},
   "outputs": [
    {
     "data": {
      "text/html": [
       "<div>\n",
       "<style scoped>\n",
       "    .dataframe tbody tr th:only-of-type {\n",
       "        vertical-align: middle;\n",
       "    }\n",
       "\n",
       "    .dataframe tbody tr th {\n",
       "        vertical-align: top;\n",
       "    }\n",
       "\n",
       "    .dataframe thead th {\n",
       "        text-align: right;\n",
       "    }\n",
       "</style>\n",
       "<table border=\"1\" class=\"dataframe\">\n",
       "  <thead>\n",
       "    <tr style=\"text-align: right;\">\n",
       "      <th></th>\n",
       "      <th>name</th>\n",
       "      <th>rank</th>\n",
       "      <th>is_free</th>\n",
       "    </tr>\n",
       "  </thead>\n",
       "  <tbody>\n",
       "    <tr>\n",
       "      <th>10</th>\n",
       "      <td>Kim</td>\n",
       "      <td>90</td>\n",
       "      <td>False</td>\n",
       "    </tr>\n",
       "    <tr>\n",
       "      <th>11</th>\n",
       "      <td>Jimmy</td>\n",
       "      <td>80</td>\n",
       "      <td>True</td>\n",
       "    </tr>\n",
       "    <tr>\n",
       "      <th>12</th>\n",
       "      <td>Gus</td>\n",
       "      <td>98</td>\n",
       "      <td>False</td>\n",
       "    </tr>\n",
       "  </tbody>\n",
       "</table>\n",
       "</div>"
      ],
      "text/plain": [
       "     name  rank  is_free\n",
       "10    Kim    90    False\n",
       "11  Jimmy    80     True\n",
       "12    Gus    98    False"
      ]
     },
     "execution_count": 26,
     "metadata": {},
     "output_type": "execute_result"
    }
   ],
   "source": [
    "from dataclasses import make_dataclass\n",
    "Player = make_dataclass(\"Player\", [(\"name\", str), (\"rank\", int), (\"is_free\", bool)])\n",
    "df = pd.DataFrame(\n",
    "    [\n",
    "        Player(\"Kim\", 90, False), \n",
    "        Player(\"Jimmy\", 80, True),  \n",
    "        Player(\"Gus\", 98, False)\n",
    "    ],\n",
    "    index=[10, 11, 12]\n",
    ")\n",
    "df"
   ]
  },
  {
   "cell_type": "markdown",
   "id": "7a3c94ee",
   "metadata": {},
   "source": [
    "### 2. Observation des attributs d'un `DataFrame`"
   ]
  },
  {
   "cell_type": "code",
   "execution_count": 27,
   "id": "3b235e06",
   "metadata": {},
   "outputs": [
    {
     "name": "stdout",
     "output_type": "stream",
     "text": [
      "df est de type: <class 'pandas.core.frame.DataFrame'> \n",
      "\n"
     ]
    },
    {
     "data": {
      "text/html": [
       "<div>\n",
       "<style scoped>\n",
       "    .dataframe tbody tr th:only-of-type {\n",
       "        vertical-align: middle;\n",
       "    }\n",
       "\n",
       "    .dataframe tbody tr th {\n",
       "        vertical-align: top;\n",
       "    }\n",
       "\n",
       "    .dataframe thead th {\n",
       "        text-align: right;\n",
       "    }\n",
       "</style>\n",
       "<table border=\"1\" class=\"dataframe\">\n",
       "  <thead>\n",
       "    <tr style=\"text-align: right;\">\n",
       "      <th></th>\n",
       "      <th>country</th>\n",
       "      <th>year</th>\n",
       "      <th>iso_code</th>\n",
       "      <th>population</th>\n",
       "      <th>gdp</th>\n",
       "      <th>co2</th>\n",
       "    </tr>\n",
       "  </thead>\n",
       "  <tbody>\n",
       "    <tr>\n",
       "      <th>8005</th>\n",
       "      <td>Cape Verde</td>\n",
       "      <td>1896</td>\n",
       "      <td>CPV</td>\n",
       "      <td>139520.0</td>\n",
       "      <td>NaN</td>\n",
       "      <td>NaN</td>\n",
       "    </tr>\n",
       "    <tr>\n",
       "      <th>7798</th>\n",
       "      <td>Canada</td>\n",
       "      <td>1861</td>\n",
       "      <td>CAN</td>\n",
       "      <td>3381997.0</td>\n",
       "      <td>NaN</td>\n",
       "      <td>0.458</td>\n",
       "    </tr>\n",
       "    <tr>\n",
       "      <th>40773</th>\n",
       "      <td>Syria</td>\n",
       "      <td>1930</td>\n",
       "      <td>SYR</td>\n",
       "      <td>2559206.0</td>\n",
       "      <td>NaN</td>\n",
       "      <td>NaN</td>\n",
       "    </tr>\n",
       "  </tbody>\n",
       "</table>\n",
       "</div>"
      ],
      "text/plain": [
       "          country  year iso_code  population  gdp    co2\n",
       "8005   Cape Verde  1896      CPV    139520.0  NaN    NaN\n",
       "7798       Canada  1861      CAN   3381997.0  NaN  0.458\n",
       "40773       Syria  1930      SYR   2559206.0  NaN    NaN"
      ]
     },
     "execution_count": 27,
     "metadata": {},
     "output_type": "execute_result"
    }
   ],
   "source": [
    "df = pd.read_csv('../data/co2-data/owid-co2-data.csv')[['country', 'year', 'iso_code', 'population', 'gdp', 'co2']]\n",
    "print(f\"df est de type: {type(df)}\", \"\\n\")\n",
    "df.sample(3) # 3 valeurs au hasard\n"
   ]
  },
  {
   "cell_type": "markdown",
   "id": "f638d20f",
   "metadata": {},
   "source": [
    "#### Infos générales"
   ]
  },
  {
   "cell_type": "code",
   "execution_count": 28,
   "id": "5b3ee678",
   "metadata": {},
   "outputs": [
    {
     "name": "stdout",
     "output_type": "stream",
     "text": [
      "<class 'pandas.core.frame.DataFrame'>\n",
      "RangeIndex: 46523 entries, 0 to 46522\n",
      "Data columns (total 6 columns):\n",
      " #   Column      Non-Null Count  Dtype  \n",
      "---  ------      --------------  -----  \n",
      " 0   country     46523 non-null  object \n",
      " 1   year        46523 non-null  int64  \n",
      " 2   iso_code    39862 non-null  object \n",
      " 3   population  38574 non-null  float64\n",
      " 4   gdp         14551 non-null  float64\n",
      " 5   co2         31349 non-null  float64\n",
      "dtypes: float64(3), int64(1), object(2)\n",
      "memory usage: 2.1+ MB\n"
     ]
    }
   ],
   "source": [
    "df.info() # Infos générales"
   ]
  },
  {
   "cell_type": "markdown",
   "id": "cd67de11",
   "metadata": {},
   "source": [
    "#### a. Attribut `index` de la DataFrame\n",
    "**Il a été créé par `pandas` lors de la lecture du fichier CSV**"
   ]
  },
  {
   "cell_type": "code",
   "execution_count": 29,
   "id": "e451cd17",
   "metadata": {},
   "outputs": [
    {
     "name": "stdout",
     "output_type": "stream",
     "text": [
      "L'index de df est de type: <class 'pandas.core.indexes.range.RangeIndex'> \n",
      "\n"
     ]
    },
    {
     "data": {
      "text/plain": [
       "RangeIndex(start=0, stop=46523, step=1)"
      ]
     },
     "execution_count": 29,
     "metadata": {},
     "output_type": "execute_result"
    }
   ],
   "source": [
    "print(f\"L'index de df est de type: {type(df.index)}\", \"\\n\")\n",
    "df.index"
   ]
  },
  {
   "cell_type": "markdown",
   "id": "61994165",
   "metadata": {},
   "source": [
    "**On peut spéficier le nom du pays comme index**"
   ]
  },
  {
   "cell_type": "code",
   "execution_count": 30,
   "id": "f5614ea1",
   "metadata": {},
   "outputs": [
    {
     "data": {
      "text/plain": [
       "pandas.core.indexes.base.Index"
      ]
     },
     "execution_count": 30,
     "metadata": {},
     "output_type": "execute_result"
    }
   ],
   "source": [
    "type(\n",
    "    df.set_index(\"country\").index\n",
    ")"
   ]
  },
  {
   "cell_type": "markdown",
   "id": "95243452",
   "metadata": {},
   "source": [
    "#### b. Attribut `columns` de la DataFrame\n",
    "L'attribut columns est du même type que l'attribut index (lorsque c'est un `string`) "
   ]
  },
  {
   "cell_type": "code",
   "execution_count": 31,
   "id": "590cb357",
   "metadata": {},
   "outputs": [
    {
     "name": "stdout",
     "output_type": "stream",
     "text": [
      "L'attribut columns de df est de type: <class 'pandas.core.indexes.base.Index'> \n",
      "\n"
     ]
    },
    {
     "data": {
      "text/plain": [
       "Index(['country', 'year', 'iso_code', 'population', 'gdp', 'co2'], dtype='object')"
      ]
     },
     "execution_count": 31,
     "metadata": {},
     "output_type": "execute_result"
    }
   ],
   "source": [
    "print(f\"L'attribut columns de df est de type: {type(df.columns)}\", \"\\n\")\n",
    "df.columns"
   ]
  },
  {
   "cell_type": "markdown",
   "id": "5e882357",
   "metadata": {},
   "source": [
    "#### c. Les colonnes sont des attributs de type `Serie`"
   ]
  },
  {
   "cell_type": "code",
   "execution_count": 32,
   "id": "ede50ec9",
   "metadata": {},
   "outputs": [
    {
     "name": "stdout",
     "output_type": "stream",
     "text": [
      "L'attribut country de df est de type: <class 'pandas.core.series.Series'> \n",
      "\n"
     ]
    },
    {
     "data": {
      "text/plain": [
       "0        Afghanistan\n",
       "1        Afghanistan\n",
       "2        Afghanistan\n",
       "3        Afghanistan\n",
       "4        Afghanistan\n",
       "            ...     \n",
       "46518       Zimbabwe\n",
       "46519       Zimbabwe\n",
       "46520       Zimbabwe\n",
       "46521       Zimbabwe\n",
       "46522       Zimbabwe\n",
       "Name: country, Length: 46523, dtype: object"
      ]
     },
     "execution_count": 32,
     "metadata": {},
     "output_type": "execute_result"
    }
   ],
   "source": [
    "print(f\"L'attribut country de df est de type: {type(df.country)}\", \"\\n\")\n",
    "df.country"
   ]
  },
  {
   "cell_type": "markdown",
   "id": "dd4fbd93",
   "metadata": {},
   "source": [
    "#### d. On peut accéder aux colonnes via leur nom"
   ]
  },
  {
   "cell_type": "code",
   "execution_count": 33,
   "id": "3b42ee7e",
   "metadata": {},
   "outputs": [
    {
     "name": "stdout",
     "output_type": "stream",
     "text": [
      "L'attribut country de df est de type: <class 'pandas.core.series.Series'> \n",
      "\n"
     ]
    },
    {
     "data": {
      "text/plain": [
       "0        Afghanistan\n",
       "1        Afghanistan\n",
       "2        Afghanistan\n",
       "3        Afghanistan\n",
       "4        Afghanistan\n",
       "            ...     \n",
       "46518       Zimbabwe\n",
       "46519       Zimbabwe\n",
       "46520       Zimbabwe\n",
       "46521       Zimbabwe\n",
       "46522       Zimbabwe\n",
       "Name: country, Length: 46523, dtype: object"
      ]
     },
     "execution_count": 33,
     "metadata": {},
     "output_type": "execute_result"
    }
   ],
   "source": [
    "print(f\"L'attribut country de df est de type: {type(df['country'])}\", \"\\n\")\n",
    "df[\"country\"]"
   ]
  },
  {
   "cell_type": "markdown",
   "id": "a9b6329d",
   "metadata": {},
   "source": [
    "#### e. Attribut `dtypes` pour inspection des types des valeurs de chaque colonne"
   ]
  },
  {
   "cell_type": "code",
   "execution_count": 34,
   "id": "98e29b0a",
   "metadata": {},
   "outputs": [
    {
     "data": {
      "text/plain": [
       "country        object\n",
       "year            int64\n",
       "iso_code       object\n",
       "population    float64\n",
       "gdp           float64\n",
       "co2           float64\n",
       "dtype: object"
      ]
     },
     "execution_count": 34,
     "metadata": {},
     "output_type": "execute_result"
    }
   ],
   "source": [
    "df.dtypes # object pour string, ou mélane string et valeurs manquantes np.nan (qui sont des float)"
   ]
  },
  {
   "cell_type": "markdown",
   "id": "a31ef3fa",
   "metadata": {},
   "source": [
    "<span style='color:red'>\n",
    "    Cette CheatSheet contient un strict minimum qui est un très bon début pour apprendre à manipuler la librairie. \n",
    "    En revanche, de nombreuses méthodes utilisées fréquemment et très utiles et puissantes n'y figurent pas\n",
    "</span>\n",
    "\n",
    "**<span style='color:red'>\n",
    "Il y a énormément de fines subtilités à prendre en compte lors de l'usage des méthodes de `pandas`. Ainsi, rédiger des tests est une très bonne pratique, tout comme regarder avec ses yeux les résultats obtenus et s'assurer qu'ils sont bien ce à quoi on s'attendait (ce qui ne suffit pas).\n",
    "</span>**"
   ]
  },
  {
   "cell_type": "markdown",
   "id": "4222f3fd",
   "metadata": {},
   "source": [
    "<img src=\"../images/pandas-cheatsheet.jpeg\"   style=\"margin:auto;\">"
   ]
  },
  {
   "cell_type": "markdown",
   "id": "210cff64",
   "metadata": {},
   "source": [
    "# III. Manipulation de données\n",
    "Cette section est une adaptation de [10min to pandas](https://pandas.pydata.org/docs/user_guide/10min.html#selection).\n",
    "***"
   ]
  },
  {
   "cell_type": "markdown",
   "id": "751d2986",
   "metadata": {},
   "source": [
    "## A. Manipulation basiques\n",
    "***"
   ]
  },
  {
   "cell_type": "markdown",
   "id": "a1b822d0",
   "metadata": {},
   "source": [
    "### 1. Vues d'une DataFrame"
   ]
  },
  {
   "cell_type": "markdown",
   "id": "6b1ffbe2",
   "metadata": {},
   "source": [
    "#### a. Premières lignes avec `.head()`\n",
    "**5 premières lignes**"
   ]
  },
  {
   "cell_type": "code",
   "execution_count": 35,
   "id": "9fb797cb",
   "metadata": {},
   "outputs": [
    {
     "data": {
      "text/html": [
       "<div>\n",
       "<style scoped>\n",
       "    .dataframe tbody tr th:only-of-type {\n",
       "        vertical-align: middle;\n",
       "    }\n",
       "\n",
       "    .dataframe tbody tr th {\n",
       "        vertical-align: top;\n",
       "    }\n",
       "\n",
       "    .dataframe thead th {\n",
       "        text-align: right;\n",
       "    }\n",
       "</style>\n",
       "<table border=\"1\" class=\"dataframe\">\n",
       "  <thead>\n",
       "    <tr style=\"text-align: right;\">\n",
       "      <th></th>\n",
       "      <th>country</th>\n",
       "      <th>year</th>\n",
       "      <th>iso_code</th>\n",
       "      <th>population</th>\n",
       "      <th>gdp</th>\n",
       "      <th>co2</th>\n",
       "    </tr>\n",
       "  </thead>\n",
       "  <tbody>\n",
       "    <tr>\n",
       "      <th>0</th>\n",
       "      <td>Afghanistan</td>\n",
       "      <td>1850</td>\n",
       "      <td>AFG</td>\n",
       "      <td>3752993.0</td>\n",
       "      <td>NaN</td>\n",
       "      <td>NaN</td>\n",
       "    </tr>\n",
       "    <tr>\n",
       "      <th>1</th>\n",
       "      <td>Afghanistan</td>\n",
       "      <td>1851</td>\n",
       "      <td>AFG</td>\n",
       "      <td>3769828.0</td>\n",
       "      <td>NaN</td>\n",
       "      <td>NaN</td>\n",
       "    </tr>\n",
       "    <tr>\n",
       "      <th>2</th>\n",
       "      <td>Afghanistan</td>\n",
       "      <td>1852</td>\n",
       "      <td>AFG</td>\n",
       "      <td>3787706.0</td>\n",
       "      <td>NaN</td>\n",
       "      <td>NaN</td>\n",
       "    </tr>\n",
       "    <tr>\n",
       "      <th>3</th>\n",
       "      <td>Afghanistan</td>\n",
       "      <td>1853</td>\n",
       "      <td>AFG</td>\n",
       "      <td>3806634.0</td>\n",
       "      <td>NaN</td>\n",
       "      <td>NaN</td>\n",
       "    </tr>\n",
       "    <tr>\n",
       "      <th>4</th>\n",
       "      <td>Afghanistan</td>\n",
       "      <td>1854</td>\n",
       "      <td>AFG</td>\n",
       "      <td>3825655.0</td>\n",
       "      <td>NaN</td>\n",
       "      <td>NaN</td>\n",
       "    </tr>\n",
       "  </tbody>\n",
       "</table>\n",
       "</div>"
      ],
      "text/plain": [
       "       country  year iso_code  population  gdp  co2\n",
       "0  Afghanistan  1850      AFG   3752993.0  NaN  NaN\n",
       "1  Afghanistan  1851      AFG   3769828.0  NaN  NaN\n",
       "2  Afghanistan  1852      AFG   3787706.0  NaN  NaN\n",
       "3  Afghanistan  1853      AFG   3806634.0  NaN  NaN\n",
       "4  Afghanistan  1854      AFG   3825655.0  NaN  NaN"
      ]
     },
     "execution_count": 35,
     "metadata": {},
     "output_type": "execute_result"
    }
   ],
   "source": [
    "df.head(5)"
   ]
  },
  {
   "cell_type": "markdown",
   "id": "869e0af9",
   "metadata": {},
   "source": [
    "#### b. Dernières lignes avec `.tail()`\n",
    "\n",
    "**5 dernières lignes**"
   ]
  },
  {
   "cell_type": "code",
   "execution_count": 36,
   "id": "75e85d61",
   "metadata": {},
   "outputs": [
    {
     "data": {
      "text/html": [
       "<div>\n",
       "<style scoped>\n",
       "    .dataframe tbody tr th:only-of-type {\n",
       "        vertical-align: middle;\n",
       "    }\n",
       "\n",
       "    .dataframe tbody tr th {\n",
       "        vertical-align: top;\n",
       "    }\n",
       "\n",
       "    .dataframe thead th {\n",
       "        text-align: right;\n",
       "    }\n",
       "</style>\n",
       "<table border=\"1\" class=\"dataframe\">\n",
       "  <thead>\n",
       "    <tr style=\"text-align: right;\">\n",
       "      <th></th>\n",
       "      <th>country</th>\n",
       "      <th>year</th>\n",
       "      <th>iso_code</th>\n",
       "      <th>population</th>\n",
       "      <th>gdp</th>\n",
       "      <th>co2</th>\n",
       "    </tr>\n",
       "  </thead>\n",
       "  <tbody>\n",
       "    <tr>\n",
       "      <th>46518</th>\n",
       "      <td>Zimbabwe</td>\n",
       "      <td>2017</td>\n",
       "      <td>ZWE</td>\n",
       "      <td>14751101.0</td>\n",
       "      <td>2.194784e+10</td>\n",
       "      <td>9.596</td>\n",
       "    </tr>\n",
       "    <tr>\n",
       "      <th>46519</th>\n",
       "      <td>Zimbabwe</td>\n",
       "      <td>2018</td>\n",
       "      <td>ZWE</td>\n",
       "      <td>15052191.0</td>\n",
       "      <td>2.271535e+10</td>\n",
       "      <td>11.795</td>\n",
       "    </tr>\n",
       "    <tr>\n",
       "      <th>46520</th>\n",
       "      <td>Zimbabwe</td>\n",
       "      <td>2019</td>\n",
       "      <td>ZWE</td>\n",
       "      <td>15354606.0</td>\n",
       "      <td>NaN</td>\n",
       "      <td>11.115</td>\n",
       "    </tr>\n",
       "    <tr>\n",
       "      <th>46521</th>\n",
       "      <td>Zimbabwe</td>\n",
       "      <td>2020</td>\n",
       "      <td>ZWE</td>\n",
       "      <td>15669663.0</td>\n",
       "      <td>NaN</td>\n",
       "      <td>10.608</td>\n",
       "    </tr>\n",
       "    <tr>\n",
       "      <th>46522</th>\n",
       "      <td>Zimbabwe</td>\n",
       "      <td>2021</td>\n",
       "      <td>ZWE</td>\n",
       "      <td>15993525.0</td>\n",
       "      <td>NaN</td>\n",
       "      <td>11.296</td>\n",
       "    </tr>\n",
       "  </tbody>\n",
       "</table>\n",
       "</div>"
      ],
      "text/plain": [
       "        country  year iso_code  population           gdp     co2\n",
       "46518  Zimbabwe  2017      ZWE  14751101.0  2.194784e+10   9.596\n",
       "46519  Zimbabwe  2018      ZWE  15052191.0  2.271535e+10  11.795\n",
       "46520  Zimbabwe  2019      ZWE  15354606.0           NaN  11.115\n",
       "46521  Zimbabwe  2020      ZWE  15669663.0           NaN  10.608\n",
       "46522  Zimbabwe  2021      ZWE  15993525.0           NaN  11.296"
      ]
     },
     "execution_count": 36,
     "metadata": {},
     "output_type": "execute_result"
    }
   ],
   "source": [
    "df.tail(5)"
   ]
  },
  {
   "cell_type": "markdown",
   "id": "09ea40bc",
   "metadata": {},
   "source": [
    "#### c.  Lignes avec `.sample()`\n",
    "\n",
    "**5 lignes au hasard**"
   ]
  },
  {
   "cell_type": "code",
   "execution_count": 37,
   "id": "dca7e93f",
   "metadata": {},
   "outputs": [
    {
     "data": {
      "text/html": [
       "<div>\n",
       "<style scoped>\n",
       "    .dataframe tbody tr th:only-of-type {\n",
       "        vertical-align: middle;\n",
       "    }\n",
       "\n",
       "    .dataframe tbody tr th {\n",
       "        vertical-align: top;\n",
       "    }\n",
       "\n",
       "    .dataframe thead th {\n",
       "        text-align: right;\n",
       "    }\n",
       "</style>\n",
       "<table border=\"1\" class=\"dataframe\">\n",
       "  <thead>\n",
       "    <tr style=\"text-align: right;\">\n",
       "      <th></th>\n",
       "      <th>country</th>\n",
       "      <th>year</th>\n",
       "      <th>iso_code</th>\n",
       "      <th>population</th>\n",
       "      <th>gdp</th>\n",
       "      <th>co2</th>\n",
       "    </tr>\n",
       "  </thead>\n",
       "  <tbody>\n",
       "    <tr>\n",
       "      <th>19969</th>\n",
       "      <td>India</td>\n",
       "      <td>1853</td>\n",
       "      <td>IND</td>\n",
       "      <td>238644470.0</td>\n",
       "      <td>NaN</td>\n",
       "      <td>NaN</td>\n",
       "    </tr>\n",
       "    <tr>\n",
       "      <th>24247</th>\n",
       "      <td>Low-income countries</td>\n",
       "      <td>1872</td>\n",
       "      <td>NaN</td>\n",
       "      <td>75882298.0</td>\n",
       "      <td>NaN</td>\n",
       "      <td>0.000</td>\n",
       "    </tr>\n",
       "    <tr>\n",
       "      <th>13050</th>\n",
       "      <td>Ethiopia</td>\n",
       "      <td>1947</td>\n",
       "      <td>ETH</td>\n",
       "      <td>17888877.0</td>\n",
       "      <td>NaN</td>\n",
       "      <td>NaN</td>\n",
       "    </tr>\n",
       "    <tr>\n",
       "      <th>28598</th>\n",
       "      <td>Nauru</td>\n",
       "      <td>1966</td>\n",
       "      <td>NRU</td>\n",
       "      <td>6037.0</td>\n",
       "      <td>NaN</td>\n",
       "      <td>0.033</td>\n",
       "    </tr>\n",
       "    <tr>\n",
       "      <th>6309</th>\n",
       "      <td>Brazil</td>\n",
       "      <td>1901</td>\n",
       "      <td>BRA</td>\n",
       "      <td>18469004.0</td>\n",
       "      <td>1.728848e+10</td>\n",
       "      <td>2.103</td>\n",
       "    </tr>\n",
       "  </tbody>\n",
       "</table>\n",
       "</div>"
      ],
      "text/plain": [
       "                    country  year iso_code   population           gdp    co2\n",
       "19969                 India  1853      IND  238644470.0           NaN    NaN\n",
       "24247  Low-income countries  1872      NaN   75882298.0           NaN  0.000\n",
       "13050              Ethiopia  1947      ETH   17888877.0           NaN    NaN\n",
       "28598                 Nauru  1966      NRU       6037.0           NaN  0.033\n",
       "6309                 Brazil  1901      BRA   18469004.0  1.728848e+10  2.103"
      ]
     },
     "execution_count": 37,
     "metadata": {},
     "output_type": "execute_result"
    }
   ],
   "source": [
    "df.sample(n=5)"
   ]
  },
  {
   "cell_type": "markdown",
   "id": "a10c425e",
   "metadata": {},
   "source": [
    "#### d. Statistiques de bases des variables numériques avec `.describe()`"
   ]
  },
  {
   "cell_type": "code",
   "execution_count": 38,
   "id": "a5413e68",
   "metadata": {},
   "outputs": [
    {
     "name": "stdout",
     "output_type": "stream",
     "text": [
      "<class 'pandas.core.frame.DataFrame'>\n"
     ]
    },
    {
     "data": {
      "text/html": [
       "<div>\n",
       "<style scoped>\n",
       "    .dataframe tbody tr th:only-of-type {\n",
       "        vertical-align: middle;\n",
       "    }\n",
       "\n",
       "    .dataframe tbody tr th {\n",
       "        vertical-align: top;\n",
       "    }\n",
       "\n",
       "    .dataframe thead th {\n",
       "        text-align: right;\n",
       "    }\n",
       "</style>\n",
       "<table border=\"1\" class=\"dataframe\">\n",
       "  <thead>\n",
       "    <tr style=\"text-align: right;\">\n",
       "      <th></th>\n",
       "      <th>year</th>\n",
       "      <th>population</th>\n",
       "      <th>gdp</th>\n",
       "      <th>co2</th>\n",
       "    </tr>\n",
       "  </thead>\n",
       "  <tbody>\n",
       "    <tr>\n",
       "      <th>count</th>\n",
       "      <td>46523.000000</td>\n",
       "      <td>3.857400e+04</td>\n",
       "      <td>1.455100e+04</td>\n",
       "      <td>31349.000000</td>\n",
       "    </tr>\n",
       "    <tr>\n",
       "      <th>mean</th>\n",
       "      <td>1925.686478</td>\n",
       "      <td>6.005374e+07</td>\n",
       "      <td>2.679977e+11</td>\n",
       "      <td>379.988086</td>\n",
       "    </tr>\n",
       "    <tr>\n",
       "      <th>std</th>\n",
       "      <td>61.042693</td>\n",
       "      <td>3.280828e+08</td>\n",
       "      <td>2.104075e+12</td>\n",
       "      <td>1799.875801</td>\n",
       "    </tr>\n",
       "    <tr>\n",
       "      <th>min</th>\n",
       "      <td>1750.000000</td>\n",
       "      <td>2.100000e+01</td>\n",
       "      <td>4.998000e+07</td>\n",
       "      <td>0.000000</td>\n",
       "    </tr>\n",
       "    <tr>\n",
       "      <th>25%</th>\n",
       "      <td>1882.000000</td>\n",
       "      <td>3.808912e+05</td>\n",
       "      <td>7.530493e+09</td>\n",
       "      <td>0.125000</td>\n",
       "    </tr>\n",
       "    <tr>\n",
       "      <th>50%</th>\n",
       "      <td>1930.000000</td>\n",
       "      <td>2.509282e+06</td>\n",
       "      <td>2.605900e+10</td>\n",
       "      <td>3.109000</td>\n",
       "    </tr>\n",
       "    <tr>\n",
       "      <th>75%</th>\n",
       "      <td>1977.000000</td>\n",
       "      <td>9.996447e+06</td>\n",
       "      <td>1.134711e+11</td>\n",
       "      <td>43.660000</td>\n",
       "    </tr>\n",
       "    <tr>\n",
       "      <th>max</th>\n",
       "      <td>2021.000000</td>\n",
       "      <td>7.909295e+09</td>\n",
       "      <td>1.136302e+14</td>\n",
       "      <td>37123.852000</td>\n",
       "    </tr>\n",
       "  </tbody>\n",
       "</table>\n",
       "</div>"
      ],
      "text/plain": [
       "               year    population           gdp           co2\n",
       "count  46523.000000  3.857400e+04  1.455100e+04  31349.000000\n",
       "mean    1925.686478  6.005374e+07  2.679977e+11    379.988086\n",
       "std       61.042693  3.280828e+08  2.104075e+12   1799.875801\n",
       "min     1750.000000  2.100000e+01  4.998000e+07      0.000000\n",
       "25%     1882.000000  3.808912e+05  7.530493e+09      0.125000\n",
       "50%     1930.000000  2.509282e+06  2.605900e+10      3.109000\n",
       "75%     1977.000000  9.996447e+06  1.134711e+11     43.660000\n",
       "max     2021.000000  7.909295e+09  1.136302e+14  37123.852000"
      ]
     },
     "execution_count": 38,
     "metadata": {},
     "output_type": "execute_result"
    }
   ],
   "source": [
    "print(type(df.describe()))\n",
    "df.describe() # renvoie une DataFrame"
   ]
  },
  {
   "cell_type": "markdown",
   "id": "0bbc1e4c",
   "metadata": {},
   "source": [
    "#### e. Transposition des données avec `.T`"
   ]
  },
  {
   "cell_type": "code",
   "execution_count": 39,
   "id": "08410b64",
   "metadata": {},
   "outputs": [
    {
     "data": {
      "text/html": [
       "<div>\n",
       "<style scoped>\n",
       "    .dataframe tbody tr th:only-of-type {\n",
       "        vertical-align: middle;\n",
       "    }\n",
       "\n",
       "    .dataframe tbody tr th {\n",
       "        vertical-align: top;\n",
       "    }\n",
       "\n",
       "    .dataframe thead th {\n",
       "        text-align: right;\n",
       "    }\n",
       "</style>\n",
       "<table border=\"1\" class=\"dataframe\">\n",
       "  <thead>\n",
       "    <tr style=\"text-align: right;\">\n",
       "      <th></th>\n",
       "      <th>0</th>\n",
       "      <th>1</th>\n",
       "      <th>2</th>\n",
       "      <th>3</th>\n",
       "      <th>4</th>\n",
       "      <th>5</th>\n",
       "      <th>6</th>\n",
       "      <th>7</th>\n",
       "      <th>8</th>\n",
       "      <th>9</th>\n",
       "      <th>...</th>\n",
       "      <th>46513</th>\n",
       "      <th>46514</th>\n",
       "      <th>46515</th>\n",
       "      <th>46516</th>\n",
       "      <th>46517</th>\n",
       "      <th>46518</th>\n",
       "      <th>46519</th>\n",
       "      <th>46520</th>\n",
       "      <th>46521</th>\n",
       "      <th>46522</th>\n",
       "    </tr>\n",
       "  </thead>\n",
       "  <tbody>\n",
       "    <tr>\n",
       "      <th>country</th>\n",
       "      <td>Afghanistan</td>\n",
       "      <td>Afghanistan</td>\n",
       "      <td>Afghanistan</td>\n",
       "      <td>Afghanistan</td>\n",
       "      <td>Afghanistan</td>\n",
       "      <td>Afghanistan</td>\n",
       "      <td>Afghanistan</td>\n",
       "      <td>Afghanistan</td>\n",
       "      <td>Afghanistan</td>\n",
       "      <td>Afghanistan</td>\n",
       "      <td>...</td>\n",
       "      <td>Zimbabwe</td>\n",
       "      <td>Zimbabwe</td>\n",
       "      <td>Zimbabwe</td>\n",
       "      <td>Zimbabwe</td>\n",
       "      <td>Zimbabwe</td>\n",
       "      <td>Zimbabwe</td>\n",
       "      <td>Zimbabwe</td>\n",
       "      <td>Zimbabwe</td>\n",
       "      <td>Zimbabwe</td>\n",
       "      <td>Zimbabwe</td>\n",
       "    </tr>\n",
       "    <tr>\n",
       "      <th>year</th>\n",
       "      <td>1850</td>\n",
       "      <td>1851</td>\n",
       "      <td>1852</td>\n",
       "      <td>1853</td>\n",
       "      <td>1854</td>\n",
       "      <td>1855</td>\n",
       "      <td>1856</td>\n",
       "      <td>1857</td>\n",
       "      <td>1858</td>\n",
       "      <td>1859</td>\n",
       "      <td>...</td>\n",
       "      <td>2012</td>\n",
       "      <td>2013</td>\n",
       "      <td>2014</td>\n",
       "      <td>2015</td>\n",
       "      <td>2016</td>\n",
       "      <td>2017</td>\n",
       "      <td>2018</td>\n",
       "      <td>2019</td>\n",
       "      <td>2020</td>\n",
       "      <td>2021</td>\n",
       "    </tr>\n",
       "    <tr>\n",
       "      <th>iso_code</th>\n",
       "      <td>AFG</td>\n",
       "      <td>AFG</td>\n",
       "      <td>AFG</td>\n",
       "      <td>AFG</td>\n",
       "      <td>AFG</td>\n",
       "      <td>AFG</td>\n",
       "      <td>AFG</td>\n",
       "      <td>AFG</td>\n",
       "      <td>AFG</td>\n",
       "      <td>AFG</td>\n",
       "      <td>...</td>\n",
       "      <td>ZWE</td>\n",
       "      <td>ZWE</td>\n",
       "      <td>ZWE</td>\n",
       "      <td>ZWE</td>\n",
       "      <td>ZWE</td>\n",
       "      <td>ZWE</td>\n",
       "      <td>ZWE</td>\n",
       "      <td>ZWE</td>\n",
       "      <td>ZWE</td>\n",
       "      <td>ZWE</td>\n",
       "    </tr>\n",
       "    <tr>\n",
       "      <th>population</th>\n",
       "      <td>3752993.0</td>\n",
       "      <td>3769828.0</td>\n",
       "      <td>3787706.0</td>\n",
       "      <td>3806634.0</td>\n",
       "      <td>3825655.0</td>\n",
       "      <td>3844769.0</td>\n",
       "      <td>3863976.0</td>\n",
       "      <td>3883276.0</td>\n",
       "      <td>3902671.0</td>\n",
       "      <td>3922160.0</td>\n",
       "      <td>...</td>\n",
       "      <td>13265331.0</td>\n",
       "      <td>13555420.0</td>\n",
       "      <td>13855758.0</td>\n",
       "      <td>14154937.0</td>\n",
       "      <td>14452705.0</td>\n",
       "      <td>14751101.0</td>\n",
       "      <td>15052191.0</td>\n",
       "      <td>15354606.0</td>\n",
       "      <td>15669663.0</td>\n",
       "      <td>15993525.0</td>\n",
       "    </tr>\n",
       "    <tr>\n",
       "      <th>gdp</th>\n",
       "      <td>NaN</td>\n",
       "      <td>NaN</td>\n",
       "      <td>NaN</td>\n",
       "      <td>NaN</td>\n",
       "      <td>NaN</td>\n",
       "      <td>NaN</td>\n",
       "      <td>NaN</td>\n",
       "      <td>NaN</td>\n",
       "      <td>NaN</td>\n",
       "      <td>NaN</td>\n",
       "      <td>...</td>\n",
       "      <td>20909967360.0</td>\n",
       "      <td>21123497984.0</td>\n",
       "      <td>21222502400.0</td>\n",
       "      <td>21027454976.0</td>\n",
       "      <td>20961794048.0</td>\n",
       "      <td>21947836416.0</td>\n",
       "      <td>22715353088.0</td>\n",
       "      <td>NaN</td>\n",
       "      <td>NaN</td>\n",
       "      <td>NaN</td>\n",
       "    </tr>\n",
       "    <tr>\n",
       "      <th>co2</th>\n",
       "      <td>NaN</td>\n",
       "      <td>NaN</td>\n",
       "      <td>NaN</td>\n",
       "      <td>NaN</td>\n",
       "      <td>NaN</td>\n",
       "      <td>NaN</td>\n",
       "      <td>NaN</td>\n",
       "      <td>NaN</td>\n",
       "      <td>NaN</td>\n",
       "      <td>NaN</td>\n",
       "      <td>...</td>\n",
       "      <td>11.254</td>\n",
       "      <td>11.671</td>\n",
       "      <td>11.946</td>\n",
       "      <td>12.255</td>\n",
       "      <td>10.533</td>\n",
       "      <td>9.596</td>\n",
       "      <td>11.795</td>\n",
       "      <td>11.115</td>\n",
       "      <td>10.608</td>\n",
       "      <td>11.296</td>\n",
       "    </tr>\n",
       "  </tbody>\n",
       "</table>\n",
       "<p>6 rows × 46523 columns</p>\n",
       "</div>"
      ],
      "text/plain": [
       "                  0            1            2            3            4      \\\n",
       "country     Afghanistan  Afghanistan  Afghanistan  Afghanistan  Afghanistan   \n",
       "year               1850         1851         1852         1853         1854   \n",
       "iso_code            AFG          AFG          AFG          AFG          AFG   \n",
       "population    3752993.0    3769828.0    3787706.0    3806634.0    3825655.0   \n",
       "gdp                 NaN          NaN          NaN          NaN          NaN   \n",
       "co2                 NaN          NaN          NaN          NaN          NaN   \n",
       "\n",
       "                  5            6            7            8            9      \\\n",
       "country     Afghanistan  Afghanistan  Afghanistan  Afghanistan  Afghanistan   \n",
       "year               1855         1856         1857         1858         1859   \n",
       "iso_code            AFG          AFG          AFG          AFG          AFG   \n",
       "population    3844769.0    3863976.0    3883276.0    3902671.0    3922160.0   \n",
       "gdp                 NaN          NaN          NaN          NaN          NaN   \n",
       "co2                 NaN          NaN          NaN          NaN          NaN   \n",
       "\n",
       "            ...          46513          46514          46515          46516  \\\n",
       "country     ...       Zimbabwe       Zimbabwe       Zimbabwe       Zimbabwe   \n",
       "year        ...           2012           2013           2014           2015   \n",
       "iso_code    ...            ZWE            ZWE            ZWE            ZWE   \n",
       "population  ...     13265331.0     13555420.0     13855758.0     14154937.0   \n",
       "gdp         ...  20909967360.0  21123497984.0  21222502400.0  21027454976.0   \n",
       "co2         ...         11.254         11.671         11.946         12.255   \n",
       "\n",
       "                    46517          46518          46519       46520  \\\n",
       "country          Zimbabwe       Zimbabwe       Zimbabwe    Zimbabwe   \n",
       "year                 2016           2017           2018        2019   \n",
       "iso_code              ZWE            ZWE            ZWE         ZWE   \n",
       "population     14452705.0     14751101.0     15052191.0  15354606.0   \n",
       "gdp         20961794048.0  21947836416.0  22715353088.0         NaN   \n",
       "co2                10.533          9.596         11.795      11.115   \n",
       "\n",
       "                 46521       46522  \n",
       "country       Zimbabwe    Zimbabwe  \n",
       "year              2020        2021  \n",
       "iso_code           ZWE         ZWE  \n",
       "population  15669663.0  15993525.0  \n",
       "gdp                NaN         NaN  \n",
       "co2             10.608      11.296  \n",
       "\n",
       "[6 rows x 46523 columns]"
      ]
     },
     "execution_count": 39,
     "metadata": {},
     "output_type": "execute_result"
    }
   ],
   "source": [
    "df.T"
   ]
  },
  {
   "cell_type": "code",
   "execution_count": 40,
   "id": "c608e4f8",
   "metadata": {},
   "outputs": [
    {
     "data": {
      "text/html": [
       "<div>\n",
       "<style scoped>\n",
       "    .dataframe tbody tr th:only-of-type {\n",
       "        vertical-align: middle;\n",
       "    }\n",
       "\n",
       "    .dataframe tbody tr th {\n",
       "        vertical-align: top;\n",
       "    }\n",
       "\n",
       "    .dataframe thead th {\n",
       "        text-align: right;\n",
       "    }\n",
       "</style>\n",
       "<table border=\"1\" class=\"dataframe\">\n",
       "  <thead>\n",
       "    <tr style=\"text-align: right;\">\n",
       "      <th></th>\n",
       "      <th>2022-01-01</th>\n",
       "      <th>2022-01-02</th>\n",
       "      <th>2022-01-03</th>\n",
       "      <th>2022-01-04</th>\n",
       "      <th>2022-01-05</th>\n",
       "      <th>2022-01-06</th>\n",
       "      <th>2022-01-07</th>\n",
       "      <th>2022-01-08</th>\n",
       "      <th>2022-01-09</th>\n",
       "      <th>2022-01-10</th>\n",
       "      <th>...</th>\n",
       "      <th>2022-04-01</th>\n",
       "      <th>2022-04-02</th>\n",
       "      <th>2022-04-03</th>\n",
       "      <th>2022-04-04</th>\n",
       "      <th>2022-04-05</th>\n",
       "      <th>2022-04-06</th>\n",
       "      <th>2022-04-07</th>\n",
       "      <th>2022-04-08</th>\n",
       "      <th>2022-04-09</th>\n",
       "      <th>2022-04-10</th>\n",
       "    </tr>\n",
       "  </thead>\n",
       "  <tbody>\n",
       "    <tr>\n",
       "      <th>score_player_1</th>\n",
       "      <td>126.0</td>\n",
       "      <td>80.0</td>\n",
       "      <td>11.0</td>\n",
       "      <td>29.0</td>\n",
       "      <td>168.0</td>\n",
       "      <td>52.0</td>\n",
       "      <td>136.0</td>\n",
       "      <td>15.0</td>\n",
       "      <td>97.0</td>\n",
       "      <td>82.0</td>\n",
       "      <td>...</td>\n",
       "      <td>16.0</td>\n",
       "      <td>136.0</td>\n",
       "      <td>110.0</td>\n",
       "      <td>8.0</td>\n",
       "      <td>151.0</td>\n",
       "      <td>116.0</td>\n",
       "      <td>15.0</td>\n",
       "      <td>179.0</td>\n",
       "      <td>144.0</td>\n",
       "      <td>17.0</td>\n",
       "    </tr>\n",
       "    <tr>\n",
       "      <th>score_player_2</th>\n",
       "      <td>171.0</td>\n",
       "      <td>91.0</td>\n",
       "      <td>19.0</td>\n",
       "      <td>6.0</td>\n",
       "      <td>116.0</td>\n",
       "      <td>134.0</td>\n",
       "      <td>169.0</td>\n",
       "      <td>82.0</td>\n",
       "      <td>18.0</td>\n",
       "      <td>67.0</td>\n",
       "      <td>...</td>\n",
       "      <td>195.0</td>\n",
       "      <td>98.0</td>\n",
       "      <td>1.0</td>\n",
       "      <td>47.0</td>\n",
       "      <td>35.0</td>\n",
       "      <td>10.0</td>\n",
       "      <td>16.0</td>\n",
       "      <td>94.0</td>\n",
       "      <td>35.0</td>\n",
       "      <td>79.0</td>\n",
       "    </tr>\n",
       "    <tr>\n",
       "      <th>score_player_3</th>\n",
       "      <td>44.0</td>\n",
       "      <td>28.0</td>\n",
       "      <td>27.0</td>\n",
       "      <td>5.0</td>\n",
       "      <td>240.0</td>\n",
       "      <td>55.0</td>\n",
       "      <td>143.0</td>\n",
       "      <td>2.0</td>\n",
       "      <td>31.0</td>\n",
       "      <td>180.0</td>\n",
       "      <td>...</td>\n",
       "      <td>18.0</td>\n",
       "      <td>135.0</td>\n",
       "      <td>85.0</td>\n",
       "      <td>123.0</td>\n",
       "      <td>45.0</td>\n",
       "      <td>4.0</td>\n",
       "      <td>189.0</td>\n",
       "      <td>98.0</td>\n",
       "      <td>62.0</td>\n",
       "      <td>74.0</td>\n",
       "    </tr>\n",
       "  </tbody>\n",
       "</table>\n",
       "<p>3 rows × 100 columns</p>\n",
       "</div>"
      ],
      "text/plain": [
       "                2022-01-01  2022-01-02  2022-01-03  2022-01-04  2022-01-05  \\\n",
       "score_player_1       126.0        80.0        11.0        29.0       168.0   \n",
       "score_player_2       171.0        91.0        19.0         6.0       116.0   \n",
       "score_player_3        44.0        28.0        27.0         5.0       240.0   \n",
       "\n",
       "                2022-01-06  2022-01-07  2022-01-08  2022-01-09  2022-01-10  \\\n",
       "score_player_1        52.0       136.0        15.0        97.0        82.0   \n",
       "score_player_2       134.0       169.0        82.0        18.0        67.0   \n",
       "score_player_3        55.0       143.0         2.0        31.0       180.0   \n",
       "\n",
       "                ...  2022-04-01  2022-04-02  2022-04-03  2022-04-04  \\\n",
       "score_player_1  ...        16.0       136.0       110.0         8.0   \n",
       "score_player_2  ...       195.0        98.0         1.0        47.0   \n",
       "score_player_3  ...        18.0       135.0        85.0       123.0   \n",
       "\n",
       "                2022-04-05  2022-04-06  2022-04-07  2022-04-08  2022-04-09  \\\n",
       "score_player_1       151.0       116.0        15.0       179.0       144.0   \n",
       "score_player_2        35.0        10.0        16.0        94.0        35.0   \n",
       "score_player_3        45.0         4.0       189.0        98.0        62.0   \n",
       "\n",
       "                2022-04-10  \n",
       "score_player_1        17.0  \n",
       "score_player_2        79.0  \n",
       "score_player_3        74.0  \n",
       "\n",
       "[3 rows x 100 columns]"
      ]
     },
     "execution_count": 40,
     "metadata": {},
     "output_type": "execute_result"
    }
   ],
   "source": [
    "## Souvent utiles avec les données indexées dans le temps : \n",
    "import datetime\n",
    "\n",
    "date_start = datetime.datetime(2022, 1, 1)\n",
    "date_end = datetime.datetime(2022, 1, 1) + datetime.timedelta(days=99)\n",
    "\n",
    "df_scores = pd.DataFrame(\n",
    "    np.ceil(np.abs(np.random.randn(100, 3)*100)),\n",
    "    columns=[\"score_player_1\", \"score_player_2\", \"score_player_3\"],\n",
    "    index=pd.date_range(date_start, date_end)\n",
    "    \n",
    ")\n",
    "df_scores.T # Les dates deviennent les variables et les scores les individus"
   ]
  },
  {
   "cell_type": "markdown",
   "id": "76af0a41",
   "metadata": {},
   "source": [
    "#### f. Tri selon une colonne"
   ]
  },
  {
   "cell_type": "code",
   "execution_count": 41,
   "id": "6ec8c541",
   "metadata": {},
   "outputs": [
    {
     "data": {
      "text/html": [
       "<div>\n",
       "<style scoped>\n",
       "    .dataframe tbody tr th:only-of-type {\n",
       "        vertical-align: middle;\n",
       "    }\n",
       "\n",
       "    .dataframe tbody tr th {\n",
       "        vertical-align: top;\n",
       "    }\n",
       "\n",
       "    .dataframe thead th {\n",
       "        text-align: right;\n",
       "    }\n",
       "</style>\n",
       "<table border=\"1\" class=\"dataframe\">\n",
       "  <thead>\n",
       "    <tr style=\"text-align: right;\">\n",
       "      <th></th>\n",
       "      <th>score_player_1</th>\n",
       "      <th>score_player_2</th>\n",
       "      <th>score_player_3</th>\n",
       "    </tr>\n",
       "  </thead>\n",
       "  <tbody>\n",
       "    <tr>\n",
       "      <th>2022-02-21</th>\n",
       "      <td>220.0</td>\n",
       "      <td>328.0</td>\n",
       "      <td>151.0</td>\n",
       "    </tr>\n",
       "    <tr>\n",
       "      <th>2022-02-04</th>\n",
       "      <td>28.0</td>\n",
       "      <td>230.0</td>\n",
       "      <td>172.0</td>\n",
       "    </tr>\n",
       "    <tr>\n",
       "      <th>2022-03-26</th>\n",
       "      <td>149.0</td>\n",
       "      <td>226.0</td>\n",
       "      <td>37.0</td>\n",
       "    </tr>\n",
       "    <tr>\n",
       "      <th>2022-01-31</th>\n",
       "      <td>17.0</td>\n",
       "      <td>207.0</td>\n",
       "      <td>20.0</td>\n",
       "    </tr>\n",
       "    <tr>\n",
       "      <th>2022-01-28</th>\n",
       "      <td>198.0</td>\n",
       "      <td>206.0</td>\n",
       "      <td>94.0</td>\n",
       "    </tr>\n",
       "    <tr>\n",
       "      <th>...</th>\n",
       "      <td>...</td>\n",
       "      <td>...</td>\n",
       "      <td>...</td>\n",
       "    </tr>\n",
       "    <tr>\n",
       "      <th>2022-03-31</th>\n",
       "      <td>43.0</td>\n",
       "      <td>3.0</td>\n",
       "      <td>32.0</td>\n",
       "    </tr>\n",
       "    <tr>\n",
       "      <th>2022-01-20</th>\n",
       "      <td>32.0</td>\n",
       "      <td>3.0</td>\n",
       "      <td>53.0</td>\n",
       "    </tr>\n",
       "    <tr>\n",
       "      <th>2022-02-20</th>\n",
       "      <td>70.0</td>\n",
       "      <td>2.0</td>\n",
       "      <td>35.0</td>\n",
       "    </tr>\n",
       "    <tr>\n",
       "      <th>2022-02-17</th>\n",
       "      <td>1.0</td>\n",
       "      <td>1.0</td>\n",
       "      <td>22.0</td>\n",
       "    </tr>\n",
       "    <tr>\n",
       "      <th>2022-04-03</th>\n",
       "      <td>110.0</td>\n",
       "      <td>1.0</td>\n",
       "      <td>85.0</td>\n",
       "    </tr>\n",
       "  </tbody>\n",
       "</table>\n",
       "<p>100 rows × 3 columns</p>\n",
       "</div>"
      ],
      "text/plain": [
       "            score_player_1  score_player_2  score_player_3\n",
       "2022-02-21           220.0           328.0           151.0\n",
       "2022-02-04            28.0           230.0           172.0\n",
       "2022-03-26           149.0           226.0            37.0\n",
       "2022-01-31            17.0           207.0            20.0\n",
       "2022-01-28           198.0           206.0            94.0\n",
       "...                    ...             ...             ...\n",
       "2022-03-31            43.0             3.0            32.0\n",
       "2022-01-20            32.0             3.0            53.0\n",
       "2022-02-20            70.0             2.0            35.0\n",
       "2022-02-17             1.0             1.0            22.0\n",
       "2022-04-03           110.0             1.0            85.0\n",
       "\n",
       "[100 rows x 3 columns]"
      ]
     },
     "execution_count": 41,
     "metadata": {},
     "output_type": "execute_result"
    }
   ],
   "source": [
    "df_scores.sort_values('score_player_2', ascending=False) # False -> d\"croissant"
   ]
  },
  {
   "cell_type": "markdown",
   "id": "b7006c3c",
   "metadata": {},
   "source": [
    "#### f. Tri selon un index"
   ]
  },
  {
   "cell_type": "code",
   "execution_count": 42,
   "id": "dddfa3fe",
   "metadata": {},
   "outputs": [
    {
     "data": {
      "text/html": [
       "<div>\n",
       "<style scoped>\n",
       "    .dataframe tbody tr th:only-of-type {\n",
       "        vertical-align: middle;\n",
       "    }\n",
       "\n",
       "    .dataframe tbody tr th {\n",
       "        vertical-align: top;\n",
       "    }\n",
       "\n",
       "    .dataframe thead th {\n",
       "        text-align: right;\n",
       "    }\n",
       "</style>\n",
       "<table border=\"1\" class=\"dataframe\">\n",
       "  <thead>\n",
       "    <tr style=\"text-align: right;\">\n",
       "      <th></th>\n",
       "      <th>score_player_1</th>\n",
       "      <th>score_player_2</th>\n",
       "      <th>score_player_3</th>\n",
       "    </tr>\n",
       "  </thead>\n",
       "  <tbody>\n",
       "    <tr>\n",
       "      <th>2022-04-10</th>\n",
       "      <td>17.0</td>\n",
       "      <td>79.0</td>\n",
       "      <td>74.0</td>\n",
       "    </tr>\n",
       "    <tr>\n",
       "      <th>2022-04-09</th>\n",
       "      <td>144.0</td>\n",
       "      <td>35.0</td>\n",
       "      <td>62.0</td>\n",
       "    </tr>\n",
       "    <tr>\n",
       "      <th>2022-04-08</th>\n",
       "      <td>179.0</td>\n",
       "      <td>94.0</td>\n",
       "      <td>98.0</td>\n",
       "    </tr>\n",
       "    <tr>\n",
       "      <th>2022-04-07</th>\n",
       "      <td>15.0</td>\n",
       "      <td>16.0</td>\n",
       "      <td>189.0</td>\n",
       "    </tr>\n",
       "    <tr>\n",
       "      <th>2022-04-06</th>\n",
       "      <td>116.0</td>\n",
       "      <td>10.0</td>\n",
       "      <td>4.0</td>\n",
       "    </tr>\n",
       "    <tr>\n",
       "      <th>...</th>\n",
       "      <td>...</td>\n",
       "      <td>...</td>\n",
       "      <td>...</td>\n",
       "    </tr>\n",
       "    <tr>\n",
       "      <th>2022-01-05</th>\n",
       "      <td>168.0</td>\n",
       "      <td>116.0</td>\n",
       "      <td>240.0</td>\n",
       "    </tr>\n",
       "    <tr>\n",
       "      <th>2022-01-04</th>\n",
       "      <td>29.0</td>\n",
       "      <td>6.0</td>\n",
       "      <td>5.0</td>\n",
       "    </tr>\n",
       "    <tr>\n",
       "      <th>2022-01-03</th>\n",
       "      <td>11.0</td>\n",
       "      <td>19.0</td>\n",
       "      <td>27.0</td>\n",
       "    </tr>\n",
       "    <tr>\n",
       "      <th>2022-01-02</th>\n",
       "      <td>80.0</td>\n",
       "      <td>91.0</td>\n",
       "      <td>28.0</td>\n",
       "    </tr>\n",
       "    <tr>\n",
       "      <th>2022-01-01</th>\n",
       "      <td>126.0</td>\n",
       "      <td>171.0</td>\n",
       "      <td>44.0</td>\n",
       "    </tr>\n",
       "  </tbody>\n",
       "</table>\n",
       "<p>100 rows × 3 columns</p>\n",
       "</div>"
      ],
      "text/plain": [
       "            score_player_1  score_player_2  score_player_3\n",
       "2022-04-10            17.0            79.0            74.0\n",
       "2022-04-09           144.0            35.0            62.0\n",
       "2022-04-08           179.0            94.0            98.0\n",
       "2022-04-07            15.0            16.0           189.0\n",
       "2022-04-06           116.0            10.0             4.0\n",
       "...                    ...             ...             ...\n",
       "2022-01-05           168.0           116.0           240.0\n",
       "2022-01-04            29.0             6.0             5.0\n",
       "2022-01-03            11.0            19.0            27.0\n",
       "2022-01-02            80.0            91.0            28.0\n",
       "2022-01-01           126.0           171.0            44.0\n",
       "\n",
       "[100 rows x 3 columns]"
      ]
     },
     "execution_count": 42,
     "metadata": {},
     "output_type": "execute_result"
    }
   ],
   "source": [
    "df_scores.sort_index(ascending=False)"
   ]
  },
  {
   "cell_type": "markdown",
   "id": "de5ca67b",
   "metadata": {},
   "source": [
    "### 2. Sélection dans une `Dataframe`"
   ]
  },
  {
   "cell_type": "markdown",
   "id": "1e7481ed",
   "metadata": {},
   "source": [
    "#### a. Sélection via `___get_item__`"
   ]
  },
  {
   "cell_type": "markdown",
   "id": "b81fd098",
   "metadata": {},
   "source": [
    "**Avec des entiers**"
   ]
  },
  {
   "cell_type": "code",
   "execution_count": 43,
   "id": "d9f21bfd",
   "metadata": {},
   "outputs": [
    {
     "data": {
      "text/html": [
       "<div>\n",
       "<style scoped>\n",
       "    .dataframe tbody tr th:only-of-type {\n",
       "        vertical-align: middle;\n",
       "    }\n",
       "\n",
       "    .dataframe tbody tr th {\n",
       "        vertical-align: top;\n",
       "    }\n",
       "\n",
       "    .dataframe thead th {\n",
       "        text-align: right;\n",
       "    }\n",
       "</style>\n",
       "<table border=\"1\" class=\"dataframe\">\n",
       "  <thead>\n",
       "    <tr style=\"text-align: right;\">\n",
       "      <th></th>\n",
       "      <th>country</th>\n",
       "      <th>year</th>\n",
       "      <th>iso_code</th>\n",
       "      <th>population</th>\n",
       "      <th>gdp</th>\n",
       "      <th>co2</th>\n",
       "    </tr>\n",
       "  </thead>\n",
       "  <tbody>\n",
       "    <tr>\n",
       "      <th>0</th>\n",
       "      <td>Afghanistan</td>\n",
       "      <td>1850</td>\n",
       "      <td>AFG</td>\n",
       "      <td>3752993.0</td>\n",
       "      <td>NaN</td>\n",
       "      <td>NaN</td>\n",
       "    </tr>\n",
       "    <tr>\n",
       "      <th>1</th>\n",
       "      <td>Afghanistan</td>\n",
       "      <td>1851</td>\n",
       "      <td>AFG</td>\n",
       "      <td>3769828.0</td>\n",
       "      <td>NaN</td>\n",
       "      <td>NaN</td>\n",
       "    </tr>\n",
       "    <tr>\n",
       "      <th>2</th>\n",
       "      <td>Afghanistan</td>\n",
       "      <td>1852</td>\n",
       "      <td>AFG</td>\n",
       "      <td>3787706.0</td>\n",
       "      <td>NaN</td>\n",
       "      <td>NaN</td>\n",
       "    </tr>\n",
       "  </tbody>\n",
       "</table>\n",
       "</div>"
      ],
      "text/plain": [
       "       country  year iso_code  population  gdp  co2\n",
       "0  Afghanistan  1850      AFG   3752993.0  NaN  NaN\n",
       "1  Afghanistan  1851      AFG   3769828.0  NaN  NaN\n",
       "2  Afghanistan  1852      AFG   3787706.0  NaN  NaN"
      ]
     },
     "execution_count": 43,
     "metadata": {},
     "output_type": "execute_result"
    }
   ],
   "source": [
    "df[0:3]"
   ]
  },
  {
   "cell_type": "markdown",
   "id": "7dda1b4c",
   "metadata": {},
   "source": [
    "**Avec des dates**"
   ]
  },
  {
   "cell_type": "code",
   "execution_count": 44,
   "id": "1bbd12cb",
   "metadata": {},
   "outputs": [
    {
     "data": {
      "text/html": [
       "<div>\n",
       "<style scoped>\n",
       "    .dataframe tbody tr th:only-of-type {\n",
       "        vertical-align: middle;\n",
       "    }\n",
       "\n",
       "    .dataframe tbody tr th {\n",
       "        vertical-align: top;\n",
       "    }\n",
       "\n",
       "    .dataframe thead th {\n",
       "        text-align: right;\n",
       "    }\n",
       "</style>\n",
       "<table border=\"1\" class=\"dataframe\">\n",
       "  <thead>\n",
       "    <tr style=\"text-align: right;\">\n",
       "      <th></th>\n",
       "      <th>score_player_1</th>\n",
       "      <th>score_player_2</th>\n",
       "      <th>score_player_3</th>\n",
       "    </tr>\n",
       "  </thead>\n",
       "  <tbody>\n",
       "    <tr>\n",
       "      <th>2022-01-01</th>\n",
       "      <td>126.0</td>\n",
       "      <td>171.0</td>\n",
       "      <td>44.0</td>\n",
       "    </tr>\n",
       "    <tr>\n",
       "      <th>2022-01-02</th>\n",
       "      <td>80.0</td>\n",
       "      <td>91.0</td>\n",
       "      <td>28.0</td>\n",
       "    </tr>\n",
       "    <tr>\n",
       "      <th>2022-01-03</th>\n",
       "      <td>11.0</td>\n",
       "      <td>19.0</td>\n",
       "      <td>27.0</td>\n",
       "    </tr>\n",
       "    <tr>\n",
       "      <th>2022-01-04</th>\n",
       "      <td>29.0</td>\n",
       "      <td>6.0</td>\n",
       "      <td>5.0</td>\n",
       "    </tr>\n",
       "    <tr>\n",
       "      <th>2022-01-05</th>\n",
       "      <td>168.0</td>\n",
       "      <td>116.0</td>\n",
       "      <td>240.0</td>\n",
       "    </tr>\n",
       "    <tr>\n",
       "      <th>2022-01-06</th>\n",
       "      <td>52.0</td>\n",
       "      <td>134.0</td>\n",
       "      <td>55.0</td>\n",
       "    </tr>\n",
       "    <tr>\n",
       "      <th>2022-01-07</th>\n",
       "      <td>136.0</td>\n",
       "      <td>169.0</td>\n",
       "      <td>143.0</td>\n",
       "    </tr>\n",
       "    <tr>\n",
       "      <th>2022-01-08</th>\n",
       "      <td>15.0</td>\n",
       "      <td>82.0</td>\n",
       "      <td>2.0</td>\n",
       "    </tr>\n",
       "    <tr>\n",
       "      <th>2022-01-09</th>\n",
       "      <td>97.0</td>\n",
       "      <td>18.0</td>\n",
       "      <td>31.0</td>\n",
       "    </tr>\n",
       "    <tr>\n",
       "      <th>2022-01-10</th>\n",
       "      <td>82.0</td>\n",
       "      <td>67.0</td>\n",
       "      <td>180.0</td>\n",
       "    </tr>\n",
       "  </tbody>\n",
       "</table>\n",
       "</div>"
      ],
      "text/plain": [
       "            score_player_1  score_player_2  score_player_3\n",
       "2022-01-01           126.0           171.0            44.0\n",
       "2022-01-02            80.0            91.0            28.0\n",
       "2022-01-03            11.0            19.0            27.0\n",
       "2022-01-04            29.0             6.0             5.0\n",
       "2022-01-05           168.0           116.0           240.0\n",
       "2022-01-06            52.0           134.0            55.0\n",
       "2022-01-07           136.0           169.0           143.0\n",
       "2022-01-08            15.0            82.0             2.0\n",
       "2022-01-09            97.0            18.0            31.0\n",
       "2022-01-10            82.0            67.0           180.0"
      ]
     },
     "execution_count": 44,
     "metadata": {},
     "output_type": "execute_result"
    }
   ],
   "source": [
    "datetime_1 = datetime.datetime(2022, 1, 1)\n",
    "datetime_2 = datetime.datetime(2022, 1, 10)\n",
    "df_scores[datetime_1:datetime_2]"
   ]
  },
  {
   "cell_type": "markdown",
   "id": "2bd34222",
   "metadata": {},
   "source": [
    "#### a. Sélection avec le label "
   ]
  },
  {
   "cell_type": "markdown",
   "id": "11e07ac6",
   "metadata": {},
   "source": [
    "**Label entier**"
   ]
  },
  {
   "cell_type": "code",
   "execution_count": 45,
   "id": "2bdcd81f",
   "metadata": {},
   "outputs": [
    {
     "data": {
      "text/plain": [
       "country       Afghanistan\n",
       "year                 1895\n",
       "iso_code              AFG\n",
       "population      4691426.0\n",
       "gdp                   NaN\n",
       "co2                   NaN\n",
       "Name: 45, dtype: object"
      ]
     },
     "execution_count": 45,
     "metadata": {},
     "output_type": "execute_result"
    }
   ],
   "source": [
    "df.loc[45]"
   ]
  },
  {
   "cell_type": "markdown",
   "id": "b2139072",
   "metadata": {},
   "source": [
    "**Label de type `datetime`**"
   ]
  },
  {
   "cell_type": "code",
   "execution_count": 46,
   "id": "6d821822",
   "metadata": {},
   "outputs": [
    {
     "data": {
      "text/plain": [
       "score_player_1    126.0\n",
       "score_player_2    171.0\n",
       "score_player_3     44.0\n",
       "Name: 2022-01-01 00:00:00, dtype: float64"
      ]
     },
     "execution_count": 46,
     "metadata": {},
     "output_type": "execute_result"
    }
   ],
   "source": [
    "df_scores.loc[datetime.datetime(2022, 1, 1)]"
   ]
  },
  {
   "cell_type": "markdown",
   "id": "e494322e",
   "metadata": {},
   "source": [
    "**🚨 Les deux bornes sont incluses pour l'index**"
   ]
  },
  {
   "cell_type": "code",
   "execution_count": 47,
   "id": "343fdd71",
   "metadata": {},
   "outputs": [
    {
     "data": {
      "text/html": [
       "<div>\n",
       "<style scoped>\n",
       "    .dataframe tbody tr th:only-of-type {\n",
       "        vertical-align: middle;\n",
       "    }\n",
       "\n",
       "    .dataframe tbody tr th {\n",
       "        vertical-align: top;\n",
       "    }\n",
       "\n",
       "    .dataframe thead th {\n",
       "        text-align: right;\n",
       "    }\n",
       "</style>\n",
       "<table border=\"1\" class=\"dataframe\">\n",
       "  <thead>\n",
       "    <tr style=\"text-align: right;\">\n",
       "      <th></th>\n",
       "      <th>score_player_1</th>\n",
       "      <th>score_player_2</th>\n",
       "      <th>score_player_3</th>\n",
       "    </tr>\n",
       "  </thead>\n",
       "  <tbody>\n",
       "    <tr>\n",
       "      <th>2022-01-01</th>\n",
       "      <td>126.0</td>\n",
       "      <td>171.0</td>\n",
       "      <td>44.0</td>\n",
       "    </tr>\n",
       "    <tr>\n",
       "      <th>2022-01-02</th>\n",
       "      <td>80.0</td>\n",
       "      <td>91.0</td>\n",
       "      <td>28.0</td>\n",
       "    </tr>\n",
       "    <tr>\n",
       "      <th>2022-01-03</th>\n",
       "      <td>11.0</td>\n",
       "      <td>19.0</td>\n",
       "      <td>27.0</td>\n",
       "    </tr>\n",
       "  </tbody>\n",
       "</table>\n",
       "</div>"
      ],
      "text/plain": [
       "            score_player_1  score_player_2  score_player_3\n",
       "2022-01-01           126.0           171.0            44.0\n",
       "2022-01-02            80.0            91.0            28.0\n",
       "2022-01-03            11.0            19.0            27.0"
      ]
     },
     "execution_count": 47,
     "metadata": {},
     "output_type": "execute_result"
    }
   ],
   "source": [
    "df_scores.loc[datetime.datetime(2022, 1, 1):datetime.datetime(2022, 1, 3)]"
   ]
  },
  {
   "cell_type": "markdown",
   "id": "6087ec21",
   "metadata": {},
   "source": [
    "**Selection simultanée des colonnes**"
   ]
  },
  {
   "cell_type": "code",
   "execution_count": 48,
   "id": "b2e5c94a",
   "metadata": {},
   "outputs": [
    {
     "data": {
      "text/html": [
       "<div>\n",
       "<style scoped>\n",
       "    .dataframe tbody tr th:only-of-type {\n",
       "        vertical-align: middle;\n",
       "    }\n",
       "\n",
       "    .dataframe tbody tr th {\n",
       "        vertical-align: top;\n",
       "    }\n",
       "\n",
       "    .dataframe thead th {\n",
       "        text-align: right;\n",
       "    }\n",
       "</style>\n",
       "<table border=\"1\" class=\"dataframe\">\n",
       "  <thead>\n",
       "    <tr style=\"text-align: right;\">\n",
       "      <th></th>\n",
       "      <th>score_player_1</th>\n",
       "      <th>score_player_2</th>\n",
       "    </tr>\n",
       "  </thead>\n",
       "  <tbody>\n",
       "    <tr>\n",
       "      <th>2022-01-01</th>\n",
       "      <td>126.0</td>\n",
       "      <td>171.0</td>\n",
       "    </tr>\n",
       "    <tr>\n",
       "      <th>2022-01-02</th>\n",
       "      <td>80.0</td>\n",
       "      <td>91.0</td>\n",
       "    </tr>\n",
       "    <tr>\n",
       "      <th>2022-01-03</th>\n",
       "      <td>11.0</td>\n",
       "      <td>19.0</td>\n",
       "    </tr>\n",
       "    <tr>\n",
       "      <th>2022-01-04</th>\n",
       "      <td>29.0</td>\n",
       "      <td>6.0</td>\n",
       "    </tr>\n",
       "    <tr>\n",
       "      <th>2022-01-05</th>\n",
       "      <td>168.0</td>\n",
       "      <td>116.0</td>\n",
       "    </tr>\n",
       "    <tr>\n",
       "      <th>...</th>\n",
       "      <td>...</td>\n",
       "      <td>...</td>\n",
       "    </tr>\n",
       "    <tr>\n",
       "      <th>2022-04-06</th>\n",
       "      <td>116.0</td>\n",
       "      <td>10.0</td>\n",
       "    </tr>\n",
       "    <tr>\n",
       "      <th>2022-04-07</th>\n",
       "      <td>15.0</td>\n",
       "      <td>16.0</td>\n",
       "    </tr>\n",
       "    <tr>\n",
       "      <th>2022-04-08</th>\n",
       "      <td>179.0</td>\n",
       "      <td>94.0</td>\n",
       "    </tr>\n",
       "    <tr>\n",
       "      <th>2022-04-09</th>\n",
       "      <td>144.0</td>\n",
       "      <td>35.0</td>\n",
       "    </tr>\n",
       "    <tr>\n",
       "      <th>2022-04-10</th>\n",
       "      <td>17.0</td>\n",
       "      <td>79.0</td>\n",
       "    </tr>\n",
       "  </tbody>\n",
       "</table>\n",
       "<p>100 rows × 2 columns</p>\n",
       "</div>"
      ],
      "text/plain": [
       "            score_player_1  score_player_2\n",
       "2022-01-01           126.0           171.0\n",
       "2022-01-02            80.0            91.0\n",
       "2022-01-03            11.0            19.0\n",
       "2022-01-04            29.0             6.0\n",
       "2022-01-05           168.0           116.0\n",
       "...                    ...             ...\n",
       "2022-04-06           116.0            10.0\n",
       "2022-04-07            15.0            16.0\n",
       "2022-04-08           179.0            94.0\n",
       "2022-04-09           144.0            35.0\n",
       "2022-04-10            17.0            79.0\n",
       "\n",
       "[100 rows x 2 columns]"
      ]
     },
     "execution_count": 48,
     "metadata": {},
     "output_type": "execute_result"
    }
   ],
   "source": [
    "df_scores.loc[:, [\"score_player_1\", \"score_player_2\"]]"
   ]
  },
  {
   "cell_type": "markdown",
   "id": "510846e7",
   "metadata": {},
   "source": [
    "**Accès à la valeur**"
   ]
  },
  {
   "cell_type": "code",
   "execution_count": 49,
   "id": "9aa460dd",
   "metadata": {},
   "outputs": [
    {
     "data": {
      "text/plain": [
       "'Afghanistan'"
      ]
     },
     "execution_count": 49,
     "metadata": {},
     "output_type": "execute_result"
    }
   ],
   "source": [
    "df.loc[45,  \"country\"]"
   ]
  },
  {
   "cell_type": "markdown",
   "id": "2334b71f",
   "metadata": {},
   "source": [
    "#### b. Sélection avec la position"
   ]
  },
  {
   "cell_type": "code",
   "execution_count": 50,
   "id": "34b2400c",
   "metadata": {},
   "outputs": [
    {
     "data": {
      "text/plain": [
       "country       Afghanistan\n",
       "year                 1854\n",
       "iso_code              AFG\n",
       "population      3825655.0\n",
       "gdp                   NaN\n",
       "co2                   NaN\n",
       "Name: 4, dtype: object"
      ]
     },
     "execution_count": 50,
     "metadata": {},
     "output_type": "execute_result"
    }
   ],
   "source": [
    "df.iloc[4] ## 4 ème ligne"
   ]
  },
  {
   "cell_type": "markdown",
   "id": "847f9dee",
   "metadata": {},
   "source": [
    "**🚨 Les deux bornes sont incluses pour l'index  des lignes (comme pour `.loc`)**"
   ]
  },
  {
   "cell_type": "code",
   "execution_count": 51,
   "id": "d181c7bf",
   "metadata": {},
   "outputs": [
    {
     "data": {
      "text/html": [
       "<div>\n",
       "<style scoped>\n",
       "    .dataframe tbody tr th:only-of-type {\n",
       "        vertical-align: middle;\n",
       "    }\n",
       "\n",
       "    .dataframe tbody tr th {\n",
       "        vertical-align: top;\n",
       "    }\n",
       "\n",
       "    .dataframe thead th {\n",
       "        text-align: right;\n",
       "    }\n",
       "</style>\n",
       "<table border=\"1\" class=\"dataframe\">\n",
       "  <thead>\n",
       "    <tr style=\"text-align: right;\">\n",
       "      <th></th>\n",
       "      <th>score_player_1</th>\n",
       "      <th>score_player_2</th>\n",
       "      <th>score_player_3</th>\n",
       "    </tr>\n",
       "  </thead>\n",
       "  <tbody>\n",
       "    <tr>\n",
       "      <th>2022-01-05</th>\n",
       "      <td>168.0</td>\n",
       "      <td>116.0</td>\n",
       "      <td>240.0</td>\n",
       "    </tr>\n",
       "    <tr>\n",
       "      <th>2022-01-06</th>\n",
       "      <td>52.0</td>\n",
       "      <td>134.0</td>\n",
       "      <td>55.0</td>\n",
       "    </tr>\n",
       "  </tbody>\n",
       "</table>\n",
       "</div>"
      ],
      "text/plain": [
       "            score_player_1  score_player_2  score_player_3\n",
       "2022-01-05           168.0           116.0           240.0\n",
       "2022-01-06            52.0           134.0            55.0"
      ]
     },
     "execution_count": 51,
     "metadata": {},
     "output_type": "execute_result"
    }
   ],
   "source": [
    "df_scores.iloc[4:6] "
   ]
  },
  {
   "cell_type": "markdown",
   "id": "b0b8ca50",
   "metadata": {},
   "source": [
    "**🚨 Les deux bornes NE sont PAS incluses pour les indexes des colonnes**"
   ]
  },
  {
   "cell_type": "code",
   "execution_count": 52,
   "id": "49389510",
   "metadata": {},
   "outputs": [
    {
     "data": {
      "text/html": [
       "<div>\n",
       "<style scoped>\n",
       "    .dataframe tbody tr th:only-of-type {\n",
       "        vertical-align: middle;\n",
       "    }\n",
       "\n",
       "    .dataframe tbody tr th {\n",
       "        vertical-align: top;\n",
       "    }\n",
       "\n",
       "    .dataframe thead th {\n",
       "        text-align: right;\n",
       "    }\n",
       "</style>\n",
       "<table border=\"1\" class=\"dataframe\">\n",
       "  <thead>\n",
       "    <tr style=\"text-align: right;\">\n",
       "      <th></th>\n",
       "      <th>score_player_1</th>\n",
       "    </tr>\n",
       "  </thead>\n",
       "  <tbody>\n",
       "    <tr>\n",
       "      <th>2022-01-05</th>\n",
       "      <td>168.0</td>\n",
       "    </tr>\n",
       "    <tr>\n",
       "      <th>2022-01-06</th>\n",
       "      <td>52.0</td>\n",
       "    </tr>\n",
       "  </tbody>\n",
       "</table>\n",
       "</div>"
      ],
      "text/plain": [
       "            score_player_1\n",
       "2022-01-05           168.0\n",
       "2022-01-06            52.0"
      ]
     },
     "execution_count": 52,
     "metadata": {},
     "output_type": "execute_result"
    }
   ],
   "source": [
    "df_scores.iloc[4:6, 0:1] "
   ]
  },
  {
   "cell_type": "markdown",
   "id": "cd6c779b",
   "metadata": {},
   "source": [
    "### 3. Indexes booléens dans une DataFrame"
   ]
  },
  {
   "cell_type": "markdown",
   "id": "1774492d",
   "metadata": {},
   "source": [
    "#### a. Condition simple"
   ]
  },
  {
   "cell_type": "code",
   "execution_count": 53,
   "id": "0dcf1660",
   "metadata": {},
   "outputs": [
    {
     "data": {
      "text/html": [
       "<div>\n",
       "<style scoped>\n",
       "    .dataframe tbody tr th:only-of-type {\n",
       "        vertical-align: middle;\n",
       "    }\n",
       "\n",
       "    .dataframe tbody tr th {\n",
       "        vertical-align: top;\n",
       "    }\n",
       "\n",
       "    .dataframe thead th {\n",
       "        text-align: right;\n",
       "    }\n",
       "</style>\n",
       "<table border=\"1\" class=\"dataframe\">\n",
       "  <thead>\n",
       "    <tr style=\"text-align: right;\">\n",
       "      <th></th>\n",
       "      <th>country</th>\n",
       "      <th>year</th>\n",
       "      <th>iso_code</th>\n",
       "      <th>population</th>\n",
       "      <th>gdp</th>\n",
       "      <th>co2</th>\n",
       "    </tr>\n",
       "  </thead>\n",
       "  <tbody>\n",
       "    <tr>\n",
       "      <th>151</th>\n",
       "      <td>Afghanistan</td>\n",
       "      <td>2001</td>\n",
       "      <td>AFG</td>\n",
       "      <td>1.968863e+07</td>\n",
       "      <td>1.102127e+10</td>\n",
       "      <td>1.069</td>\n",
       "    </tr>\n",
       "    <tr>\n",
       "      <th>423</th>\n",
       "      <td>Africa</td>\n",
       "      <td>2001</td>\n",
       "      <td>NaN</td>\n",
       "      <td>8.394641e+08</td>\n",
       "      <td>NaN</td>\n",
       "      <td>884.000</td>\n",
       "    </tr>\n",
       "    <tr>\n",
       "      <th>595</th>\n",
       "      <td>Africa (GCP)</td>\n",
       "      <td>2001</td>\n",
       "      <td>NaN</td>\n",
       "      <td>NaN</td>\n",
       "      <td>NaN</td>\n",
       "      <td>883.989</td>\n",
       "    </tr>\n",
       "    <tr>\n",
       "      <th>767</th>\n",
       "      <td>Aland Islands</td>\n",
       "      <td>2001</td>\n",
       "      <td>ALA</td>\n",
       "      <td>NaN</td>\n",
       "      <td>NaN</td>\n",
       "      <td>NaN</td>\n",
       "    </tr>\n",
       "    <tr>\n",
       "      <th>939</th>\n",
       "      <td>Albania</td>\n",
       "      <td>2001</td>\n",
       "      <td>ALB</td>\n",
       "      <td>3.153615e+06</td>\n",
       "      <td>1.656384e+10</td>\n",
       "      <td>3.221</td>\n",
       "    </tr>\n",
       "    <tr>\n",
       "      <th>...</th>\n",
       "      <td>...</td>\n",
       "      <td>...</td>\n",
       "      <td>...</td>\n",
       "      <td>...</td>\n",
       "      <td>...</td>\n",
       "      <td>...</td>\n",
       "    </tr>\n",
       "    <tr>\n",
       "      <th>45714</th>\n",
       "      <td>Western Sahara</td>\n",
       "      <td>2001</td>\n",
       "      <td>ESH</td>\n",
       "      <td>2.838150e+05</td>\n",
       "      <td>NaN</td>\n",
       "      <td>NaN</td>\n",
       "    </tr>\n",
       "    <tr>\n",
       "      <th>45986</th>\n",
       "      <td>World</td>\n",
       "      <td>2001</td>\n",
       "      <td>NaN</td>\n",
       "      <td>6.230747e+09</td>\n",
       "      <td>NaN</td>\n",
       "      <td>25668.049</td>\n",
       "    </tr>\n",
       "    <tr>\n",
       "      <th>46158</th>\n",
       "      <td>Yemen</td>\n",
       "      <td>2001</td>\n",
       "      <td>YEM</td>\n",
       "      <td>1.914346e+07</td>\n",
       "      <td>8.072660e+10</td>\n",
       "      <td>16.017</td>\n",
       "    </tr>\n",
       "    <tr>\n",
       "      <th>46330</th>\n",
       "      <td>Zambia</td>\n",
       "      <td>2001</td>\n",
       "      <td>ZMB</td>\n",
       "      <td>1.019197e+07</td>\n",
       "      <td>1.623440e+10</td>\n",
       "      <td>1.886</td>\n",
       "    </tr>\n",
       "    <tr>\n",
       "      <th>46502</th>\n",
       "      <td>Zimbabwe</td>\n",
       "      <td>2001</td>\n",
       "      <td>ZWE</td>\n",
       "      <td>1.191098e+07</td>\n",
       "      <td>2.678117e+10</td>\n",
       "      <td>12.509</td>\n",
       "    </tr>\n",
       "  </tbody>\n",
       "</table>\n",
       "<p>260 rows × 6 columns</p>\n",
       "</div>"
      ],
      "text/plain": [
       "              country  year iso_code    population           gdp        co2\n",
       "151       Afghanistan  2001      AFG  1.968863e+07  1.102127e+10      1.069\n",
       "423            Africa  2001      NaN  8.394641e+08           NaN    884.000\n",
       "595      Africa (GCP)  2001      NaN           NaN           NaN    883.989\n",
       "767     Aland Islands  2001      ALA           NaN           NaN        NaN\n",
       "939           Albania  2001      ALB  3.153615e+06  1.656384e+10      3.221\n",
       "...               ...   ...      ...           ...           ...        ...\n",
       "45714  Western Sahara  2001      ESH  2.838150e+05           NaN        NaN\n",
       "45986           World  2001      NaN  6.230747e+09           NaN  25668.049\n",
       "46158           Yemen  2001      YEM  1.914346e+07  8.072660e+10     16.017\n",
       "46330          Zambia  2001      ZMB  1.019197e+07  1.623440e+10      1.886\n",
       "46502        Zimbabwe  2001      ZWE  1.191098e+07  2.678117e+10     12.509\n",
       "\n",
       "[260 rows x 6 columns]"
      ]
     },
     "execution_count": 53,
     "metadata": {},
     "output_type": "execute_result"
    }
   ],
   "source": [
    "df[df.year==2001]"
   ]
  }
 ],
 "metadata": {
  "kernelspec": {
   "display_name": "env_specific_name_2",
   "language": "python",
   "name": "env"
  },
  "language_info": {
   "codemirror_mode": {
    "name": "ipython",
    "version": 3
   },
   "file_extension": ".py",
   "mimetype": "text/x-python",
   "name": "python",
   "nbconvert_exporter": "python",
   "pygments_lexer": "ipython3",
   "version": "3.11.4"
  }
 },
 "nbformat": 4,
 "nbformat_minor": 5
}
