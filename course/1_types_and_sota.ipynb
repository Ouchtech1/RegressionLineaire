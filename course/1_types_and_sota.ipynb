{
 "cells": [
  {
   "cell_type": "markdown",
   "id": "87fac2e7",
   "metadata": {},
   "source": [
    "\n",
    "# Découverte de quelques types d'apprentissage :\n",
    "***\n",
    "\n",
    "## Apprentissage supervisé (Supervised Learning)\n",
    "- **Cas d'usage :** Classification d'emails (spam ou non-spam), prédiction du prix de maisons.\n",
    "- **Articles de recherche fondateurs :**\n",
    "  - \"Pattern Classification and Scene Analysis\" par Richard O. Duda et Peter E. Hart, 1973.\n",
    "  - \"Elements of Statistical Learning\" par Trevor Hastie, Robert Tibshirani, et Jerome Friedman, 2001.\n",
    "  \n",
    "  \n",
    "<div>\n",
    "<img src=\"../images/sup.png\" width=\"700\"/>\n",
    "</div>\n",
    "\n"
   ]
  },
  {
   "cell_type": "markdown",
   "id": "8ae3423b",
   "metadata": {},
   "source": [
    "## Apprentissage non supervisé (Unsupervised Learning)\n",
    "- **Cas d'usage :** Groupement de clients pour la segmentation de marché, réduction de dimensionnalité pour la visualisation des données.\n",
    "- **Articles de recherche fondateurs :**\n",
    "  - \"A Density-Based Algorithm for Discovering Clusters in Large Spatial Databases with Noise\" par Martin Ester, Hans-Peter Kriegel, Jörg Sander, Xiaowei Xu, 1996.\n",
    "  - \"Finding Groups in Data: An Introduction to Cluster Analysis\" par Leonard Kaufman et Peter J. Rousseeuw, 1990.\n",
    "\n",
    "\n",
    "<div>\n",
    "<img src=\"../images/sup_vs_un.jpg\" width=\"500\"/>\n",
    "</div>"
   ]
  },
  {
   "cell_type": "markdown",
   "id": "1b63bb27",
   "metadata": {},
   "source": [
    "\n",
    "## Apprentissage semi-supervisé (Semi-Supervised Learning)\n",
    "- **Cas d'usage :** Classification de texte lorsque seules quelques données sont étiquetées.\n",
    "- **Articles de recherche fondateurs :**\n",
    "  - \"Semi-Supervised Learning Literature Survey\" par Xiaojin Zhu, 2005.\n",
    "  - \"Transductive Inference for Text Classification using Support Vector Machines\" par Thorsten Joachims, 1999.\n",
    "\n",
    "\n",
    "<div>\n",
    "<img src=\"../images/semi_sup.png\" width=\"500\"/>\n",
    "</div>\n"
   ]
  },
  {
   "cell_type": "markdown",
   "id": "0ce267d3",
   "metadata": {},
   "source": [
    "\n",
    "## Apprentissage par renforcement (Reinforcement Learning)\n",
    "- **Cas d'usage :** Systèmes de recommandation, jeux vidéo, apprentissage de politiques pour la robotique.\n",
    "- **Articles de recherche fondateurs :**\n",
    "  - \"Learning to Predict by the Methods of Temporal Differences\" par Richard S. Sutton, 1988.\n",
    "  - \"Human-level control through deep reinforcement learning\" par Volodymyr Mnih et al., 2015.\n",
    "\n",
    "\n",
    "<div>\n",
    "<img src=\"../images/rein_learning.png\" width=\"500\"/>\n",
    "</div>\n",
    "\n"
   ]
  },
  {
   "cell_type": "markdown",
   "id": "a008d921",
   "metadata": {},
   "source": [
    "## Traitement automatique du langage (NLP : Natural Language Processing)\n",
    "- **Cas d'usage :** Systèmes de chatbot, traduction automatique, extraction d'information.\n",
    "- **Articles de recherche fondateurs :**\n",
    "  - \"A Maximum Entropy approach to Natural Language Processing\" par Adam L. Berger, Stephen A. Della Pietra, Vincent J. Della Pietra, 1996.\n",
    "  - \"Attention is All You Need\" par Ashish Vaswani et al., 2017.\n",
    "\n",
    "    \n",
    "<div>\n",
    "<img src=\"../images/attt_is_all.jpg\" width=\"400\"/>\n",
    "</div>\n"
   ]
  },
  {
   "cell_type": "markdown",
   "id": "29217950",
   "metadata": {},
   "source": [
    "## Traitement de l'image (Computer Vision)\n",
    "- **Cas d'usage :** Reconnaissance faciale, systèmes de surveillance vidéo, diagnostic médical automatisé.\n",
    "- **Articles de recherche fondateurs :**\n",
    "  - \"An Iterative Image Registration Technique with an Application to Stereo Vision\" par Bruce D. Lucas et Takeo Kanade, 1981.\n",
    "  - \"Gradient-Based Learning Applied to Document Recognition\" par Yann LeCun, Léon Bottou, Yoshua Bengio, et Patrick Haffner, 1998.\n",
    "    \n",
    "    \n",
    "<div>\n",
    "<img src=\"../images/detection.jpg\" width=\"600\"/>\n",
    "</div>\n"
   ]
  },
  {
   "cell_type": "markdown",
   "id": "1e712c0d",
   "metadata": {},
   "source": [
    "## Réseaux antagonistes génératifs (GAN : Generative Adversarial Network)\n",
    "- **Cas d'usage :** Génération d'images réalistes, création de contenu vidéo, modélisation de la distribution de données.\n",
    "- **Articles de recherche fondateurs :**\n",
    "  - \"Generative Adversarial Nets\" par Ian Goodfellow et al., 2014.\n",
    "  - \"Unsupervised Representation Learning with Deep Convolutional Generative Adversarial Networks\" par Alec Radford, Luke Metz, et Soumith Chintala, 2015.\n",
    "  \n",
    " <div>\n",
    "<img src=\"../images/gan.png\" width=\"500\"/>\n",
    "</div>\n",
    "\n",
    "\n",
    "\n",
    "***\n",
    "**Ces personnes n'existent pas**\n",
    "***\n",
    "\n",
    "<div>\n",
    "<img src=\"../images/style-gan-faces.jpg\" width=\"400\"/>\n",
    "</div>\n"
   ]
  },
  {
   "cell_type": "markdown",
   "id": "0d9732cc",
   "metadata": {},
   "source": [
    "\n",
    "\n",
    "## Apprentissage par transfert (Transfer Learning)\n",
    "- **Cas d'usage :** Amélioration de la précision des modèles de vision par ordinateur avec moins de données d'entraînement, adaptation des modèles NLP pour des langues spécifiques.\n",
    "- **Articles de recherche fondateurs :**\n",
    "  - \"A Survey on Transfer Learning\" par Sinno Jialin Pan et Qiang Yang, 2010.\n",
    "  - \"How transferable are features in deep neural networks?\" par Jason Yosinski, Jeff Clune, Yoshua Bengio, et Hod Lipson, 2014.\n",
    "  \n",
    "<div>\n",
    "<img src=\"../images/gan_t.jpg\" width=\"600\"/>\n",
    "</div>\n",
    "\n",
    "\n",
    "***\n",
    "\n",
    "<div>\n",
    "<img src=\"../images/gan_t1.png\" width=\"600\"/>\n",
    "</div>\n",
    "\n",
    "***\n",
    "\n",
    "<div>\n",
    "<img src=\"../images/gan_t3.webp\" width=\"600\"/>\n",
    "</div>\n"
   ]
  },
  {
   "cell_type": "markdown",
   "id": "f2c72392",
   "metadata": {},
   "source": [
    "# État de l'art dans les méthodes d'apprentissage machine :\n",
    "***\n",
    "\n",
    "#### Apprentissage supervisé (Supervised Learning)\n",
    "- **État de l'art :** Les techniques de deep learning restent dominantes, avec des modèles tels que les réseaux de neurones convolutifs (CNN) et les transformateurs qui établissent des références dans des domaines comme la vision par ordinateur et le traitement automatique du langage naturel.\n",
    "- **Développements clés :** Utilisation des modèles transformateurs tels que BERT et GPT-3 pour des tâches complexes de compréhension et de génération de texte.\n",
    "\n",
    "#### Apprentissage non supervisé (Unsupervised Learning)\n",
    "- **État de l'art :** Les méthodes de clustering avancées et les modèles génératifs comme les GANs et les VAEs sont à la pointe pour découvrir des structures dans des données non étiquetées.\n",
    "- **Développements clés :** Progrès dans la modélisation des distributions de données complexes avec des GANs améliorés pour la génération d'images et de vidéos réalistes.\n",
    "\n",
    "#### Apprentissage semi-supervisé (Semi-Supervised Learning)\n",
    "- **État de l'art :** L'usage combiné de données étiquetées et non étiquetées permet de surmonter les limitations des petits ensembles de données annotées, surtout en vision par ordinateur et en traitement du langage naturel.\n",
    "- **Développements clés :** Techniques comme la pseudo-étiquetage et les modèles génératifs pour augmenter la précision des prédictions avec des données limitées.\n",
    "\n",
    "#### Apprentissage par renforcement (Reinforcement Learning)\n",
    "- **État de l'art :** Les méthodes de deep reinforcement learning permettent des avancées notables dans des domaines tels que les jeux, la robotique et les systèmes autonomes.\n",
    "- **Développements clés :** Utilisation de techniques telles que l'apprentissage profond par renforcement pour maîtriser des jeux complexes et piloter des véhicules autonomes.\n",
    "\n",
    "#### Traitement automatique du langage (NLP: Natural Language Processing)\n",
    "- **État de l'art :** Les transformateurs et les techniques d'apprentissage profond ont révolutionné la capacité des modèles à comprendre et à générer du langage naturel.\n",
    "- **Développements clés :** Innovations continues dans les modèles de langue pré-entraînés qui améliorent la compréhension du contexte et la génération de réponses pertinentes.\n",
    "\n",
    "#### Traitement de l'image (Computer Vision)\n",
    "- **État de l'art :** Les CNN restent les outils les plus puissants pour des applications telles que la reconnaissance faciale, la détection d'objets et la segmentation d'images.\n",
    "- **Développements clés :** Améliorations des architectures de réseau, telles que EfficientNet et Vision Transformers, qui offrent une efficacité accrue et une meilleure performance.\n",
    "\n",
    "#### Réseaux antagonistes génératifs (GANs: Generative Adversarial Networks)\n",
    "- **État de l'art :** Les GANs sont utilisés pour créer des images ultra-réalistes, pour la synthèse de vidéo et pour la modélisation de scénarios virtuels.\n",
    "- **Développements clés :** Amélioration de la stabilité de formation et de la qualité de génération, permettant des applications en conception de mode, jeux vidéo et plus encore.\n",
    "\n",
    "#### Apprentissage par transfert (Transfer Learning)\n",
    "- **État de l'art :** L'adaptation de modèles pré-entraînés à de nouvelles tâches continue d'être une méthode efficace pour obtenir de hautes performances avec moins de données et moins d'effort de formation.\n",
    "- **Développements clés :** L'utilisation de modèles comme EfficientNet et BERT pour adapter les connaissances acquises dans un domaine à des applications dans d'autres domaines, améliorant ainsi l'efficacité et la rapidité de développement des systèmes d'IA."
   ]
  },
  {
   "cell_type": "code",
   "execution_count": null,
   "id": "7f19fdfb",
   "metadata": {},
   "outputs": [],
   "source": []
  }
 ],
 "metadata": {
  "kernelspec": {
   "display_name": "Python 3 (ipykernel)",
   "language": "python",
   "name": "python3"
  },
  "language_info": {
   "codemirror_mode": {
    "name": "ipython",
    "version": 3
   },
   "file_extension": ".py",
   "mimetype": "text/x-python",
   "name": "python",
   "nbconvert_exporter": "python",
   "pygments_lexer": "ipython3",
   "version": "3.9.7"
  }
 },
 "nbformat": 4,
 "nbformat_minor": 5
}
