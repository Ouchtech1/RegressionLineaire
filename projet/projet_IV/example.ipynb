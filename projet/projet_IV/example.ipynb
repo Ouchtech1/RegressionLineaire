{
 "cells": [
  {
   "cell_type": "code",
   "execution_count": 1,
   "id": "be05b33e",
   "metadata": {},
   "outputs": [
    {
     "ename": "ModuleNotFoundError",
     "evalue": "No module named 'matplotlib'",
     "output_type": "error",
     "traceback": [
      "\u001b[0;31m---------------------------------------------------------------------------\u001b[0m",
      "\u001b[0;31mModuleNotFoundError\u001b[0m                       Traceback (most recent call last)",
      "Input \u001b[0;32mIn [1]\u001b[0m, in \u001b[0;36m<module>\u001b[0;34m\u001b[0m\n\u001b[1;32m      1\u001b[0m \u001b[38;5;28;01mimport\u001b[39;00m \u001b[38;5;21;01mdatetime\u001b[39;00m\n\u001b[0;32m----> 2\u001b[0m \u001b[38;5;28;01mimport\u001b[39;00m \u001b[38;5;21;01mmatplotlib\u001b[39;00m\u001b[38;5;21;01m.\u001b[39;00m\u001b[38;5;21;01mpyplot\u001b[39;00m \u001b[38;5;28;01mas\u001b[39;00m \u001b[38;5;21;01mplt\u001b[39;00m\n\u001b[1;32m      4\u001b[0m \u001b[38;5;28;01mimport\u001b[39;00m \u001b[38;5;21;01mnumpy\u001b[39;00m \u001b[38;5;28;01mas\u001b[39;00m \u001b[38;5;21;01mnp\u001b[39;00m\n\u001b[1;32m      5\u001b[0m \u001b[38;5;28;01mimport\u001b[39;00m \u001b[38;5;21;01mpandas\u001b[39;00m \u001b[38;5;28;01mas\u001b[39;00m \u001b[38;5;21;01mpd\u001b[39;00m\n",
      "\u001b[0;31mModuleNotFoundError\u001b[0m: No module named 'matplotlib'"
     ]
    }
   ],
   "source": [
    "import datetime\n",
    "import matplotlib.pyplot as plt\n",
    "\n",
    "import numpy as np\n",
    "import pandas as pd\n",
    "\n",
    "print(pd.__version__)\n",
    "\n",
    "\n",
    "from sklearn.model_selection import train_test_split\n",
    "from sklearn.linear_model import LinearRegression\n",
    "\n",
    "\n",
    "#################################\n",
    "# NE PAS RETIRER CETTE LIGNE\n",
    "#################################\n",
    "np.random.seed(42)"
   ]
  },
  {
   "cell_type": "markdown",
   "id": "7601074a",
   "metadata": {},
   "source": [
    "#### On va essayer de prédire le prix à partir du nombre de balcons\n",
    "\n",
    "(ie $Y = a*X + b$ avec $Y$ le prix et $X$ le nombre de balcons)\n",
    "- a est le coefficient associé à X\n",
    "- b est l'intercept (où ordonnée à l'origine)"
   ]
  },
  {
   "cell_type": "code",
   "execution_count": null,
   "id": "7c0243fb",
   "metadata": {},
   "outputs": [
    {
     "data": {
      "text/html": [
       "<div>\n",
       "<style scoped>\n",
       "    .dataframe tbody tr th:only-of-type {\n",
       "        vertical-align: middle;\n",
       "    }\n",
       "\n",
       "    .dataframe tbody tr th {\n",
       "        vertical-align: top;\n",
       "    }\n",
       "\n",
       "    .dataframe thead th {\n",
       "        text-align: right;\n",
       "    }\n",
       "</style>\n",
       "<table border=\"1\" class=\"dataframe\">\n",
       "  <thead>\n",
       "    <tr style=\"text-align: right;\">\n",
       "      <th></th>\n",
       "      <th>balcony</th>\n",
       "      <th>price</th>\n",
       "    </tr>\n",
       "  </thead>\n",
       "  <tbody>\n",
       "    <tr>\n",
       "      <th>0</th>\n",
       "      <td>1.0</td>\n",
       "      <td>39.07</td>\n",
       "    </tr>\n",
       "    <tr>\n",
       "      <th>1</th>\n",
       "      <td>3.0</td>\n",
       "      <td>120.00</td>\n",
       "    </tr>\n",
       "    <tr>\n",
       "      <th>2</th>\n",
       "      <td>3.0</td>\n",
       "      <td>62.00</td>\n",
       "    </tr>\n",
       "  </tbody>\n",
       "</table>\n",
       "</div>"
      ],
      "text/plain": [
       "   balcony   price\n",
       "0      1.0   39.07\n",
       "1      3.0  120.00\n",
       "2      3.0   62.00"
      ]
     },
     "execution_count": 2,
     "metadata": {},
     "output_type": "execute_result"
    }
   ],
   "source": [
    "# On lit le dataset\n",
    "df = pd.read_csv(\"data/dataset.csv\")\n",
    "cols = ['balcony', 'price']\n",
    "df = df[cols]\n",
    "df.head(3)"
   ]
  },
  {
   "cell_type": "code",
   "execution_count": null,
   "id": "5ac7e0de",
   "metadata": {},
   "outputs": [
    {
     "name": "stdout",
     "output_type": "stream",
     "text": [
      "4.57 % de valeurs nulles\n",
      "13320 lignes avant cleaning\n",
      "12711 lignes après cleaning\n"
     ]
    }
   ],
   "source": [
    "# On supprime les lignes avec des valeurs nulles\n",
    "# Car sinon on ne pourra pas entraîner de modèle\n",
    "df[\"has_null\"] = df.isnull().any(axis=1)\n",
    "print(round(100*df[\"has_null\"].sum() / len(df), 2), \"% de valeurs nulles\")\n",
    "print(len(df), \"lignes avant cleaning\")\n",
    "df = df[~df.has_null]\n",
    "print(len(df), \"lignes après cleaning\")"
   ]
  },
  {
   "cell_type": "markdown",
   "id": "2a7dd1e1",
   "metadata": {},
   "source": [
    "#### On entraîne un modèle pour prédire le prix en fonction du nombre de balcons"
   ]
  },
  {
   "cell_type": "code",
   "execution_count": null,
   "id": "e314df58",
   "metadata": {},
   "outputs": [
    {
     "data": {
      "text/plain": [
       "[<matplotlib.lines.Line2D at 0x12c0bce50>]"
      ]
     },
     "execution_count": 4,
     "metadata": {},
     "output_type": "execute_result"
    },
    {
     "data": {
      "image/png": "[encoded data removed]",
      "text/plain": [
       "<Figure size 640x480 with 1 Axes>"
      ]
     },
     "metadata": {},
     "output_type": "display_data"
    }
   ],
   "source": [
    "Y = df[\"price\"]\n",
    "X = df[[\"balcony\"]]\n",
    "\n",
    "lm = LinearRegression(\n",
    "    fit_intercept=True # on fit un modèle : Y=a*x (pas d'intercept)\n",
    ")\n",
    "lm.fit(X, Y)\n",
    "\n",
    "# On trace le nuage de points\n",
    "plt.scatter(df.balcony, df.price)\n",
    "plt.xlabel(\"Nombre de balcons\")\n",
    "plt.ylabel(\"Prix\")\n",
    "\n",
    "# On trace la droite de régression\n",
    "predictions = lm.predict(X)\n",
    "plt.plot(df.balcony, predictions, color=\"red\")"
   ]
  },
  {
   "cell_type": "markdown",
   "id": "dffc8782",
   "metadata": {},
   "source": [
    "#### Sur une partie du Dataset (90 %) - on entraîne un modèle pour prédire le prix en fonction du nombre de balcons\n",
    "#### Sur le reste du Dataset, on effectue une prédiction et on compare à la vraie valeur"
   ]
  },
  {
   "cell_type": "code",
   "execution_count": 2,
   "id": "f842a748",
   "metadata": {},
   "outputs": [
    {
     "ename": "NameError",
     "evalue": "name 'train_test_split' is not defined",
     "output_type": "error",
     "traceback": [
      "\u001b[0;31m---------------------------------------------------------------------------\u001b[0m",
      "\u001b[0;31mNameError\u001b[0m                                 Traceback (most recent call last)",
      "Input \u001b[0;32mIn [2]\u001b[0m, in \u001b[0;36m<module>\u001b[0;34m\u001b[0m\n\u001b[1;32m      1\u001b[0m \u001b[38;5;66;03m# Train et Test\u001b[39;00m\n\u001b[0;32m----> 2\u001b[0m df_train, df_test \u001b[38;5;241m=\u001b[39m \u001b[43mtrain_test_split\u001b[49m(\n\u001b[1;32m      3\u001b[0m     df, train_size \u001b[38;5;241m=\u001b[39m \u001b[38;5;241m0.9\u001b[39m, test_size \u001b[38;5;241m=\u001b[39m \u001b[38;5;241m0.1\u001b[39m, random_state\u001b[38;5;241m=\u001b[39m\u001b[38;5;241m42\u001b[39m\n\u001b[1;32m      4\u001b[0m )\n\u001b[1;32m      6\u001b[0m \u001b[38;5;66;03m# Train\u001b[39;00m\n\u001b[1;32m      7\u001b[0m y_train \u001b[38;5;241m=\u001b[39m df_train[\u001b[38;5;124m\"\u001b[39m\u001b[38;5;124mprice\u001b[39m\u001b[38;5;124m\"\u001b[39m]\n",
      "\u001b[0;31mNameError\u001b[0m: name 'train_test_split' is not defined"
     ]
    }
   ],
   "source": [
    "# Train et Test\n",
    "df_train, df_test = train_test_split(\n",
    "    df, train_size = 0.9, test_size = 0.1, random_state=42\n",
    ")\n",
    "\n",
    "# Train\n",
    "y_train = df_train[\"price\"]\n",
    "X_train = df_train[[\"balcony\"]]\n",
    "\n",
    "# Test\n",
    "y_test = df_test[\"price\"]\n",
    "X_test = df_test[[\"balcony\"]]\n",
    "\n",
    "# On fit (=apprendre) sur le train\n",
    "lm = LinearRegression(\n",
    "    fit_intercept=False # on fit un modèle : Y=a*x (pas d'intercept)\n",
    ")\n",
    "lm.fit(X_train, y_train)\n",
    "\n",
    "# Prédiction sur le test\n",
    "y_pred_test = lm.predict(X_test)\n",
    "plt.scatter(X_test['balcony'], y_test)\n",
    "plt.plot(X_test['balcony'], y_pred_test, color='red')"
   ]
  },
  {
   "cell_type": "code",
   "execution_count": null,
   "id": "b1d7d823",
   "metadata": {},
   "outputs": [],
   "source": []
  },
  {
   "cell_type": "code",
   "execution_count": null,
   "id": "f41b0276",
   "metadata": {},
   "outputs": [],
   "source": []
  },
  {
   "cell_type": "code",
   "execution_count": null,
   "id": "a8e5fbdc",
   "metadata": {},
   "outputs": [],
   "source": []
  }
 ],
 "metadata": {
  "kernelspec": {
   "display_name": "env10",
   "language": "python",
   "name": "python3"
  },
  "language_info": {
   "codemirror_mode": {
    "name": "ipython",
    "version": 3
   },
   "file_extension": ".py",
   "mimetype": "text/x-python",
   "name": "python",
   "nbconvert_exporter": "python",
   "pygments_lexer": "ipython3",
   "version": "3.10.0rc2"
  }
 },
 "nbformat": 4,
 "nbformat_minor": 5
}
