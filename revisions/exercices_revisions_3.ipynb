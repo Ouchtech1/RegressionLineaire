{
 "cells": [
  {
   "cell_type": "markdown",
   "id": "c10572df",
   "metadata": {},
   "source": [
    "# [3/3] Exercices de révisions\n",
    "***\n",
    "\n",
    "\n",
    "- Classes\n",
    "- Héritage de classes\n",
    "- ORM (le Design Pattern)"
   ]
  },
  {
   "cell_type": "markdown",
   "id": "a3f76542",
   "metadata": {},
   "source": [
    "# Exercice 1 : introduction aux ORM\n",
    "***\n",
    "\n",
    "On considère une table SQL `transaction` qui contient 4 colonnes : \n",
    "- `id` (un entier unique identifiant une ligne ie une transaction)\n",
    "- `product_id` (un entier compris entre 1 et 112 représentant l'identifiant du produit acheté)\n",
    "- `quantity` (un entier représentant une quantité, compris en 1 et 100)\n",
    "- `unit_price` (le prix pour une quantité de 1, il est toujours le même pour un même `produit_id` et est toujours compris entre 1.15 € et 100.45 €, et n'a jamais plus de deux décimales)\n",
    "- `datetime` (l'heure de la transaction, comprise entre 01/01/2023 00:00:00 et 31/01/2023 23:59:59)\n",
    "\n",
    "\n",
    "2. Créer une liste de dictionnaire au format `records` qui contient 10000 lignes de transactions respectant les conditions ci-dessus (on pourra utiliser le package `numpy.random` et en particulier sa fonction `randint`, mais ce n'est pas une obligation)\n",
    "\n",
    "\n",
    "Format `records` : \n",
    "```python\n",
    "{'id':45, 'produit_id': 24, 'quantity': 4, 'unit_price': 1.19}\n",
    "```\n",
    "\n",
    "\n",
    "3. Créer une table SQL (on pourra utiliser `sqlite` ou toute autre distribution `SQL` comme PostgreSQL ou MySQL) appelée `transaction` qui contient les données générées en 2. (veiller à bien utiliser des types cohérents - idéalement, la colonne `id` devrait être un `index`, mais l'exercice est toujours faisable sans respecter cette condition). **Attention, le choix de la distribution SQL peut avoir un impact sur la suite de l'exercice, car les syntaxes SQL ne sont pas toujours les mêmes**\n",
    "\n",
    "\n",
    "4. Créer une classe `TransactionManager` qui implémente (au moins) ces 4 méthodes : \n",
    "\n",
    "- `.create(records:dict)` : crée une ligne qui contient les données d'un dictionnaire au format `records` représentant une transaction. \n",
    "\n",
    "- `.read(id:int)` : renvoie la ligne d'id : `id` \n",
    "\n",
    "- `.update(id:int, partial_record:dict)` : update la ligne d'id: `id` sur la base des champs spécifiés dans le dictionnaire `partial_record` \n",
    "\n",
    "- `.delete(id:int)` : supprime la ligne d'id `id`\n",
    "\n",
    "\n",
    "**Tester ces 4 opérations (on utilisera `assert`).**\n",
    "\n",
    "\n",
    "(De plus, l'objet Python `connection` ou `engine` utilisé devrait être un attribut de la classe `TransactionManager` déclaré à l'initilisation : il devrait être donné en tant qu'argument du constructeur idéalement)\n",
    "\n",
    "\n",
    "5. **Lister quelques erreurs possibles par méthode et veiller à ce que ces 4 méthodes renvoient des messages d'erreurs informatifs en cas de problèmes**\n",
    "\n",
    "\n",
    "6. Modifier la classe `TransactionManager` pour qu'à l'initilisation : \n",
    "    - Une connexion à la base SQL soit établie\n",
    "    - Si la table `transaction n'existe pas`, `elle soit créée\n",
    "    - Si elle existe, on affiche le nombre de lignes de la table\n",
    "    - LA connexion à la base SQL est coupée\n",
    "    \n",
    "    \n",
    "7. En 1 / 2 deux phrases, quel est l'intérêt de notre démarche ?"
   ]
  },
  {
   "cell_type": "markdown",
   "id": "9420196f",
   "metadata": {},
   "source": [
    "## Exercice 2 : un ORM plus avancé\n",
    "***\n",
    "\n",
    "On utilise les mêmes données de `transactions` que ci-dessus mais on se munie en plus de données `product` avec 3 colonnes : `id` (le même `produit_id` que dans la table des `transactions`) , `unit_price` (de même, et doit donc être cohérent avec la table des `transactions` en étant unique par `produit_id`) et `group` (une lettre entre A et J pour en avoir 10)\n",
    "\n",
    "\n",
    "1. Créer une liste de dictionnaire au format `records` qui contient des données de produits tel que tous les `produit_id` de la table `transaction` s'y trouvent.\n",
    "\n",
    "2. Créer une table sql `product` contenant ces données. Mêmes remarques que ci-dessus en 3.\n",
    "\n",
    "3. Écrire une classe `BaseManager` qui implémente les mêmes opérations qu'en 4. ci-dessus. Attention, cette classe ne sera jamais utilisée directement, on ne fera qu'en hériter.\n",
    "\n",
    "4. Créer deux classes `ProductManager` et `TransactionManager` qui héritent de `BaseManager` et permettent de réaliser ces 4 opérations pour les deux tables. Tester ces 4 opérations (on utilisera `assert`)."
   ]
  }
 ],
 "metadata": {
  "kernelspec": {
   "display_name": "Python 3 (ipykernel)",
   "language": "python",
   "name": "python3"
  },
  "language_info": {
   "codemirror_mode": {
    "name": "ipython",
    "version": 3
   },
   "file_extension": ".py",
   "mimetype": "text/x-python",
   "name": "python",
   "nbconvert_exporter": "python",
   "pygments_lexer": "ipython3",
   "version": "3.9.7"
  }
 },
 "nbformat": 4,
 "nbformat_minor": 5
}
