{
 "cells": [
  {
   "cell_type": "markdown",
   "id": "04d05380",
   "metadata": {},
   "source": [
    "# Commentaires"
   ]
  },
  {
   "cell_type": "markdown",
   "id": "27c9cd8f",
   "metadata": {},
   "source": [
    "# [2/3] Exercices de révisions\n",
    "\n",
    "---\n",
    "\n",
    "Ces exercices ont pour but de vous faire réviser en préparation du cours sur Django :\n",
    "\n",
    "- Classes\n",
    "- Héritage de classes\n"
   ]
  },
  {
   "cell_type": "markdown",
   "id": "bc948a7f",
   "metadata": {},
   "source": [
    "# Exercice 1\n",
    "\n",
    "---\n",
    "\n",
    "Écrire une classe `Alerter` qui :\n",
    "\n",
    "- définit une méthode principale `.run` qui contient une boucle `while True`\n",
    "- fait une requête toutes les 1 minutes à la page d'un forum de votre choix\n",
    "- récupère l'heure et le nom du dernier topic posté dans une section de votre choix\n",
    "- envoie un mail (https://www.courier.com/blog/three-ways-to-send-emails-using-python-with-code-tutorials/) à l'adresse de votre choix avec les informations, seulement si le mail avec ces informations n'a pas déjà été envoyé.\n"
   ]
  },
  {
   "cell_type": "code",
   "execution_count": 2,
   "id": "1194e9c0",
   "metadata": {},
   "outputs": [
    {
     "name": "stdout",
     "output_type": "stream",
     "text": [
      "Probleme d'affichage d'une picture box crée dans une classe 18:30\n"
     ]
    },
    {
     "ename": "SMTPAuthenticationError",
     "evalue": "(535, b'5.7.8 Username and Password not accepted. Learn more at\\n5.7.8  https://support.google.com/mail/?p=BadCredentials a15-20020adff7cf000000b002f6176cc6desm15398360wrq.110 - gsmtp')",
     "output_type": "error",
     "traceback": [
      "\u001b[1;31m---------------------------------------------------------------------------\u001b[0m",
      "\u001b[1;31mSMTPAuthenticationError\u001b[0m                   Traceback (most recent call last)",
      "Cell \u001b[1;32mIn[2], line 60\u001b[0m\n\u001b[0;32m     57\u001b[0m     server\u001b[39m.\u001b[39mquit()\n\u001b[0;32m     58\u001b[0m     \u001b[39mprint\u001b[39m(\u001b[39m\"\u001b[39m\u001b[39mEmail sent successfully\u001b[39m\u001b[39m\"\u001b[39m)\n\u001b[1;32m---> 60\u001b[0m Alerter()\u001b[39m.\u001b[39;49mrun()\n",
      "Cell \u001b[1;32mIn[2], line 34\u001b[0m, in \u001b[0;36mAlerter.run\u001b[1;34m(self)\u001b[0m\n\u001b[0;32m     32\u001b[0m \u001b[39mif\u001b[39;00m \u001b[39mself\u001b[39m\u001b[39m.\u001b[39mlast_topic \u001b[39m!=\u001b[39m (topic_title, topic_time):\n\u001b[0;32m     33\u001b[0m   \u001b[39mself\u001b[39m\u001b[39m.\u001b[39mlast_topic \u001b[39m=\u001b[39m (topic_title, topic_time)\n\u001b[1;32m---> 34\u001b[0m   \u001b[39mself\u001b[39;49m\u001b[39m.\u001b[39;49msend_email()\n\u001b[0;32m     36\u001b[0m \u001b[39m# wait 1 minute before the next request\u001b[39;00m\n\u001b[0;32m     37\u001b[0m time\u001b[39m.\u001b[39msleep(\u001b[39m60\u001b[39m)\n",
      "Cell \u001b[1;32mIn[2], line 53\u001b[0m, in \u001b[0;36mAlerter.send_email\u001b[1;34m(self)\u001b[0m\n\u001b[0;32m     50\u001b[0m server\u001b[39m.\u001b[39mstarttls()\n\u001b[0;32m     52\u001b[0m \u001b[39m# Login Credentials for sending the mail\u001b[39;00m\n\u001b[1;32m---> 53\u001b[0m server\u001b[39m.\u001b[39;49mlogin(\u001b[39mself\u001b[39;49m\u001b[39m.\u001b[39;49memailSource, \u001b[39mself\u001b[39;49m\u001b[39m.\u001b[39;49mpassword)\n\u001b[0;32m     55\u001b[0m server\u001b[39m.\u001b[39msendmail(msg[\u001b[39m'\u001b[39m\u001b[39mFrom\u001b[39m\u001b[39m'\u001b[39m], msg[\u001b[39m'\u001b[39m\u001b[39mTo\u001b[39m\u001b[39m'\u001b[39m], msg\u001b[39m.\u001b[39mas_string())\n\u001b[0;32m     57\u001b[0m server\u001b[39m.\u001b[39mquit()\n",
      "File \u001b[1;32mC:\\Program Files\\WindowsApps\\PythonSoftwareFoundation.Python.3.10_3.10.3056.0_x64__qbz5n2kfra8p0\\lib\\smtplib.py:750\u001b[0m, in \u001b[0;36mSMTP.login\u001b[1;34m(self, user, password, initial_response_ok)\u001b[0m\n\u001b[0;32m    747\u001b[0m         last_exception \u001b[39m=\u001b[39m e\n\u001b[0;32m    749\u001b[0m \u001b[39m# We could not login successfully.  Return result of last attempt.\u001b[39;00m\n\u001b[1;32m--> 750\u001b[0m \u001b[39mraise\u001b[39;00m last_exception\n",
      "File \u001b[1;32mC:\\Program Files\\WindowsApps\\PythonSoftwareFoundation.Python.3.10_3.10.3056.0_x64__qbz5n2kfra8p0\\lib\\smtplib.py:739\u001b[0m, in \u001b[0;36mSMTP.login\u001b[1;34m(self, user, password, initial_response_ok)\u001b[0m\n\u001b[0;32m    737\u001b[0m method_name \u001b[39m=\u001b[39m \u001b[39m'\u001b[39m\u001b[39mauth_\u001b[39m\u001b[39m'\u001b[39m \u001b[39m+\u001b[39m authmethod\u001b[39m.\u001b[39mlower()\u001b[39m.\u001b[39mreplace(\u001b[39m'\u001b[39m\u001b[39m-\u001b[39m\u001b[39m'\u001b[39m, \u001b[39m'\u001b[39m\u001b[39m_\u001b[39m\u001b[39m'\u001b[39m)\n\u001b[0;32m    738\u001b[0m \u001b[39mtry\u001b[39;00m:\n\u001b[1;32m--> 739\u001b[0m     (code, resp) \u001b[39m=\u001b[39m \u001b[39mself\u001b[39;49m\u001b[39m.\u001b[39;49mauth(\n\u001b[0;32m    740\u001b[0m         authmethod, \u001b[39mgetattr\u001b[39;49m(\u001b[39mself\u001b[39;49m, method_name),\n\u001b[0;32m    741\u001b[0m         initial_response_ok\u001b[39m=\u001b[39;49minitial_response_ok)\n\u001b[0;32m    742\u001b[0m     \u001b[39m# 235 == 'Authentication successful'\u001b[39;00m\n\u001b[0;32m    743\u001b[0m     \u001b[39m# 503 == 'Error: already authenticated'\u001b[39;00m\n\u001b[0;32m    744\u001b[0m     \u001b[39mif\u001b[39;00m code \u001b[39min\u001b[39;00m (\u001b[39m235\u001b[39m, \u001b[39m503\u001b[39m):\n",
      "File \u001b[1;32mC:\\Program Files\\WindowsApps\\PythonSoftwareFoundation.Python.3.10_3.10.3056.0_x64__qbz5n2kfra8p0\\lib\\smtplib.py:662\u001b[0m, in \u001b[0;36mSMTP.auth\u001b[1;34m(self, mechanism, authobject, initial_response_ok)\u001b[0m\n\u001b[0;32m    660\u001b[0m \u001b[39mif\u001b[39;00m code \u001b[39min\u001b[39;00m (\u001b[39m235\u001b[39m, \u001b[39m503\u001b[39m):\n\u001b[0;32m    661\u001b[0m     \u001b[39mreturn\u001b[39;00m (code, resp)\n\u001b[1;32m--> 662\u001b[0m \u001b[39mraise\u001b[39;00m SMTPAuthenticationError(code, resp)\n",
      "\u001b[1;31mSMTPAuthenticationError\u001b[0m: (535, b'5.7.8 Username and Password not accepted. Learn more at\\n5.7.8  https://support.google.com/mail/?p=BadCredentials a15-20020adff7cf000000b002f6176cc6desm15398360wrq.110 - gsmtp')"
     ]
    }
   ],
   "source": [
    "import time\n",
    "import requests\n",
    "from bs4 import BeautifulSoup\n",
    "from email.mime.text import MIMEText\n",
    "from email.mime.multipart import MIMEMultipart\n",
    "import smtplib\n",
    "\n",
    "\n",
    "class Alerter:\n",
    "    def __init__(self):\n",
    "        self.url = \"https://codes-sources.commentcamarche.net/forum/\"\n",
    "        self.emailSource = \"zzzzzzz@livecampus.tech\"\n",
    "        self.password = \"password\"\n",
    "        self.emailDestination = \"zzzzzz@gmail.com\"\n",
    "        self.last_topic = None\n",
    "\n",
    "    def run(self):\n",
    "        while True:\n",
    "            forum_page = requests.get(self.url)\n",
    "\n",
    "            # print(forum_page.text)\n",
    "            soup = BeautifulSoup(forum_page.content, \"html.parser\")\n",
    "\n",
    "            element = soup.find(class_=\"ccm_forum_ctn--deco__item\")\n",
    "\n",
    "            topic_title = element.a.text.strip()\n",
    "\n",
    "            topic_time = element.find(class_=\"topic_date--newer\").text.strip()\n",
    "            print(topic_title, topic_time)\n",
    "\n",
    "            # check if the last topic has changed\n",
    "            if self.last_topic != (topic_title, topic_time):\n",
    "                self.last_topic = (topic_title, topic_time)\n",
    "                self.send_email()\n",
    "\n",
    "            # wait 1 minute before the next request\n",
    "            time.sleep(60)\n",
    "\n",
    "    def send_email(self):\n",
    "        msg = MIMEMultipart()\n",
    "        msg[\"From\"] = self.emailSource\n",
    "        msg[\"To\"] = self.emailDestination\n",
    "        msg[\"Subject\"] = f\"Nouveau topic posté\"\n",
    "\n",
    "        topic_title, topic_time = self.last_topic\n",
    "        message = f\"Dernier topic posté : {topic_title} ({topic_time})\"\n",
    "        msg.attach(MIMEText(message, \"plain\"))\n",
    "\n",
    "        server = smtplib.SMTP(\"smtp.gmail.com: 587\")\n",
    "        server.starttls()\n",
    "\n",
    "        # Login Credentials for sending the mail\n",
    "        server.login(self.emailSource, self.password)\n",
    "\n",
    "        server.sendmail(msg[\"From\"], msg[\"To\"], msg.as_string())\n",
    "\n",
    "        server.quit()\n",
    "        print(\"Email sent successfully\")\n",
    "\n",
    "\n",
    "Alerter().run()"
   ]
  },
  {
   "cell_type": "markdown",
   "id": "cbe763ab",
   "metadata": {},
   "source": [
    "## Exercice 2\n",
    "\n",
    "---\n",
    "\n",
    "L'aspect algorithmique de cet exercice n'est pas si évident.\n",
    "\n",
    "- Indice 1 : utiliser `.replace`\n",
    "- Indice 2 : https://prepinsta.com/python-program/program-to-check-the-balance-of-parenthesis/\n",
    "\n",
    "a. Écrire une classe python qui permet de vérifier la validité d'une chaîne de caractères qui ne contient QUE des parenthèses. Une chaîne est correcte si les caractères sont fermés dans le bon ordre. Par exemple : \"()\", \"()(())()()\" sont correctes mais pas \"a()\", \")(()\" et \"(()()\". Tester avec 5 exemples.\n",
    "\n",
    "b. Écrire une classe python qui permet de vérifier la validité d'une chaîne de caractères qui ne contient QUE des parenthèses, des crochets et des accolades. Une chaîne est correcte si les caractères sont fermés dans le bon ordre. Par exemple : \"()\", \"()[]{}\", \"(())[(){}]{}\" sont correctes mais pas \"[)\", \"({[)]\" and \"{{{\". Tester avec 10 exemples.\n"
   ]
  },
  {
   "cell_type": "code",
   "execution_count": 3,
   "id": "3812bddf",
   "metadata": {},
   "outputs": [
    {
     "name": "stdout",
     "output_type": "stream",
     "text": [
      "True\n",
      "True\n",
      "True\n",
      "False\n",
      "False\n"
     ]
    }
   ],
   "source": [
    "class ValidParentheses:\n",
    "    def is_valid(self, s: str):\n",
    "        stack = []\n",
    "        for c in s:\n",
    "            if c == \"(\":\n",
    "                stack.append(c)\n",
    "            elif c == \")\":\n",
    "                if not stack:\n",
    "                    return False\n",
    "                stack.pop()\n",
    "        return not stack\n",
    "\n",
    "\n",
    "vp = ValidParentheses()\n",
    "\n",
    "print(vp.is_valid(\"()\"))  # True\n",
    "print(vp.is_valid(\"()(())()()\"))  # True\n",
    "print(vp.is_valid(\"a()\"))  # False\n",
    "print(vp.is_valid(\")(()\"))  # False\n",
    "print(vp.is_valid(\"(()()\"))  # False"
   ]
  },
  {
   "cell_type": "code",
   "execution_count": 5,
   "id": "754435f5",
   "metadata": {},
   "outputs": [
    {
     "name": "stdout",
     "output_type": "stream",
     "text": [
      "True\n",
      "True\n",
      "True\n",
      "False\n",
      "False\n",
      "False\n",
      "False\n",
      "False\n",
      "False\n",
      "True\n"
     ]
    }
   ],
   "source": [
    "class ValidParenthesesV2:\n",
    "    def is_valid(self, s: str):\n",
    "        stack = []\n",
    "        mapping = {\")\": \"(\", \"]\": \"[\", \"}\": \"{\"}\n",
    "        for c in s:\n",
    "            if c in mapping:\n",
    "                if not stack or stack[-1] != mapping[c]:\n",
    "                    return False\n",
    "                stack.pop()\n",
    "            else:\n",
    "                stack.append(c)\n",
    "        return not stack\n",
    "\n",
    "\n",
    "vp = ValidParenthesesV2()\n",
    "\n",
    "print(vp.is_valid(\"()\"))  # True\n",
    "print(vp.is_valid(\"()[]{}\"))  # True\n",
    "print(vp.is_valid(\"(())[(){}]{}\"))  # True\n",
    "print(vp.is_valid(\"[)\"))  # False\n",
    "print(vp.is_valid(\"({[)]\"))  # False\n",
    "print(vp.is_valid(\"{{{\"))  # False\n",
    "print(vp.is_valid(\"({)}\"))  # False\n",
    "print(vp.is_valid(\"[[[]\"))  # False\n",
    "print(vp.is_valid(\"{}}{\"))  # False\n",
    "print(vp.is_valid(\"[[[[[()]]]]]{}{}{}\"))  # True"
   ]
  },
  {
   "cell_type": "markdown",
   "id": "894835b9",
   "metadata": {},
   "source": [
    "## Exercice 3\n",
    "\n",
    "---\n",
    "\n",
    "a. Écrire une classe `Square` qui représente une case d'un échiquier. Elle possède deux attributes : `color` (`white` / `black`) et `occupied_by` qui vaut `None` si aucune pièce n'est dessus et qui prend pour valeur une instance de la future classe `Piece` (une pièce)\n"
   ]
  },
  {
   "cell_type": "code",
   "execution_count": 1,
   "id": "6fc8ad11",
   "metadata": {},
   "outputs": [],
   "source": [
    "class Square:\n",
    "    def __init__(self, color, piece_type=None):\n",
    "        self.color = color\n",
    "        self.occupied_by = None\n",
    "        if piece_type:\n",
    "            self.occupied_by = Piece(color, piece_type)"
   ]
  },
  {
   "cell_type": "markdown",
   "id": "198546fb",
   "metadata": {},
   "source": [
    "\n",
    "b. Écrire une classe `Board` qui représente un échiquier elle a pour attribut une liste de liste (8x8) d'instance de type `Square` dont la géométrie est cohérente avec un jeu d'échecs (ie case noire en bas à gauche)\n"
   ]
  },
  {
   "cell_type": "code",
   "execution_count": null,
   "id": "c7fbe510",
   "metadata": {},
   "outputs": [],
   "source": []
  },
  {
   "cell_type": "markdown",
   "id": "329bee92",
   "metadata": {},
   "source": [
    "\n",
    "c. Écrire une classe `Piece` : seulement deux attributes :: `color` et `type` (qui ne peut valoir que `King` ou `Knight`)\n"
   ]
  },
  {
   "cell_type": "code",
   "execution_count": 2,
   "id": "1b4c6fdf",
   "metadata": {},
   "outputs": [],
   "source": [
    "class Piece:\n",
    "    def __init__(self, color, piece_type):\n",
    "        self.color = color\n",
    "        self.type = piece_type"
   ]
  },
  {
   "cell_type": "markdown",
   "id": "753d7ce4",
   "metadata": {},
   "source": [
    "\n",
    "d. Initialiser un jeu avec seulement le roi et les deux cavaliers (de chaque côté) à des positions aléatoires (pas deux pièces à la même case, bien respecter a.)\n"
   ]
  },
  {
   "cell_type": "code",
   "execution_count": 3,
   "id": "77515a58",
   "metadata": {},
   "outputs": [
    {
     "name": "stdout",
     "output_type": "stream",
     "text": [
      "[  ] [  ] [  ] [  ] [  ] [  ] [  ] [  ] \n",
      "[bKn] [bKi] [  ] [  ] [wKn] [  ] [  ] [  ] \n",
      "[  ] [  ] [  ] [wKn] [  ] [  ] [  ] [  ] \n",
      "[  ] [  ] [  ] [  ] [  ] [  ] [  ] [  ] \n",
      "[  ] [  ] [  ] [bKn] [  ] [  ] [  ] [  ] \n",
      "[  ] [  ] [  ] [  ] [  ] [  ] [  ] [  ] \n",
      "[  ] [wKi] [  ] [  ] [  ] [  ] [  ] [  ] \n",
      "[  ] [  ] [  ] [  ] [  ] [  ] [  ] [  ] \n"
     ]
    }
   ],
   "source": [
    "import random\n",
    "\n",
    "class Board:\n",
    "    def __init__(self):\n",
    "        self.squares = [[None] * 8 for _ in range(8)]\n",
    "        self.initialize_squares()\n",
    "\n",
    "    def initialize_squares(self):\n",
    "        colors = [\"white\", \"black\"]\n",
    "        pieces = {\n",
    "            \"white\": [\"King\", \"Knight\", \"Knight\"],\n",
    "            \"black\": [\"King\", \"Knight\", \"Knight\"]\n",
    "        }\n",
    "        for color in colors:\n",
    "            random.shuffle(pieces[color])  # Mélanger aléatoirement les types de pièces\n",
    "            for piece_type in pieces[color]:\n",
    "                row, col = self.get_random_empty_square()\n",
    "                self.squares[row][col] = Square(color, piece_type)\n",
    "\n",
    "                    \n",
    "    def get_random_empty_square(self):\n",
    "        empty_squares = [(row, col) for row in range(8) for col in range(8) if not self.squares[row][col]]\n",
    "        return random.choice(empty_squares)\n",
    "    \n",
    "    def display_board(self):\n",
    "        for row in range(8):\n",
    "            for col in range(8):\n",
    "                square = self.squares[row][col]\n",
    "                if square is not None and square.occupied_by is not None:\n",
    "                    piece = square.occupied_by\n",
    "                    print(f\"[{piece.color[0]}{piece.type[0]}{piece.type[1]}]\", end=\" \")\n",
    "                else:\n",
    "                    print(\"[  ]\", end=\" \")\n",
    "            print()\n",
    "                \n",
    "# Création d'une instance de la classe Board\n",
    "board = Board()\n",
    "\n",
    "board.display_board()"
   ]
  },
  {
   "cell_type": "markdown",
   "id": "e53bdd76",
   "metadata": {},
   "source": [
    "\n",
    "e. Écrire une classe CheckChess qui permet de vérifier si un l'un des rois est en position d'échec.\n"
   ]
  },
  {
   "cell_type": "code",
   "execution_count": 4,
   "id": "26d81686",
   "metadata": {},
   "outputs": [
    {
     "name": "stdout",
     "output_type": "stream",
     "text": [
      "[  ] [  ] [  ] [  ] [bKi] [  ] [  ] [  ] \n",
      "[  ] [  ] [  ] [  ] [  ] [  ] [  ] [  ] \n",
      "[  ] [  ] [  ] [  ] [  ] [wKn] [  ] [  ] \n",
      "[  ] [  ] [  ] [  ] [  ] [  ] [  ] [  ] \n",
      "[  ] [wKn] [  ] [  ] [  ] [  ] [  ] [  ] \n",
      "[  ] [  ] [  ] [  ] [  ] [wKi] [  ] [  ] \n",
      "[  ] [  ] [  ] [  ] [  ] [  ] [  ] [bKn] \n",
      "[  ] [  ] [  ] [bKn] [  ] [  ] [  ] [  ] \n",
      "Le roi blanc est en échec : False\n",
      "Le roi noir est en échec : False\n"
     ]
    }
   ],
   "source": [
    "class CheckChess:\n",
    "    def __init__(self, board):\n",
    "        self.board = board\n",
    "        \n",
    "    def is_kings_in_check(self):\n",
    "        is_white_king_in_check = self.is_king_in_check(\"white\")\n",
    "        print(\"Le roi blanc est en échec :\", is_white_king_in_check)\n",
    "        is_black_king_in_check = self.is_king_in_check(\"black\")\n",
    "        print(\"Le roi noir est en échec :\", is_black_king_in_check)\n",
    "\n",
    "    def is_king_in_check(self, color):\n",
    "        king_position = self.find_king_position(color)\n",
    "        opponent_color = \"black\" if color == \"white\" else \"white\"\n",
    "        opponent_pieces = self.get_pieces(opponent_color)\n",
    "\n",
    "        for piece in opponent_pieces:\n",
    "            if self.is_adjacent(king_position, piece):\n",
    "                return True\n",
    "\n",
    "        return False\n",
    "\n",
    "    def find_king_position(self, color):\n",
    "        for row in range(8):\n",
    "            for col in range(8):\n",
    "                square = self.board.squares[row][col]\n",
    "                if square and square.occupied_by and square.occupied_by.type == \"King\" and square.occupied_by.color == color:\n",
    "                    return (row, col)\n",
    "\n",
    "    def get_pieces(self, color):\n",
    "        pieces = []\n",
    "        for row in range(8):\n",
    "            for col in range(8):\n",
    "                square = self.board.squares[row][col]\n",
    "                if square and square.occupied_by and square.occupied_by.type == \"Knight\" and square.occupied_by.color == color:\n",
    "                    pieces.append((row, col))\n",
    "        return pieces\n",
    "    \n",
    "    def is_adjacent(self, position1, position2):\n",
    "        row1, col1 = position1\n",
    "        row2, col2 = position2\n",
    "        \n",
    "        if abs(row1 - row2) <= 1 and abs(col1 - col2) <= 1:\n",
    "            return True\n",
    "        else:\n",
    "            return False\n",
    "\n",
    "# Création d'une instance de la classe Board\n",
    "board = Board()\n",
    "board.display_board()\n",
    "\n",
    "# Création d'une instance de la classe CheckChess\n",
    "checker = CheckChess(board)\n",
    "\n",
    "# Vérification si le roi blanc est en échec\n",
    "checker.is_kings_in_check()"
   ]
  },
  {
   "cell_type": "code",
   "execution_count": null,
   "id": "314922d2",
   "metadata": {},
   "outputs": [],
   "source": []
  },
  {
   "cell_type": "code",
   "execution_count": null,
   "id": "51751458",
   "metadata": {},
   "outputs": [],
   "source": []
  }
 ],
 "metadata": {
  "kernelspec": {
   "display_name": "Python 3 (ipykernel)",
   "language": "python",
   "name": "python3"
  },
  "language_info": {
   "codemirror_mode": {
    "name": "ipython",
    "version": 3
   },
   "file_extension": ".py",
   "mimetype": "text/x-python",
   "name": "python",
   "nbconvert_exporter": "python",
   "pygments_lexer": "ipython3",
   "version": "3.9.7"
  }
 },
 "nbformat": 4,
 "nbformat_minor": 5
}
