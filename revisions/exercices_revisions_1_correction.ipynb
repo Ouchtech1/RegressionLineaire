{
 "cells": [
  {
   "cell_type": "markdown",
   "id": "1aad6fe9",
   "metadata": {},
   "source": [
    "# Exercice 1"
   ]
  },
  {
   "cell_type": "markdown",
   "id": "c4204304",
   "metadata": {},
   "source": [
    "## Question a."
   ]
  },
  {
   "cell_type": "code",
   "execution_count": 1,
   "id": "f08294d9",
   "metadata": {},
   "outputs": [],
   "source": [
    "import numbers\n",
    "\n",
    "\n",
    "def compute_rect_area(length, width):\n",
    "    # area = length * width\n",
    "    # return area\n",
    "    # OU\n",
    "    return length * width\n",
    "\n",
    "\n",
    "def compute_rect_area(\n",
    "    length: numbers.Number, \n",
    "    width: numbers.Number\n",
    "):\n",
    "    \"\"\"Compute the area of a rectangle of length `length` and with `width` \n",
    "    \"\"\"\n",
    "    if not (\n",
    "        isinstance(length, numbers.Number),\n",
    "        isinstance(width, numbers.Number)\n",
    "    ):\n",
    "        raise TypeError(f\"\"\"\n",
    "            type of length is: {type(length)} & type of width is: {type(width)}\"\"\")\n",
    "    \n",
    "    \n",
    "    if not ((length >=0) & (width >= 0)):\n",
    "        raise ValueError(\"\"\"length and width should be positive\"\"\")\n",
    "        \n",
    "    return length * width\n",
    "    "
   ]
  },
  {
   "cell_type": "code",
   "execution_count": 2,
   "id": "e728cd0e",
   "metadata": {},
   "outputs": [
    {
     "name": "stdout",
     "output_type": "stream",
     "text": [
      "13.5\n",
      "This function failed as expected\n",
      "This function failed as expected\n"
     ]
    }
   ],
   "source": [
    "print(compute_rect_area(3, 4.5))\n",
    "\n",
    "try:\n",
    "    compute_rect_area(3, -4.5)\n",
    "    \n",
    "except ValueError:\n",
    "    print('This function failed as expected')\n",
    "    \n",
    "try:\n",
    "    compute_rect_area(3, \"4.5\")\n",
    "    \n",
    "except TypeError:\n",
    "    print('This function failed as expected')"
   ]
  },
  {
   "cell_type": "markdown",
   "id": "6e0ab017",
   "metadata": {},
   "source": [
    "## Question b."
   ]
  },
  {
   "cell_type": "code",
   "execution_count": 3,
   "id": "05e049d3",
   "metadata": {},
   "outputs": [],
   "source": [
    "def compute_cube_volume(\n",
    "    length: numbers.Number, \n",
    "    width: numbers.Number,\n",
    "    height: numbers.Number\n",
    "):\n",
    "    \"\"\"Compute the area of a rectangle of length `length` width `width` height `height`\n",
    "    \"\"\"\n",
    "    if not all(\n",
    "        [\n",
    "            isinstance(arg, numbers.Number) \n",
    "            for arg in [length, width, height]\n",
    "        ] \n",
    "    ):\n",
    "        raise TypeError(f\"\"\"\n",
    "            type of length is: {type(length)} & \n",
    "            type of width is: {type(width)} & \n",
    "            type of height is: {type(height)}\n",
    "        \"\"\")\n",
    "    \n",
    "    \n",
    "    if not ((length >=0) & (width >= 0) & (height >= 0)):\n",
    "        raise ValueError(\"\"\"length and width and height should be positive\"\"\")\n",
    "        \n",
    "    return length * width * height"
   ]
  },
  {
   "cell_type": "code",
   "execution_count": 4,
   "id": "e4db3519",
   "metadata": {},
   "outputs": [
    {
     "name": "stdout",
     "output_type": "stream",
     "text": [
      "54.0\n",
      "This function failed as expected for ValueError\n",
      "This function failed as expected for TypeError\n"
     ]
    }
   ],
   "source": [
    "print(compute_cube_volume(3, 4.5, 4))\n",
    "\n",
    "try:\n",
    "    compute_cube_volume(3, -4.5, 4)\n",
    "    \n",
    "except ValueError:\n",
    "    print('This function failed as expected for ValueError')\n",
    "    \n",
    "try:\n",
    "    compute_cube_volume(3, 4.5, \"4\")\n",
    "except TypeError:\n",
    "    print('This function failed as expected for TypeError')"
   ]
  },
  {
   "cell_type": "markdown",
   "id": "aba71d55",
   "metadata": {},
   "source": [
    "# Exercice 2"
   ]
  },
  {
   "cell_type": "code",
   "execution_count": 5,
   "id": "14837a32",
   "metadata": {},
   "outputs": [
    {
     "name": "stdout",
     "output_type": "stream",
     "text": [
      "0.14400000000000002 ms for 10 execution of `compute_rect_area`\n",
      "0.265 ms for 10 execution of `compute_cube_volume`\n"
     ]
    }
   ],
   "source": [
    "import datetime\n",
    "\n",
    "starting_at = datetime.datetime.now()\n",
    "for _ in range(10):\n",
    "    compute_rect_area(width=5, length=10)\n",
    "ending_at = datetime.datetime.now()\n",
    "\n",
    "timespan_in_ms = (ending_at - starting_at).total_seconds() * 1000\n",
    "print(f'{timespan_in_ms} ms for 10 execution of `compute_rect_area`')\n",
    "\n",
    "\n",
    "starting_at = datetime.datetime.now()\n",
    "for _ in range(10):\n",
    "    compute_cube_volume(width=5, length=10,  height=100)\n",
    "ending_at = datetime.datetime.now()\n",
    "\n",
    "timespan_in_ms = (ending_at - starting_at).total_seconds() * 1000\n",
    "print(f'{timespan_in_ms} ms for 10 execution of `compute_cube_volume`')\n"
   ]
  },
  {
   "cell_type": "markdown",
   "id": "3a214e99",
   "metadata": {},
   "source": [
    "# Exercice 3"
   ]
  },
  {
   "cell_type": "code",
   "execution_count": 6,
   "id": "c031a941",
   "metadata": {},
   "outputs": [],
   "source": [
    "import math\n",
    "\n",
    "def from_decimal_to_roman(n):\n",
    "    \n",
    "    letters = [\"I\", \"V\", \"X\", \"L\", \"C\", \"D\", \"M\"]\n",
    "    \n",
    "    decimal_repr = [\n",
    "        math.floor(n/100),\n",
    "        math.floor((n % 100) / 10),\n",
    "        math.floor((n % 10))\n",
    "    ]\n",
    "    chars = []\n",
    "    for idx, part in enumerate(decimal_repr):\n",
    "        print(idx, part)\n",
    "        if part in [1, 2, 3]:\n",
    "            char = \"\".join([letters[7 - 3*idx - 1] for _ in range(part)])\n",
    "        elif part == 4:\n",
    "            char = letters[3*idx] + letters[3*idx + 1] \n",
    "        elif part == 5:\n",
    "            char = letters[7 - idx*3] \n",
    "        elif part == 6:\n",
    "            char = letters[3*idx + 1] + letters[3*idx]\n",
    "        elif part == 7:\n",
    "            char = letters[3*idx + 1] + letters[3*idx]\n",
    "        else:\n",
    "            continue\n",
    "        chars.append(char)\n",
    "\n",
    "        \n",
    "    print(chars)\n",
    "        "
   ]
  },
  {
   "cell_type": "code",
   "execution_count": 16,
   "id": "5c459414",
   "metadata": {},
   "outputs": [
    {
     "name": "stdout",
     "output_type": "stream",
     "text": [
      "0 1\n",
      "1 6\n",
      "2 5\n",
      "['M', 'CL', 'V']\n"
     ]
    }
   ],
   "source": [
    "from_decimal_to_roman(165)"
   ]
  },
  {
   "cell_type": "markdown",
   "id": "7ead155a",
   "metadata": {},
   "source": [
    "# Exercice 4"
   ]
  },
  {
   "cell_type": "markdown",
   "id": "b7c03473",
   "metadata": {},
   "source": [
    "## Question a."
   ]
  },
  {
   "cell_type": "code",
   "execution_count": 8,
   "id": "b712feac",
   "metadata": {},
   "outputs": [
    {
     "name": "stdout",
     "output_type": "stream",
     "text": [
      "True\n",
      "True\n"
     ]
    }
   ],
   "source": [
    "print((1 in {1: \"4\"}.keys()) == (1 in {1: \"4\"}))\n",
    "print((2 in {1: \"4\"}.keys()) == (2 in {1: \"4\"}))"
   ]
  },
  {
   "cell_type": "code",
   "execution_count": 9,
   "id": "108349d1",
   "metadata": {},
   "outputs": [
    {
     "name": "stdout",
     "output_type": "stream",
     "text": [
      "8.419999999999999e-07 ms (M1)\n",
      "1.33e-06 ms (M2)\n",
      "2.538e-06 ms (M3)\n"
     ]
    }
   ],
   "source": [
    "import numpy.random as rdm\n",
    "l = [rdm.randint(1, 101) for _ in range(1000)]\n",
    "\n",
    "import datetime\n",
    "\n",
    "##################################\n",
    "# Méthode 1\n",
    "##################################\n",
    "\n",
    "starting_at = datetime.datetime.now()\n",
    "counts = {}\n",
    "\n",
    "for value in l:\n",
    "    # pour tester\n",
    "    if value not in counts: \n",
    "        counts[value] = 1\n",
    "    else:\n",
    "        counts[value] += 1\n",
    "occurences = sorted(list(counts.values()), reverse=True)\n",
    "top10_occurences = occurences[:10]\n",
    "top10_occurences\n",
    "\n",
    "top10_values = {\n",
    "    k:v for k,v in counts.items()\n",
    "    if v in top10_occurences\n",
    "}\n",
    "# top10_values\n",
    "\n",
    "ending_at = datetime.datetime.now()\n",
    "print((ending_at - starting_at).total_seconds() / 1000, \"ms\", \"(M1)\")\n",
    "\n",
    "##################################\n",
    "# Méthode 2\n",
    "##################################\n",
    "\n",
    "starting_at = datetime.datetime.now()\n",
    "counts = {value: 0 for value in set(l)}\n",
    "for value in l:\n",
    "    counts[value] += 1\n",
    "occurences = sorted(list(counts.values()), reverse=True)\n",
    "\n",
    "{\n",
    "    value:count for value, count in counts.items()\n",
    "    if count in occurences[:10]\n",
    "}\n",
    "\n",
    "ending_at = datetime.datetime.now()\n",
    "print((ending_at - starting_at).total_seconds()  / 1000, \"ms\", \"(M2)\")\n",
    "\n",
    "##################################\n",
    "# Méthode 3\n",
    "##################################\n",
    "\n",
    "starting_at = datetime.datetime.now()\n",
    "all_nb = set(l)\n",
    "\n",
    "number_in_l = {nb: l.count(nb) for nb in all_nb}.items()\n",
    "sorted_array = sorted(number_in_l, key=lambda x:x[1], reverse=True)\n",
    "ending_at = datetime.datetime.now()\n",
    "print((ending_at - starting_at).total_seconds() / 1000, \"ms\", \"(M3)\")"
   ]
  },
  {
   "cell_type": "markdown",
   "id": "714f95c0",
   "metadata": {},
   "source": [
    "## Question b."
   ]
  },
  {
   "cell_type": "code",
   "execution_count": 10,
   "id": "250e393d",
   "metadata": {},
   "outputs": [
    {
     "name": "stdout",
     "output_type": "stream",
     "text": [
      "3.74e-07 ms (Counter)\n"
     ]
    }
   ],
   "source": [
    "from collections import Counter\n",
    "l = [rdm.randint(1, 101) for _ in range(1000)]\n",
    "starting_at = datetime.datetime.now()\n",
    "\n",
    "counter = Counter(l)\n",
    "counter.most_common()[:10]\n",
    "\n",
    "ending_at = datetime.datetime.now()\n",
    "print((ending_at - starting_at).total_seconds() / 1000, \"ms\", \"(Counter)\")"
   ]
  },
  {
   "cell_type": "markdown",
   "id": "33915c37",
   "metadata": {},
   "source": [
    "## Question c."
   ]
  },
  {
   "cell_type": "code",
   "execution_count": 11,
   "id": "bdd491e3",
   "metadata": {},
   "outputs": [
    {
     "name": "stdout",
     "output_type": "stream",
     "text": [
      "1.198e-06 ms (pandas)\n"
     ]
    }
   ],
   "source": [
    "import pandas as pd\n",
    "l = [rdm.randint(1, 101) for _ in range(1000)]\n",
    "\n",
    "starting_at = datetime.datetime.now()\n",
    "\n",
    "pd.Series(l).value_counts().iloc[:10]\n",
    "\n",
    "ending_at = datetime.datetime.now()\n",
    "print((ending_at - starting_at).total_seconds() / 1000, \"ms\", \"(pandas)\")"
   ]
  },
  {
   "cell_type": "markdown",
   "id": "94baad6d",
   "metadata": {},
   "source": [
    "# Exercice 5"
   ]
  },
  {
   "cell_type": "code",
   "execution_count": 12,
   "id": "32223f64",
   "metadata": {},
   "outputs": [
    {
     "name": "stdout",
     "output_type": "stream",
     "text": [
      "[{'id': 1, 'price': 100, 'name': 'white leather shoes'}, {'id': 50, 'price': 120, 'name': 'red leather shoes'}, {'id': 10, 'price': 80, 'name': 'white shirt'}, {'id': 11, 'price': 80, 'name': 'black shirt'}, {'id': 12, 'price': 60, 'name': 'red shirt'}, {'id': 1002, 'price': 90, 'name': 'red glasses'}]\n",
      "\n",
      "\n",
      "[{'id': 340, 'price': 150, 'name': 'black leather shoes'}, {'id': 11, 'price': 80, 'name': 'black shirt'}, {'id': 1001, 'price': 150, 'name': 'black glasses'}]\n",
      "\n",
      "\n",
      "[{'id': 12, 'price': 60, 'name': 'red shirt'}, {'id': 1002, 'price': 90, 'name': 'red glasses'}]\n"
     ]
    }
   ],
   "source": [
    "products = [\n",
    "    # Shoes\n",
    "    {\n",
    "        \"id\": 1,\n",
    "        \"price\": 100,\n",
    "        \"name\": \"white leather shoes\"\n",
    "    },\n",
    "    {\n",
    "        \"id\": 340,\n",
    "        \"price\": 150,\n",
    "        \"name\": \"black leather shoes\"\n",
    "    },\n",
    "    {\n",
    "        \"id\": 50,\n",
    "        \"price\": 120,\n",
    "        \"name\": \"red leather shoes\"\n",
    "    },\n",
    "    # Shirts\n",
    "    {\n",
    "        \"id\": 10,\n",
    "        \"price\": 80,\n",
    "        \"name\": \"white shirt\"\n",
    "    },\n",
    "    {\n",
    "        \"id\": 11,\n",
    "        \"price\": 80,\n",
    "        \"name\": \"black shirt\"      \n",
    "    },\n",
    "    {\n",
    "        \"id\": 12,\n",
    "        \"price\": 60,\n",
    "        \"name\": \"red shirt\"      \n",
    "    },\n",
    "    # Glasses\n",
    "    {\n",
    "        \"id\": 1000,\n",
    "        \"price\": 200,\n",
    "        \"name\": \"white glasses\"      \n",
    "    },\n",
    "    {\n",
    "        \"id\": 1001,\n",
    "        \"price\": 150,\n",
    "        \"name\": \"black glasses\"      \n",
    "    },\n",
    "    {\n",
    "        \"id\": 1002,\n",
    "        \"price\": 90,\n",
    "        \"name\": \"red glasses\"      \n",
    "    },\n",
    "]\n",
    "\n",
    "price_lower_than_120 = [\n",
    "    p for p in products\n",
    "    if p[\"price\"] <= 120\n",
    "]\n",
    "\n",
    "color_black = [\n",
    "    p for p in products\n",
    "    if \"black\" in p[\"name\"] \n",
    "]\n",
    "\n",
    "color_red_price_lower_than_100 = [\n",
    "    p for p in products\n",
    "    if (\"red\" in p[\"name\"]) & (p[\"price\"] <= 100)\n",
    "]\n",
    "\n",
    "\n",
    "print(price_lower_than_120)\n",
    "print(\"\\n\")\n",
    "print(color_black)\n",
    "print(\"\\n\")\n",
    "print(color_red_price_lower_than_100)\n",
    "    \n"
   ]
  },
  {
   "cell_type": "markdown",
   "id": "0abd8c17",
   "metadata": {},
   "source": [
    "# Exercice 6"
   ]
  },
  {
   "cell_type": "code",
   "execution_count": 13,
   "id": "328d3731",
   "metadata": {},
   "outputs": [
    {
     "name": "stdout",
     "output_type": "stream",
     "text": [
      "[1, 2, 3, 4]\n"
     ]
    }
   ],
   "source": [
    "# Example list comprehension of list comprehension\n",
    "nested_list = [[1, 2], [3, 4]]\n",
    "flatten_list = [\n",
    "    value for sub_list in nested_list for value in sub_list\n",
    "]\n",
    "print(flatten_list)"
   ]
  },
  {
   "cell_type": "code",
   "execution_count": 14,
   "id": "5ce01ca9",
   "metadata": {},
   "outputs": [
    {
     "name": "stdout",
     "output_type": "stream",
     "text": [
      "200\n"
     ]
    }
   ],
   "source": [
    "import requests\n",
    "url = \"https://fr.wikipedia.org/wiki/Python_(langage)\"\n",
    "response = requests.get(url)\n",
    "print(response.status_code)"
   ]
  },
  {
   "cell_type": "code",
   "execution_count": 15,
   "id": "29c245b1",
   "metadata": {},
   "outputs": [
    {
     "ename": "NameError",
     "evalue": "name 'soup' is not defined",
     "output_type": "error",
     "traceback": [
      "\u001b[0;31m---------------------------------------------------------------------------\u001b[0m",
      "\u001b[0;31mNameError\u001b[0m                                 Traceback (most recent call last)",
      "Cell \u001b[0;32mIn[15], line 1\u001b[0m\n\u001b[0;32m----> 1\u001b[0m \u001b[38;5;124m\"\u001b[39m\u001b[38;5;124mwikitable sortable\u001b[39m\u001b[38;5;124m\"\u001b[39m \u001b[38;5;129;01min\u001b[39;00m \u001b[38;5;28mstr\u001b[39m(\u001b[43msoup\u001b[49m)\n",
      "\u001b[0;31mNameError\u001b[0m: name 'soup' is not defined"
     ]
    }
   ],
   "source": [
    "\"wikitable sortable\" in str(soup)"
   ]
  },
  {
   "cell_type": "code",
   "execution_count": null,
   "id": "70abab2e",
   "metadata": {},
   "outputs": [],
   "source": [
    "from bs4 import BeautifulSoup\n",
    "# On crée l'objet soup\n",
    "soup = BeautifulSoup(response.content)\n",
    "tables = soup.find_all(\"table\", class_=\"wikitable sortable\")\n",
    "\n",
    "assert len(tables) == 1\n",
    "\n",
    "table = tables[0]"
   ]
  },
  {
   "cell_type": "code",
   "execution_count": null,
   "id": "590586e2",
   "metadata": {},
   "outputs": [
    {
     "data": {
      "text/html": [
       "<div>\n",
       "<style scoped>\n",
       "    .dataframe tbody tr th:only-of-type {\n",
       "        vertical-align: middle;\n",
       "    }\n",
       "\n",
       "    .dataframe tbody tr th {\n",
       "        vertical-align: top;\n",
       "    }\n",
       "\n",
       "    .dataframe thead th {\n",
       "        text-align: right;\n",
       "    }\n",
       "</style>\n",
       "<table border=\"1\" class=\"dataframe\">\n",
       "  <thead>\n",
       "    <tr style=\"text-align: right;\">\n",
       "      <th></th>\n",
       "      <th>Joe Biden</th>\n",
       "      <th>Joe Biden.1</th>\n",
       "    </tr>\n",
       "  </thead>\n",
       "  <tbody>\n",
       "    <tr>\n",
       "      <th>0</th>\n",
       "      <td>Official portrait, 2021</td>\n",
       "      <td>Official portrait, 2021</td>\n",
       "    </tr>\n",
       "    <tr>\n",
       "      <th>1</th>\n",
       "      <td>NaN</td>\n",
       "      <td>NaN</td>\n",
       "    </tr>\n",
       "    <tr>\n",
       "      <th>2</th>\n",
       "      <td>46th President of the United States</td>\n",
       "      <td>46th President of the United States</td>\n",
       "    </tr>\n",
       "    <tr>\n",
       "      <th>3</th>\n",
       "      <td>Incumbent</td>\n",
       "      <td>Incumbent</td>\n",
       "    </tr>\n",
       "    <tr>\n",
       "      <th>4</th>\n",
       "      <td>Assumed office January 20, 2021</td>\n",
       "      <td>Assumed office January 20, 2021</td>\n",
       "    </tr>\n",
       "    <tr>\n",
       "      <th>5</th>\n",
       "      <td>Vice President</td>\n",
       "      <td>Kamala Harris</td>\n",
       "    </tr>\n",
       "    <tr>\n",
       "      <th>6</th>\n",
       "      <td>Preceded by</td>\n",
       "      <td>Donald Trump</td>\n",
       "    </tr>\n",
       "    <tr>\n",
       "      <th>7</th>\n",
       "      <td>47th Vice President of the United States</td>\n",
       "      <td>47th Vice President of the United States</td>\n",
       "    </tr>\n",
       "    <tr>\n",
       "      <th>8</th>\n",
       "      <td>In officeJanuary 20, 2009 – January 20, 2017</td>\n",
       "      <td>In officeJanuary 20, 2009 – January 20, 2017</td>\n",
       "    </tr>\n",
       "    <tr>\n",
       "      <th>9</th>\n",
       "      <td>President</td>\n",
       "      <td>Barack Obama</td>\n",
       "    </tr>\n",
       "    <tr>\n",
       "      <th>10</th>\n",
       "      <td>Preceded by</td>\n",
       "      <td>Dick Cheney</td>\n",
       "    </tr>\n",
       "    <tr>\n",
       "      <th>11</th>\n",
       "      <td>Succeeded by</td>\n",
       "      <td>Mike Pence</td>\n",
       "    </tr>\n",
       "    <tr>\n",
       "      <th>12</th>\n",
       "      <td>United States Senatorfrom Delaware</td>\n",
       "      <td>United States Senatorfrom Delaware</td>\n",
       "    </tr>\n",
       "    <tr>\n",
       "      <th>13</th>\n",
       "      <td>In officeJanuary 3, 1973 – January 15, 2009</td>\n",
       "      <td>In officeJanuary 3, 1973 – January 15, 2009</td>\n",
       "    </tr>\n",
       "    <tr>\n",
       "      <th>14</th>\n",
       "      <td>Preceded by</td>\n",
       "      <td>J. Caleb Boggs</td>\n",
       "    </tr>\n",
       "    <tr>\n",
       "      <th>15</th>\n",
       "      <td>Succeeded by</td>\n",
       "      <td>Ted Kaufman</td>\n",
       "    </tr>\n",
       "    <tr>\n",
       "      <th>16</th>\n",
       "      <td>Member of the New Castle County Councilfrom th...</td>\n",
       "      <td>Member of the New Castle County Councilfrom th...</td>\n",
       "    </tr>\n",
       "    <tr>\n",
       "      <th>17</th>\n",
       "      <td>In officeJanuary 5, 1971 – January 3, 1973</td>\n",
       "      <td>In officeJanuary 5, 1971 – January 3, 1973</td>\n",
       "    </tr>\n",
       "    <tr>\n",
       "      <th>18</th>\n",
       "      <td>Preceded by</td>\n",
       "      <td>Lawrence T. Messick</td>\n",
       "    </tr>\n",
       "    <tr>\n",
       "      <th>19</th>\n",
       "      <td>Succeeded by</td>\n",
       "      <td>Francis R. Swift</td>\n",
       "    </tr>\n",
       "    <tr>\n",
       "      <th>20</th>\n",
       "      <td>Personal details</td>\n",
       "      <td>Personal details</td>\n",
       "    </tr>\n",
       "    <tr>\n",
       "      <th>21</th>\n",
       "      <td>Born</td>\n",
       "      <td>Joseph Robinette Biden Jr. (age 80)Scranton, P...</td>\n",
       "    </tr>\n",
       "    <tr>\n",
       "      <th>22</th>\n",
       "      <td>Political party</td>\n",
       "      <td>Democratic (1969–present)</td>\n",
       "    </tr>\n",
       "    <tr>\n",
       "      <th>23</th>\n",
       "      <td>Other politicalaffiliations</td>\n",
       "      <td>Independent (before 1969)</td>\n",
       "    </tr>\n",
       "    <tr>\n",
       "      <th>24</th>\n",
       "      <td>Spouses</td>\n",
       "      <td>.mw-parser-output .plainlist ol,.mw-parser-out...</td>\n",
       "    </tr>\n",
       "    <tr>\n",
       "      <th>25</th>\n",
       "      <td>Children</td>\n",
       "      <td>.mw-parser-output .hlist dl,.mw-parser-output ...</td>\n",
       "    </tr>\n",
       "    <tr>\n",
       "      <th>26</th>\n",
       "      <td>Relatives</td>\n",
       "      <td>Biden family</td>\n",
       "    </tr>\n",
       "    <tr>\n",
       "      <th>27</th>\n",
       "      <td>Residences</td>\n",
       "      <td>White House Camp David (summer retreat)</td>\n",
       "    </tr>\n",
       "    <tr>\n",
       "      <th>28</th>\n",
       "      <td>Alma mater</td>\n",
       "      <td>University of Delaware (BA) Syracuse Universit...</td>\n",
       "    </tr>\n",
       "    <tr>\n",
       "      <th>29</th>\n",
       "      <td>Occupation</td>\n",
       "      <td>Politicianlawyerauthor</td>\n",
       "    </tr>\n",
       "    <tr>\n",
       "      <th>30</th>\n",
       "      <td>Awards</td>\n",
       "      <td>List of honors and awards</td>\n",
       "    </tr>\n",
       "    <tr>\n",
       "      <th>31</th>\n",
       "      <td>Signature</td>\n",
       "      <td>NaN</td>\n",
       "    </tr>\n",
       "    <tr>\n",
       "      <th>32</th>\n",
       "      <td>Website</td>\n",
       "      <td>Campaign website White House website</td>\n",
       "    </tr>\n",
       "    <tr>\n",
       "      <th>33</th>\n",
       "      <td>.mw-parser-output .side-box{margin:4px 0;box-s...</td>\n",
       "      <td>.mw-parser-output .side-box{margin:4px 0;box-s...</td>\n",
       "    </tr>\n",
       "    <tr>\n",
       "      <th>34</th>\n",
       "      <td>Other offices  2007–2009: Chair of the Interna...</td>\n",
       "      <td>Other offices  2007–2009: Chair of the Interna...</td>\n",
       "    </tr>\n",
       "    <tr>\n",
       "      <th>35</th>\n",
       "      <td>NaN</td>\n",
       "      <td>NaN</td>\n",
       "    </tr>\n",
       "  </tbody>\n",
       "</table>\n",
       "</div>"
      ],
      "text/plain": [
       "                                            Joe Biden  \\\n",
       "0                             Official portrait, 2021   \n",
       "1                                                 NaN   \n",
       "2                 46th President of the United States   \n",
       "3                                           Incumbent   \n",
       "4                     Assumed office January 20, 2021   \n",
       "5                                      Vice President   \n",
       "6                                         Preceded by   \n",
       "7            47th Vice President of the United States   \n",
       "8        In officeJanuary 20, 2009 – January 20, 2017   \n",
       "9                                           President   \n",
       "10                                        Preceded by   \n",
       "11                                       Succeeded by   \n",
       "12                 United States Senatorfrom Delaware   \n",
       "13        In officeJanuary 3, 1973 – January 15, 2009   \n",
       "14                                        Preceded by   \n",
       "15                                       Succeeded by   \n",
       "16  Member of the New Castle County Councilfrom th...   \n",
       "17         In officeJanuary 5, 1971 – January 3, 1973   \n",
       "18                                        Preceded by   \n",
       "19                                       Succeeded by   \n",
       "20                                   Personal details   \n",
       "21                                               Born   \n",
       "22                                    Political party   \n",
       "23                        Other politicalaffiliations   \n",
       "24                                            Spouses   \n",
       "25                                           Children   \n",
       "26                                          Relatives   \n",
       "27                                         Residences   \n",
       "28                                         Alma mater   \n",
       "29                                         Occupation   \n",
       "30                                             Awards   \n",
       "31                                          Signature   \n",
       "32                                            Website   \n",
       "33  .mw-parser-output .side-box{margin:4px 0;box-s...   \n",
       "34  Other offices  2007–2009: Chair of the Interna...   \n",
       "35                                                NaN   \n",
       "\n",
       "                                          Joe Biden.1  \n",
       "0                             Official portrait, 2021  \n",
       "1                                                 NaN  \n",
       "2                 46th President of the United States  \n",
       "3                                           Incumbent  \n",
       "4                     Assumed office January 20, 2021  \n",
       "5                                       Kamala Harris  \n",
       "6                                        Donald Trump  \n",
       "7            47th Vice President of the United States  \n",
       "8        In officeJanuary 20, 2009 – January 20, 2017  \n",
       "9                                        Barack Obama  \n",
       "10                                        Dick Cheney  \n",
       "11                                         Mike Pence  \n",
       "12                 United States Senatorfrom Delaware  \n",
       "13        In officeJanuary 3, 1973 – January 15, 2009  \n",
       "14                                     J. Caleb Boggs  \n",
       "15                                        Ted Kaufman  \n",
       "16  Member of the New Castle County Councilfrom th...  \n",
       "17         In officeJanuary 5, 1971 – January 3, 1973  \n",
       "18                                Lawrence T. Messick  \n",
       "19                                   Francis R. Swift  \n",
       "20                                   Personal details  \n",
       "21  Joseph Robinette Biden Jr. (age 80)Scranton, P...  \n",
       "22                          Democratic (1969–present)  \n",
       "23                          Independent (before 1969)  \n",
       "24  .mw-parser-output .plainlist ol,.mw-parser-out...  \n",
       "25  .mw-parser-output .hlist dl,.mw-parser-output ...  \n",
       "26                                       Biden family  \n",
       "27            White House Camp David (summer retreat)  \n",
       "28  University of Delaware (BA) Syracuse Universit...  \n",
       "29                             Politicianlawyerauthor  \n",
       "30                          List of honors and awards  \n",
       "31                                                NaN  \n",
       "32               Campaign website White House website  \n",
       "33  .mw-parser-output .side-box{margin:4px 0;box-s...  \n",
       "34  Other offices  2007–2009: Chair of the Interna...  \n",
       "35                                                NaN  "
      ]
     },
     "execution_count": 163,
     "metadata": {},
     "output_type": "execute_result"
    }
   ],
   "source": [
    "##################################\n",
    "# Méthode 1\n",
    "##################################\n",
    "\n",
    "colnames = [\n",
    "    th.text.strip(\"\\n\").strip(\"[74]\")\n",
    "    for th in table.find(\"tr\").find_all(\"th\")\n",
    "]\n",
    "\n",
    "\n",
    "values = [\n",
    "    [\n",
    "        td.text\n",
    "        for td in tr.find_all(\"td\")\n",
    "    ]\n",
    "    for tr in table.find_all(\"tr\")\n",
    "]\n",
    "\n",
    "# Les sous listes ont soit 0 soit 4 valeurs\n",
    "set(map(len, values))\n",
    "\n",
    "# La premiere est vide\n",
    "values = values[1:]\n",
    "\n",
    "df = pd.DataFrame(values, columns=colnames)\n",
    "\n",
    "\n",
    "##################################\n",
    "# Méthode 1\n",
    "##################################\n",
    "\n",
    "\n",
    "url = \"https://fr.wikipedia.org/wiki/Python_(langage)\"\n",
    "url = \"https://en.wikipedia.org/wiki/Joe_Biden\"\n",
    "response = requests.get(url)\n",
    "list_of_df = pd.read_html(response.content)\n",
    "df = list_of_df[0]\n",
    "df"
   ]
  },
  {
   "cell_type": "markdown",
   "id": "f7b4ceb8",
   "metadata": {},
   "source": [
    "# Exercice 7"
   ]
  },
  {
   "cell_type": "code",
   "execution_count": null,
   "id": "c1f6f319",
   "metadata": {},
   "outputs": [
    {
     "data": {
      "text/plain": [
       "[1, 2, 3, 4, 5, 6, 8, 10, 12, 15, 20, 24, 30, 40, 60, 120]"
      ]
     },
     "execution_count": 178,
     "metadata": {},
     "output_type": "execute_result"
    }
   ],
   "source": [
    "import math\n",
    "import numpy as np\n",
    "\n",
    "def get_divisors(n):\n",
    "    \"\"\"\n",
    "    Returns the list of positif divisors of `n`\n",
    "    \"\"\"\n",
    "    \n",
    "    if not isinstance(n, int):\n",
    "        raise TypeError(f'{n} should be an integer')\n",
    "    \n",
    "    # in case n is negative, we take the absolute value (abs(-3) = 3 ; abs(6) = 6)\n",
    "    n = np.abs(n)\n",
    "    divisors = []\n",
    "    for i in range(1, n+1):\n",
    "        # checking if n is divisible by i\n",
    "        if n % i == 0:\n",
    "            divisors.append(i)        \n",
    "    return divisors\n",
    "        \n",
    "    \n",
    "get_divisors(120)\n",
    "    \n",
    "    \n",
    "    \n",
    "    \n",
    "    \n",
    "    "
   ]
  },
  {
   "cell_type": "code",
   "execution_count": null,
   "id": "0b422086",
   "metadata": {},
   "outputs": [],
   "source": []
  }
 ],
 "metadata": {
  "kernelspec": {
   "display_name": "Python 3 (ipykernel)",
   "language": "python",
   "name": "python3"
  },
  "language_info": {
   "codemirror_mode": {
    "name": "ipython",
    "version": 3
   },
   "file_extension": ".py",
   "mimetype": "text/x-python",
   "name": "python",
   "nbconvert_exporter": "python",
   "pygments_lexer": "ipython3",
   "version": "3.9.7"
  }
 },
 "nbformat": 4,
 "nbformat_minor": 5
}
