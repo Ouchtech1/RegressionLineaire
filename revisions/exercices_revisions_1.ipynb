{
 "cells": [
  {
   "cell_type": "markdown",
   "id": "04fe7bfd",
   "metadata": {},
   "source": [
    "# [1/3] Exercices de révisions\n",
    "***\n",
    "Ces exercices ont pour but de vous faire réviser en préparation du cours sur Django :\n",
    "- la syntaxe Python \n",
    "    - Boucles\n",
    "    - Tests\n",
    "    - Fonctions\n",
    "    - Manipulation de chaînes de caractères\n",
    "    - List comprehension\n",
    "- des concepts d'algorithmie \n",
    "- bases de scraping\n",
    "- bases de `pandas`"
   ]
  },
  {
   "cell_type": "markdown",
   "id": "e057c2a8",
   "metadata": {},
   "source": [
    "## Exercice 1\n",
    "***\n",
    "a. Écrire une fonction `compute_rect_area` qui prend en argument deux variables `l` et `L` et calcule l'aire d'un rectangle de  dimensions `l` x `L`. Tester cette fonction.\n",
    "\n",
    "b. Écrire une fonction `compute_cube_vol` qui prend en argument deux variables `l` et `L`, `h` et calcule le volume d'un cube de dimensions `l` x `L` x `h`. Tester cette fonction.\n"
   ]
  },
  {
   "cell_type": "markdown",
   "id": "0d1f473f",
   "metadata": {},
   "source": [
    "## Exercice 2\n",
    "***\n",
    "En utilisant la librairie `datetime`, mesurer le temps moyen d'execution des deux fonctions ci-dessus (10 répétitions), avec les paramètres :\n",
    "- a. : `l` = 5 et `L` = 10\n",
    "- b. : `l` = 5 et `L` = 10 et `h` = 100"
   ]
  },
  {
   "cell_type": "markdown",
   "id": "90bc0761",
   "metadata": {},
   "source": [
    "## Exercice 3\n",
    "***\n",
    "Écrire une fonction `from_decimal_to_roman` qui prend en argument un entier `n` compris entre 1 et 999 et renvoie son écriture en chiffre romains.\n",
    "\n",
    "```\n",
    "# Exemple : \n",
    "from_decimal_to_roman(29) # = XXIX\n",
    "\n",
    "```"
   ]
  },
  {
   "cell_type": "markdown",
   "id": "2d72d1a1",
   "metadata": {},
   "source": [
    "## Exercice 4\n",
    "***\n",
    "On définit ci-dessous une liste `l` qui contient 1000 nombres aléatoires entre 1 et 100. \n",
    "\n",
    "a. Sans utiliser de librairies, afficher les 10 valeurs les plus fréquentes, et leur nombre d'occurences.\n",
    "\n",
    "b. Le refaire en utilisant la classe `Counter` de la librairie `collections`\n",
    "\n",
    "b. Le refaire en utilisant la classe `Serie` de la librairie `pandas`\n"
   ]
  },
  {
   "cell_type": "code",
   "execution_count": 9,
   "id": "fc968e36",
   "metadata": {},
   "outputs": [],
   "source": [
    "import numpy.random as rdm\n",
    "l = [rdm.randint(1, 101) for _ in range(1000)]"
   ]
  },
  {
   "cell_type": "markdown",
   "id": "841f33a3",
   "metadata": {},
   "source": [
    "## Exercice 5\n",
    "***\n",
    "En utilisant des list-comprehensions, créer les listes de produits suivantes : \n",
    "- Produits avec un prix inférieur à 120 € \n",
    "- Produits de couleur noire\n",
    "- Produits rouges et qui coûtent moins de 100 €\n"
   ]
  },
  {
   "cell_type": "code",
   "execution_count": 7,
   "id": "60b11a0c",
   "metadata": {},
   "outputs": [],
   "source": [
    "products = [\n",
    "    # Shoes\n",
    "    {\n",
    "        \"id\": 1,\n",
    "        \"price\": 100,\n",
    "        \"name\": \"white leather shoes\"\n",
    "    },\n",
    "    {\n",
    "        \"id\": 340,\n",
    "        \"price\": 150,\n",
    "        \"name\": \"black leather shoes\"\n",
    "    },\n",
    "    {\n",
    "        \"id\": 50,\n",
    "        \"price\": 120,\n",
    "        \"name\": \"red leather shoes\"\n",
    "    },\n",
    "    # Shirts\n",
    "    {\n",
    "        \"id\": 10,\n",
    "        \"price\": 80,\n",
    "        \"name\": \"white shirt\"\n",
    "    },\n",
    "    {\n",
    "        \"id\": 11,\n",
    "        \"price\": 80,\n",
    "        \"name\": \"black shirt\"      \n",
    "    },\n",
    "    {\n",
    "        \"id\": 12,\n",
    "        \"price\": 60,\n",
    "        \"name\": \"red shirt\"      \n",
    "    },\n",
    "    # Glasses\n",
    "    {\n",
    "        \"id\": 1000,\n",
    "        \"price\": 200,\n",
    "        \"name\": \"white glasses\"      \n",
    "    },\n",
    "    {\n",
    "        \"id\": 1001,\n",
    "        \"price\": 150,\n",
    "        \"name\": \"black glasses\"      \n",
    "    },\n",
    "    {\n",
    "        \"id\": 1002,\n",
    "        \"price\": 90,\n",
    "        \"name\": \"red glasses\"      \n",
    "    },\n",
    "]\n"
   ]
  },
  {
   "cell_type": "markdown",
   "id": "6268f288",
   "metadata": {},
   "source": [
    "## Exercice 6\n",
    "***\n",
    "On souhaite scraper la table 'Historique des versions' de la page suivante : https://fr.wikipedia.org/wiki/Python_(langage).\n",
    "\n",
    "a. Créer une liste au format suivant qui contient les données de cette table : \n",
    "\n",
    "```\n",
    "[\n",
    "    {\n",
    "        \"Version\":...,\n",
    "        \"Date de sortie\": ...,\n",
    "        \"Fin de support\": ...,\n",
    "        \"Nouveautés\": ...\n",
    "    },\n",
    "    {\n",
    "        \"Version\":...,\n",
    "        \"Date de sortie\": ...,\n",
    "        \"Fin de support\": ...,\n",
    "        \"Nouveautés\": ...\n",
    "    }\n",
    "]\n",
    "```\n",
    "b. Transformer cette liste en une `pandas.DataFrame` qui a les colonnes suivantes : \n",
    "- \"Version\"\n",
    "- \"Date de sortie\"\n",
    "- \"Fin de support\"\n",
    "- \"Nouveautés\"\n",
    "\n",
    "c. Injecter ces données dans une table SQL. \n",
    "Pour éviter d'avoir à setup PostgreSQL ou MySQL... vous pouvez utiliser SQLite (cf : https://stackoverflow.com/questions/14209868/how-to-work-with-sqlite3-and-python)"
   ]
  },
  {
   "cell_type": "markdown",
   "id": "ca76a5f0",
   "metadata": {},
   "source": [
    "## Exercice 7\n",
    "***\n",
    "Écrire une fonction `get_divisors` qui prend en argument un entier positif `n` et renvoie la liste de ces diviseurs positifs"
   ]
  }
 ],
 "metadata": {
  "kernelspec": {
   "display_name": "Python 3 (ipykernel)",
   "language": "python",
   "name": "python3"
  },
  "language_info": {
   "codemirror_mode": {
    "name": "ipython",
    "version": 3
   },
   "file_extension": ".py",
   "mimetype": "text/x-python",
   "name": "python",
   "nbconvert_exporter": "python",
   "pygments_lexer": "ipython3",
   "version": "3.9.7"
  }
 },
 "nbformat": 4,
 "nbformat_minor": 5
}
