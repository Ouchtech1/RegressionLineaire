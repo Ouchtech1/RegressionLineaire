{
 "cells": [
  {
   "cell_type": "markdown",
   "id": "1ac96a73",
   "metadata": {},
   "source": [
    "# [2/3] Exercices de révisions\n",
    "***\n",
    "\n",
    "- Classes\n",
    "- Héritage de classes"
   ]
  },
  {
   "cell_type": "markdown",
   "id": "f35c1a29",
   "metadata": {},
   "source": [
    "# Exercice 1\n",
    "***\n",
    "\n",
    "Écrire une classe `Alerter` qui : \n",
    "    - définit une méthode principale `.run` qui contient une boucle `while True`\n",
    "    - fait une requête toutes les 1 minutes à la page d'un forum de votre choix\n",
    "    - récupère l'heure et le nom du dernier topic posté dans une section de votre choix\n",
    "    - envoie un mail (https://www.courier.com/blog/three-ways-to-send-emails-using-python-with-code-tutorials/) à l'adresse de votre choix avec les informations, seulement si le mail avec ces informations n'a pas déjà été envoyé."
   ]
  },
  {
   "cell_type": "markdown",
   "id": "fa8134df",
   "metadata": {},
   "source": [
    "## Exercice 2\n",
    "***\n",
    "\n",
    "L'aspect algorithmique de cet exercice n'est pas si évident. \n",
    "- Indice 1 : utiliser `.replace`\n",
    "- Indice 2 : https://prepinsta.com/python-program/program-to-check-the-balance-of-parenthesis/\n",
    "\n",
    "\n",
    "a. Écrire une classe python qui permet de vérifier la validité d'une chaîne de caractères qui ne contient QUE des parenthèses. Une chaîne est correcte si les caractères sont fermés dans le bon ordre. Par exemple : \"()\",  \"()(())()()\" sont correctes mais pas \"a()\", \")(()\" et \"(()()\". Tester avec 5 exemples.\n",
    "\n",
    "b. Écrire une classe python qui permet de vérifier la validité d'une chaîne de caractères qui ne contient QUE des parenthèses, des crochets et des accolades. Une chaîne est correcte si les caractères sont fermés dans le bon ordre. Par exemple : \"()\", \"()[]{}\", \"(())[(){}]{}\" sont correctes mais pas \"[)\", \"({[)]\" and \"{{{\". Tester avec 10 exemples."
   ]
  },
  {
   "cell_type": "markdown",
   "id": "90ebd7bf",
   "metadata": {},
   "source": [
    "## Exercice 3\n",
    "***\n",
    "\n",
    "a. Écrire une classe `Square` qui représente une case d'un échiquier. Elle possède deux attributes : `color` (`white` / `black`) et `occupied_by` qui vaut `None` si aucune pièce n'est dessus et qui prend pour valeur une instance de la future classe `Piece` (une pièce)\n",
    "\n",
    "b. Écrire une classe `Board` qui représente un échiquier elle a pour attribut une liste de liste (8x8) d'instance de type `Square` dont la géométrie est cohérente avec un jeu d'échecs (ie case noire en bas à gauche)\n",
    "\n",
    "c. Écrire une classe `Piece` : seulement deux attributes :: `color` et `type` (qui ne peut valoir que `King` ou `Knight`)\n",
    "\n",
    "d. Initialiser un jeu avec seulement le roi et les deux cavaliers (de chaque côté) à des positions aléatoires (pas deux pièces à la même case, bien respecter a.)\n",
    "\n",
    "e. Écrire une classe CheckChess qui permet de vérifier si un l'un des rois est en position d'échec.\n"
   ]
  }
 ],
 "metadata": {
  "kernelspec": {
   "display_name": "Python 3 (ipykernel)",
   "language": "python",
   "name": "python3"
  },
  "language_info": {
   "codemirror_mode": {
    "name": "ipython",
    "version": 3
   },
   "file_extension": ".py",
   "mimetype": "text/x-python",
   "name": "python",
   "nbconvert_exporter": "python",
   "pygments_lexer": "ipython3",
   "version": "3.9.7"
  }
 },
 "nbformat": 4,
 "nbformat_minor": 5
}
